{
 "cells": [
  {
   "cell_type": "markdown",
   "metadata": {},
   "source": [
    "# URBAN AIR POLLUTION Analysis Using Sensor Data"
   ]
  },
  {
   "cell_type": "raw",
   "metadata": {},
   "source": [
    "# Determining and Comparing Air Quality Index (AQI) from a Live Streaming Database"
   ]
  },
  {
   "cell_type": "raw",
   "metadata": {},
   "source": [
    "  Eight pollutants:\n",
    "             PM 10\n",
    "             PM2.5 \n",
    "             Ozone (O3)\n",
    "             Sulphur dioxide (SO2)\n",
    "             Nitrogen dioxide (NO2)\n",
    "             Carbon monoxide (CO)\n",
    "             Lead (Pb) \n",
    "             Ammonia (NH3) act as major parameters in deriving the AQI of an area."
   ]
  },
  {
   "cell_type": "markdown",
   "metadata": {},
   "source": [
    "# Comparing areas are VELACHERY and PERUNGUDI with 5 MAIN POLLUTANTS"
   ]
  },
  {
   "cell_type": "code",
   "execution_count": 1,
   "metadata": {},
   "outputs": [],
   "source": [
    "import numpy as np\n",
    "import pandas as pd\n",
    "import matplotlib.pyplot as plt\n",
    "import seaborn as sns\n",
    "%matplotlib inline"
   ]
  },
  {
   "cell_type": "code",
   "execution_count": 2,
   "metadata": {},
   "outputs": [],
   "source": [
    "#loading dataset\n",
    "data1= pd.read_csv('velachery_ AIQ2.csv', header=None)"
   ]
  },
  {
   "cell_type": "code",
   "execution_count": 3,
   "metadata": {},
   "outputs": [],
   "source": [
    "#loading dataset\n",
    "data2= pd.read_csv('perungudi_aiq.csv', header=None)"
   ]
  },
  {
   "cell_type": "code",
   "execution_count": 4,
   "metadata": {},
   "outputs": [
    {
     "data": {
      "text/html": [
       "<div>\n",
       "<style scoped>\n",
       "    .dataframe tbody tr th:only-of-type {\n",
       "        vertical-align: middle;\n",
       "    }\n",
       "\n",
       "    .dataframe tbody tr th {\n",
       "        vertical-align: top;\n",
       "    }\n",
       "\n",
       "    .dataframe thead th {\n",
       "        text-align: right;\n",
       "    }\n",
       "</style>\n",
       "<table border=\"1\" class=\"dataframe\">\n",
       "  <thead>\n",
       "    <tr style=\"text-align: right;\">\n",
       "      <th></th>\n",
       "      <th>0</th>\n",
       "      <th>1</th>\n",
       "      <th>2</th>\n",
       "      <th>3</th>\n",
       "      <th>4</th>\n",
       "      <th>5</th>\n",
       "      <th>6</th>\n",
       "      <th>7</th>\n",
       "      <th>8</th>\n",
       "      <th>9</th>\n",
       "      <th>10</th>\n",
       "      <th>11</th>\n",
       "    </tr>\n",
       "  </thead>\n",
       "  <tbody>\n",
       "    <tr>\n",
       "      <th>0</th>\n",
       "      <td>Date</td>\n",
       "      <td>CO</td>\n",
       "      <td>NO</td>\n",
       "      <td>NO2</td>\n",
       "      <td>NOx</td>\n",
       "      <td>SO2</td>\n",
       "      <td>PM2.5</td>\n",
       "      <td>Ozone</td>\n",
       "      <td>WD</td>\n",
       "      <td>SR</td>\n",
       "      <td>T=86.13</td>\n",
       "      <td>R=1.25</td>\n",
       "    </tr>\n",
       "    <tr>\n",
       "      <th>1</th>\n",
       "      <td>01-01-2021</td>\n",
       "      <td>0.48</td>\n",
       "      <td>0.39</td>\n",
       "      <td>8.98</td>\n",
       "      <td>9.37</td>\n",
       "      <td>24.87</td>\n",
       "      <td>39.08</td>\n",
       "      <td>28.57</td>\n",
       "      <td>51.76</td>\n",
       "      <td>72.72</td>\n",
       "      <td>85.47</td>\n",
       "      <td>1.36</td>\n",
       "    </tr>\n",
       "    <tr>\n",
       "      <th>2</th>\n",
       "      <td>02-01-2021</td>\n",
       "      <td>0.54</td>\n",
       "      <td>0.51</td>\n",
       "      <td>15.15</td>\n",
       "      <td>15.66</td>\n",
       "      <td>24.73</td>\n",
       "      <td>37.73</td>\n",
       "      <td>20.98</td>\n",
       "      <td>87.63</td>\n",
       "      <td>26.32</td>\n",
       "      <td>82.78</td>\n",
       "      <td>1.33</td>\n",
       "    </tr>\n",
       "    <tr>\n",
       "      <th>3</th>\n",
       "      <td>03-01-2021</td>\n",
       "      <td>0.52</td>\n",
       "      <td>0.37</td>\n",
       "      <td>9.42</td>\n",
       "      <td>9.79</td>\n",
       "      <td>23.82</td>\n",
       "      <td>32.69</td>\n",
       "      <td>12.67</td>\n",
       "      <td>72.54</td>\n",
       "      <td>43.12</td>\n",
       "      <td>93.15</td>\n",
       "      <td>0.9</td>\n",
       "    </tr>\n",
       "    <tr>\n",
       "      <th>4</th>\n",
       "      <td>04-01-2021</td>\n",
       "      <td>0.59</td>\n",
       "      <td>1.09</td>\n",
       "      <td>10.91</td>\n",
       "      <td>12</td>\n",
       "      <td>24.81</td>\n",
       "      <td>42.69</td>\n",
       "      <td>14.29</td>\n",
       "      <td>58.93</td>\n",
       "      <td>68.59</td>\n",
       "      <td>92.27</td>\n",
       "      <td>0.93</td>\n",
       "    </tr>\n",
       "  </tbody>\n",
       "</table>\n",
       "</div>"
      ],
      "text/plain": [
       "           0     1     2      3      4      5      6      7      8      9   \\\n",
       "0        Date    CO    NO    NO2    NOx    SO2  PM2.5  Ozone     WD     SR   \n",
       "1  01-01-2021  0.48  0.39   8.98   9.37  24.87  39.08  28.57  51.76  72.72   \n",
       "2  02-01-2021  0.54  0.51  15.15  15.66  24.73  37.73  20.98  87.63  26.32   \n",
       "3  03-01-2021  0.52  0.37   9.42   9.79  23.82  32.69  12.67  72.54  43.12   \n",
       "4  04-01-2021  0.59  1.09  10.91     12  24.81  42.69  14.29  58.93  68.59   \n",
       "\n",
       "        10      11  \n",
       "0  T=86.13  R=1.25  \n",
       "1    85.47    1.36  \n",
       "2    82.78    1.33  \n",
       "3    93.15     0.9  \n",
       "4    92.27    0.93  "
      ]
     },
     "execution_count": 4,
     "metadata": {},
     "output_type": "execute_result"
    }
   ],
   "source": [
    "data1.head()"
   ]
  },
  {
   "cell_type": "code",
   "execution_count": 5,
   "metadata": {},
   "outputs": [
    {
     "data": {
      "text/html": [
       "<div>\n",
       "<style scoped>\n",
       "    .dataframe tbody tr th:only-of-type {\n",
       "        vertical-align: middle;\n",
       "    }\n",
       "\n",
       "    .dataframe tbody tr th {\n",
       "        vertical-align: top;\n",
       "    }\n",
       "\n",
       "    .dataframe thead th {\n",
       "        text-align: right;\n",
       "    }\n",
       "</style>\n",
       "<table border=\"1\" class=\"dataframe\">\n",
       "  <thead>\n",
       "    <tr style=\"text-align: right;\">\n",
       "      <th></th>\n",
       "      <th>0</th>\n",
       "      <th>1</th>\n",
       "      <th>2</th>\n",
       "      <th>3</th>\n",
       "      <th>4</th>\n",
       "      <th>5</th>\n",
       "      <th>6</th>\n",
       "      <th>7</th>\n",
       "      <th>8</th>\n",
       "      <th>9</th>\n",
       "      <th>10</th>\n",
       "      <th>11</th>\n",
       "    </tr>\n",
       "  </thead>\n",
       "  <tbody>\n",
       "    <tr>\n",
       "      <th>0</th>\n",
       "      <td>Date</td>\n",
       "      <td>PM2.5</td>\n",
       "      <td>NO</td>\n",
       "      <td>NO2</td>\n",
       "      <td>NOx</td>\n",
       "      <td>SO2</td>\n",
       "      <td>CO</td>\n",
       "      <td>Ozone</td>\n",
       "      <td>WD</td>\n",
       "      <td>SR</td>\n",
       "      <td>Temp</td>\n",
       "      <td>RH</td>\n",
       "    </tr>\n",
       "    <tr>\n",
       "      <th>1</th>\n",
       "      <td>01-01-2021</td>\n",
       "      <td>45.75</td>\n",
       "      <td>0.83</td>\n",
       "      <td>3.44</td>\n",
       "      <td>2.49</td>\n",
       "      <td>4.83</td>\n",
       "      <td>1.43</td>\n",
       "      <td>1.63</td>\n",
       "      <td>163.28</td>\n",
       "      <td>122.99</td>\n",
       "      <td>28.97</td>\n",
       "      <td>NaN</td>\n",
       "    </tr>\n",
       "    <tr>\n",
       "      <th>2</th>\n",
       "      <td>02-01-2021</td>\n",
       "      <td>48.51</td>\n",
       "      <td>1</td>\n",
       "      <td>6.35</td>\n",
       "      <td>4.19</td>\n",
       "      <td>4.77</td>\n",
       "      <td>2.96</td>\n",
       "      <td>0.91</td>\n",
       "      <td>231.79</td>\n",
       "      <td>42.2</td>\n",
       "      <td>28.76</td>\n",
       "      <td>NaN</td>\n",
       "    </tr>\n",
       "    <tr>\n",
       "      <th>3</th>\n",
       "      <td>03-01-2021</td>\n",
       "      <td>35.51</td>\n",
       "      <td>0.93</td>\n",
       "      <td>4.21</td>\n",
       "      <td>2.99</td>\n",
       "      <td>3.85</td>\n",
       "      <td>NaN</td>\n",
       "      <td>1.33</td>\n",
       "      <td>162.26</td>\n",
       "      <td>59.02</td>\n",
       "      <td>28.68</td>\n",
       "      <td>NaN</td>\n",
       "    </tr>\n",
       "    <tr>\n",
       "      <th>4</th>\n",
       "      <td>04-01-2021</td>\n",
       "      <td>20.24</td>\n",
       "      <td>1.07</td>\n",
       "      <td>5.48</td>\n",
       "      <td>3.8</td>\n",
       "      <td>2.46</td>\n",
       "      <td>2.79</td>\n",
       "      <td>1.5</td>\n",
       "      <td>178.46</td>\n",
       "      <td>92.53</td>\n",
       "      <td>28.72</td>\n",
       "      <td>NaN</td>\n",
       "    </tr>\n",
       "  </tbody>\n",
       "</table>\n",
       "</div>"
      ],
      "text/plain": [
       "           0      1     2     3     4     5     6      7       8       9   \\\n",
       "0        Date  PM2.5    NO   NO2   NOx   SO2    CO  Ozone      WD      SR   \n",
       "1  01-01-2021  45.75  0.83  3.44  2.49  4.83  1.43   1.63  163.28  122.99   \n",
       "2  02-01-2021  48.51     1  6.35  4.19  4.77  2.96   0.91  231.79    42.2   \n",
       "3  03-01-2021  35.51  0.93  4.21  2.99  3.85   NaN   1.33  162.26   59.02   \n",
       "4  04-01-2021  20.24  1.07  5.48   3.8  2.46  2.79    1.5  178.46   92.53   \n",
       "\n",
       "      10   11  \n",
       "0   Temp   RH  \n",
       "1  28.97  NaN  \n",
       "2  28.76  NaN  \n",
       "3  28.68  NaN  \n",
       "4  28.72  NaN  "
      ]
     },
     "execution_count": 5,
     "metadata": {},
     "output_type": "execute_result"
    }
   ],
   "source": [
    "data2.head()"
   ]
  },
  {
   "cell_type": "code",
   "execution_count": 6,
   "metadata": {},
   "outputs": [],
   "source": [
    "#defining headers(Capitalized)\n",
    "col=['DATE','CO','NO','NOx','SO2','PM2.5',\n",
    "     'Ozone','WD','SR','T=86.13','R=1.25']\n",
    "col1=['DATE','PM2.5','NO','NO2','NOx','SO2','CO',\n",
    "     'Ozone','WD','SR','Temp','RH']"
   ]
  },
  {
   "cell_type": "code",
   "execution_count": 7,
   "metadata": {},
   "outputs": [],
   "source": [
    "#Defining col numbers\n",
    "r=list(np.arange(len(col)))\n",
    "r1=list(np.arange(len(col1)))"
   ]
  },
  {
   "cell_type": "code",
   "execution_count": 8,
   "metadata": {},
   "outputs": [
    {
     "data": {
      "text/html": [
       "<div>\n",
       "<style scoped>\n",
       "    .dataframe tbody tr th:only-of-type {\n",
       "        vertical-align: middle;\n",
       "    }\n",
       "\n",
       "    .dataframe tbody tr th {\n",
       "        vertical-align: top;\n",
       "    }\n",
       "\n",
       "    .dataframe thead th {\n",
       "        text-align: right;\n",
       "    }\n",
       "</style>\n",
       "<table border=\"1\" class=\"dataframe\">\n",
       "  <thead>\n",
       "    <tr style=\"text-align: right;\">\n",
       "      <th></th>\n",
       "      <th>Date</th>\n",
       "      <th>CO</th>\n",
       "      <th>NO</th>\n",
       "      <th>NO2</th>\n",
       "      <th>NOx</th>\n",
       "      <th>SO2</th>\n",
       "      <th>PM2.5</th>\n",
       "      <th>Ozone</th>\n",
       "      <th>WD</th>\n",
       "      <th>SR</th>\n",
       "      <th>T=86.13</th>\n",
       "      <th>R=1.25</th>\n",
       "    </tr>\n",
       "  </thead>\n",
       "  <tbody>\n",
       "    <tr>\n",
       "      <th>0</th>\n",
       "      <td>01-01-2021</td>\n",
       "      <td>0.48</td>\n",
       "      <td>0.39</td>\n",
       "      <td>8.98</td>\n",
       "      <td>9.37</td>\n",
       "      <td>24.87</td>\n",
       "      <td>39.08</td>\n",
       "      <td>28.57</td>\n",
       "      <td>51.76</td>\n",
       "      <td>72.72</td>\n",
       "      <td>85.47</td>\n",
       "      <td>1.36</td>\n",
       "    </tr>\n",
       "    <tr>\n",
       "      <th>1</th>\n",
       "      <td>02-01-2021</td>\n",
       "      <td>0.54</td>\n",
       "      <td>0.51</td>\n",
       "      <td>15.15</td>\n",
       "      <td>15.66</td>\n",
       "      <td>24.73</td>\n",
       "      <td>37.73</td>\n",
       "      <td>20.98</td>\n",
       "      <td>87.63</td>\n",
       "      <td>26.32</td>\n",
       "      <td>82.78</td>\n",
       "      <td>1.33</td>\n",
       "    </tr>\n",
       "    <tr>\n",
       "      <th>2</th>\n",
       "      <td>03-01-2021</td>\n",
       "      <td>0.52</td>\n",
       "      <td>0.37</td>\n",
       "      <td>9.42</td>\n",
       "      <td>9.79</td>\n",
       "      <td>23.82</td>\n",
       "      <td>32.69</td>\n",
       "      <td>12.67</td>\n",
       "      <td>72.54</td>\n",
       "      <td>43.12</td>\n",
       "      <td>93.15</td>\n",
       "      <td>0.90</td>\n",
       "    </tr>\n",
       "  </tbody>\n",
       "</table>\n",
       "</div>"
      ],
      "text/plain": [
       "         Date    CO    NO    NO2    NOx    SO2  PM2.5  Ozone     WD     SR  \\\n",
       "0  01-01-2021  0.48  0.39   8.98   9.37  24.87  39.08  28.57  51.76  72.72   \n",
       "1  02-01-2021  0.54  0.51  15.15  15.66  24.73  37.73  20.98  87.63  26.32   \n",
       "2  03-01-2021  0.52  0.37   9.42   9.79  23.82  32.69  12.67  72.54  43.12   \n",
       "\n",
       "   T=86.13  R=1.25  \n",
       "0    85.47    1.36  \n",
       "1    82.78    1.33  \n",
       "2    93.15    0.90  "
      ]
     },
     "execution_count": 8,
     "metadata": {},
     "output_type": "execute_result"
    }
   ],
   "source": [
    "df1=pd.read_csv('velachery_ AIQ2.csv')\n",
    "df1.head(3)"
   ]
  },
  {
   "cell_type": "code",
   "execution_count": 9,
   "metadata": {},
   "outputs": [
    {
     "data": {
      "text/html": [
       "<div>\n",
       "<style scoped>\n",
       "    .dataframe tbody tr th:only-of-type {\n",
       "        vertical-align: middle;\n",
       "    }\n",
       "\n",
       "    .dataframe tbody tr th {\n",
       "        vertical-align: top;\n",
       "    }\n",
       "\n",
       "    .dataframe thead th {\n",
       "        text-align: right;\n",
       "    }\n",
       "</style>\n",
       "<table border=\"1\" class=\"dataframe\">\n",
       "  <thead>\n",
       "    <tr style=\"text-align: right;\">\n",
       "      <th></th>\n",
       "      <th>DATE</th>\n",
       "      <th>PM2.5</th>\n",
       "      <th>NO</th>\n",
       "      <th>NO2</th>\n",
       "      <th>NOx</th>\n",
       "      <th>SO2</th>\n",
       "      <th>CO</th>\n",
       "      <th>Ozone</th>\n",
       "      <th>WD</th>\n",
       "      <th>SR</th>\n",
       "      <th>Temp</th>\n",
       "      <th>RH</th>\n",
       "    </tr>\n",
       "  </thead>\n",
       "  <tbody>\n",
       "    <tr>\n",
       "      <th>0</th>\n",
       "      <td>01-01-2021</td>\n",
       "      <td>45.75</td>\n",
       "      <td>0.83</td>\n",
       "      <td>3.44</td>\n",
       "      <td>2.49</td>\n",
       "      <td>4.83</td>\n",
       "      <td>1.43</td>\n",
       "      <td>1.63</td>\n",
       "      <td>163.28</td>\n",
       "      <td>122.99</td>\n",
       "      <td>28.97</td>\n",
       "      <td>NaN</td>\n",
       "    </tr>\n",
       "    <tr>\n",
       "      <th>1</th>\n",
       "      <td>02-01-2021</td>\n",
       "      <td>48.51</td>\n",
       "      <td>1.00</td>\n",
       "      <td>6.35</td>\n",
       "      <td>4.19</td>\n",
       "      <td>4.77</td>\n",
       "      <td>2.96</td>\n",
       "      <td>0.91</td>\n",
       "      <td>231.79</td>\n",
       "      <td>42.20</td>\n",
       "      <td>28.76</td>\n",
       "      <td>NaN</td>\n",
       "    </tr>\n",
       "    <tr>\n",
       "      <th>2</th>\n",
       "      <td>03-01-2021</td>\n",
       "      <td>35.51</td>\n",
       "      <td>0.93</td>\n",
       "      <td>4.21</td>\n",
       "      <td>2.99</td>\n",
       "      <td>3.85</td>\n",
       "      <td>NaN</td>\n",
       "      <td>1.33</td>\n",
       "      <td>162.26</td>\n",
       "      <td>59.02</td>\n",
       "      <td>28.68</td>\n",
       "      <td>NaN</td>\n",
       "    </tr>\n",
       "  </tbody>\n",
       "</table>\n",
       "</div>"
      ],
      "text/plain": [
       "         DATE  PM2.5    NO   NO2   NOx   SO2    CO  Ozone      WD      SR  \\\n",
       "0  01-01-2021  45.75  0.83  3.44  2.49  4.83  1.43   1.63  163.28  122.99   \n",
       "1  02-01-2021  48.51  1.00  6.35  4.19  4.77  2.96   0.91  231.79   42.20   \n",
       "2  03-01-2021  35.51  0.93  4.21  2.99  3.85   NaN   1.33  162.26   59.02   \n",
       "\n",
       "    Temp  RH  \n",
       "0  28.97 NaN  \n",
       "1  28.76 NaN  \n",
       "2  28.68 NaN  "
      ]
     },
     "execution_count": 9,
     "metadata": {},
     "output_type": "execute_result"
    }
   ],
   "source": [
    "df2=pd.read_csv('perungudi_aiq.csv',header=None,skiprows=1,names=col1,usecols=r1)\n",
    "df2.head(3)"
   ]
  },
  {
   "cell_type": "code",
   "execution_count": 10,
   "metadata": {},
   "outputs": [
    {
     "data": {
      "text/plain": [
       "Date        object\n",
       "CO         float64\n",
       "NO         float64\n",
       "NO2        float64\n",
       "NOx        float64\n",
       "SO2        float64\n",
       "PM2.5      float64\n",
       "Ozone      float64\n",
       "WD         float64\n",
       "SR         float64\n",
       "T=86.13    float64\n",
       "R=1.25     float64\n",
       "dtype: object"
      ]
     },
     "execution_count": 10,
     "metadata": {},
     "output_type": "execute_result"
    }
   ],
   "source": [
    "df1.dtypes"
   ]
  },
  {
   "cell_type": "code",
   "execution_count": 11,
   "metadata": {},
   "outputs": [
    {
     "data": {
      "text/plain": [
       "DATE      object\n",
       "PM2.5    float64\n",
       "NO       float64\n",
       "NO2      float64\n",
       "NOx      float64\n",
       "SO2      float64\n",
       "CO       float64\n",
       "Ozone    float64\n",
       "WD       float64\n",
       "SR       float64\n",
       "Temp     float64\n",
       "RH       float64\n",
       "dtype: object"
      ]
     },
     "execution_count": 11,
     "metadata": {},
     "output_type": "execute_result"
    }
   ],
   "source": [
    "df2.dtypes"
   ]
  },
  {
   "cell_type": "markdown",
   "metadata": {},
   "source": [
    "# Predicting NaN Values using Support Vector Regression"
   ]
  },
  {
   "cell_type": "code",
   "execution_count": 12,
   "metadata": {},
   "outputs": [],
   "source": [
    "# Check for Missing values"
   ]
  },
  {
   "cell_type": "code",
   "execution_count": 13,
   "metadata": {},
   "outputs": [
    {
     "name": "stdout",
     "output_type": "stream",
     "text": [
      "Missing values:\n",
      "\n",
      " Date        0\n",
      "CO          0\n",
      "NO          0\n",
      "NO2         1\n",
      "NOx         0\n",
      "SO2        12\n",
      "PM2.5       0\n",
      "Ozone       0\n",
      "WD          0\n",
      "SR          0\n",
      "T=86.13     2\n",
      "R=1.25      2\n",
      "dtype: int64\n",
      "\n",
      "\n"
     ]
    }
   ],
   "source": [
    "#Counting Missing Values from each Column\n",
    "print('Missing values:\\n\\n',df1.shape[0]-df1.count())\n",
    "clean=(df1.shape[0]-df1.count()).sum()\n",
    "print(\"\\n\")\n",
    "if(clean==0):\n",
    "    print(\"No Missing Values\")"
   ]
  },
  {
   "cell_type": "code",
   "execution_count": 14,
   "metadata": {},
   "outputs": [
    {
     "name": "stdout",
     "output_type": "stream",
     "text": [
      "Missing values:\n",
      "\n",
      " DATE      0\n",
      "PM2.5     0\n",
      "NO        0\n",
      "NO2       0\n",
      "NOx       0\n",
      "SO2       0\n",
      "CO       53\n",
      "Ozone     2\n",
      "WD        4\n",
      "SR        0\n",
      "Temp      0\n",
      "RH       86\n",
      "dtype: int64\n",
      "\n",
      "\n"
     ]
    }
   ],
   "source": [
    "#Counting Missing Values from each Column\n",
    "print('Missing values:\\n\\n',df2.shape[0]-df2.count())\n",
    "clean=(df2.shape[0]-df2.count()).sum()\n",
    "print(\"\\n\")\n",
    "if(clean==0):\n",
    "    print(\"No Missing Values\")"
   ]
  },
  {
   "cell_type": "markdown",
   "metadata": {},
   "source": [
    "# Predicting SO2 and NO2 values"
   ]
  },
  {
   "cell_type": "code",
   "execution_count": 15,
   "metadata": {},
   "outputs": [],
   "source": [
    "from sklearn.svm import SVR"
   ]
  },
  {
   "cell_type": "code",
   "execution_count": 16,
   "metadata": {},
   "outputs": [
    {
     "name": "stdout",
     "output_type": "stream",
     "text": [
      "               CO        NO       NO2       NOx       SO2     PM2.5     Ozone  \\\n",
      "CO       1.000000  0.077610 -0.048057  0.012900  0.098866  0.248114 -0.250532   \n",
      "NO       0.077610  1.000000  0.460756  0.784548 -0.136421 -0.220154 -0.134501   \n",
      "NO2     -0.048057  0.460756  1.000000  0.907699  0.164358 -0.138311 -0.105579   \n",
      "NOx      0.012900  0.784548  0.907699  1.000000 -0.030550 -0.195464 -0.144476   \n",
      "SO2      0.098866 -0.136421  0.164358 -0.030550  1.000000  0.345155 -0.233651   \n",
      "PM2.5    0.248114 -0.220154 -0.138311 -0.195464  0.345155  1.000000 -0.208644   \n",
      "Ozone   -0.250532 -0.134501 -0.105579 -0.144476 -0.233651 -0.208644  1.000000   \n",
      "WD       0.074509  0.252192 -0.244961 -0.006050 -0.391172 -0.209487 -0.098428   \n",
      "SR      -0.092005 -0.142812 -0.459561 -0.364246 -0.670064 -0.078378  0.306880   \n",
      "T=86.13  0.230206  0.147337  0.313419  0.324162  0.092768  0.174110 -0.327280   \n",
      "R=1.25  -0.302415  0.062522 -0.033050  0.023292 -0.262691  0.005355  0.289591   \n",
      "\n",
      "               WD        SR   T=86.13    R=1.25  \n",
      "CO       0.074509 -0.092005  0.230206 -0.302415  \n",
      "NO       0.252192 -0.142812  0.147337  0.062522  \n",
      "NO2     -0.244961 -0.459561  0.313419 -0.033050  \n",
      "NOx     -0.006050 -0.364246  0.324162  0.023292  \n",
      "SO2     -0.391172 -0.670064  0.092768 -0.262691  \n",
      "PM2.5   -0.209487 -0.078378  0.174110  0.005355  \n",
      "Ozone   -0.098428  0.306880 -0.327280  0.289591  \n",
      "WD       1.000000  0.491592 -0.323376  0.129189  \n",
      "SR       0.491592  1.000000 -0.581457  0.306440  \n",
      "T=86.13 -0.323376 -0.581457  1.000000 -0.352168  \n",
      "R=1.25   0.129189  0.306440 -0.352168  1.000000  \n"
     ]
    }
   ],
   "source": [
    "#print the correlation matrix\n",
    "print(df1.corr())"
   ]
  },
  {
   "cell_type": "code",
   "execution_count": 17,
   "metadata": {},
   "outputs": [],
   "source": [
    "#Split training and prediction dataset\n",
    "cols = [\"CO\",\"NO\",\"PM2.5\", \"Ozone\", \"NOx\", \"SO2\",\"WD\",\"SR\"]\n",
    "df = df1[cols]\n",
    "test_df = df[df[\"SO2\"].isnull()]\n",
    "df = df.dropna()"
   ]
  },
  {
   "cell_type": "code",
   "execution_count": 18,
   "metadata": {
    "scrolled": true
   },
   "outputs": [],
   "source": [
    "y_train = df[\"SO2\"]\n",
    "X_train = df.drop(\"SO2\", axis=1)\n",
    "X_test = test_df.drop(\"SO2\", axis=1)"
   ]
  },
  {
   "cell_type": "code",
   "execution_count": 19,
   "metadata": {},
   "outputs": [],
   "source": [
    "sv = SVR()\n",
    "sv.fit(X_train, y_train)\n",
    "y_pred = sv.predict(X_test)"
   ]
  },
  {
   "cell_type": "code",
   "execution_count": 20,
   "metadata": {},
   "outputs": [],
   "source": [
    "#replace the missing values with predicted values\n",
    "df1.loc[df1.SO2.isnull(), 'SO2'] = y_pred"
   ]
  },
  {
   "cell_type": "code",
   "execution_count": 21,
   "metadata": {},
   "outputs": [
    {
     "data": {
      "text/plain": [
       "array([10.91457285, 10.12149283, 10.60293591, 13.69322025,  9.91564573,\n",
       "        8.77835734, 11.67318946, 10.54056923, 11.84718704, 14.07953866,\n",
       "       11.78680691, 10.79436384])"
      ]
     },
     "execution_count": 21,
     "metadata": {},
     "output_type": "execute_result"
    }
   ],
   "source": [
    "y_pred"
   ]
  },
  {
   "cell_type": "code",
   "execution_count": null,
   "metadata": {},
   "outputs": [],
   "source": []
  },
  {
   "cell_type": "markdown",
   "metadata": {},
   "source": [
    "# Predicting NO2 values"
   ]
  },
  {
   "cell_type": "code",
   "execution_count": 22,
   "metadata": {},
   "outputs": [],
   "source": [
    "#Split training and prediction dataset\n",
    "cols = [\"CO\",\"NO\",\"NO2\",\"PM2.5\", \"Ozone\", \"NOx\", \"SO2\",\"WD\",\"SR\"]\n",
    "df = df1[cols]\n",
    "test_df = df[df[\"NO2\"].isnull()]\n",
    "df = df.dropna()"
   ]
  },
  {
   "cell_type": "code",
   "execution_count": 23,
   "metadata": {},
   "outputs": [],
   "source": [
    "y_train = df[\"NO2\"]\n",
    "X_train = df.drop(\"NO2\", axis=1)\n",
    "X_test = test_df.drop(\"NO2\", axis=1)"
   ]
  },
  {
   "cell_type": "code",
   "execution_count": 24,
   "metadata": {},
   "outputs": [],
   "source": [
    "sv = SVR()\n",
    "sv.fit(X_train, y_train)\n",
    "y_pred = sv.predict(X_test)"
   ]
  },
  {
   "cell_type": "code",
   "execution_count": 25,
   "metadata": {},
   "outputs": [],
   "source": [
    "#replace the missing values with predicted values\n",
    "df1.loc[df1.NO2.isnull(), 'NO2'] = y_pred"
   ]
  },
  {
   "cell_type": "code",
   "execution_count": 26,
   "metadata": {},
   "outputs": [
    {
     "data": {
      "text/plain": [
       "array([10.18134897])"
      ]
     },
     "execution_count": 26,
     "metadata": {},
     "output_type": "execute_result"
    }
   ],
   "source": [
    "y_pred"
   ]
  },
  {
   "cell_type": "code",
   "execution_count": 27,
   "metadata": {},
   "outputs": [],
   "source": [
    "#Replacing NaN values with 0"
   ]
  },
  {
   "cell_type": "code",
   "execution_count": 28,
   "metadata": {},
   "outputs": [],
   "source": [
    "df1['T=86.13']=df1['T=86.13'].replace(np.nan,0)"
   ]
  },
  {
   "cell_type": "code",
   "execution_count": 29,
   "metadata": {},
   "outputs": [],
   "source": [
    "df1['R=1.25']=df1['R=1.25'].replace(np.nan,0)"
   ]
  },
  {
   "cell_type": "code",
   "execution_count": 30,
   "metadata": {},
   "outputs": [
    {
     "data": {
      "text/html": [
       "<div>\n",
       "<style scoped>\n",
       "    .dataframe tbody tr th:only-of-type {\n",
       "        vertical-align: middle;\n",
       "    }\n",
       "\n",
       "    .dataframe tbody tr th {\n",
       "        vertical-align: top;\n",
       "    }\n",
       "\n",
       "    .dataframe thead th {\n",
       "        text-align: right;\n",
       "    }\n",
       "</style>\n",
       "<table border=\"1\" class=\"dataframe\">\n",
       "  <thead>\n",
       "    <tr style=\"text-align: right;\">\n",
       "      <th></th>\n",
       "      <th>Date</th>\n",
       "      <th>CO</th>\n",
       "      <th>NO</th>\n",
       "      <th>NO2</th>\n",
       "      <th>NOx</th>\n",
       "      <th>SO2</th>\n",
       "      <th>PM2.5</th>\n",
       "      <th>Ozone</th>\n",
       "      <th>WD</th>\n",
       "      <th>SR</th>\n",
       "      <th>T=86.13</th>\n",
       "      <th>R=1.25</th>\n",
       "    </tr>\n",
       "  </thead>\n",
       "  <tbody>\n",
       "    <tr>\n",
       "      <th>83</th>\n",
       "      <td>25-03-2021</td>\n",
       "      <td>0.59</td>\n",
       "      <td>1.69</td>\n",
       "      <td>3.73</td>\n",
       "      <td>5.43</td>\n",
       "      <td>11.786807</td>\n",
       "      <td>105.51</td>\n",
       "      <td>11.68</td>\n",
       "      <td>141.85</td>\n",
       "      <td>211.67</td>\n",
       "      <td>71.73</td>\n",
       "      <td>1.31</td>\n",
       "    </tr>\n",
       "    <tr>\n",
       "      <th>84</th>\n",
       "      <td>26-03-2021</td>\n",
       "      <td>0.59</td>\n",
       "      <td>1.71</td>\n",
       "      <td>3.74</td>\n",
       "      <td>5.45</td>\n",
       "      <td>10.794364</td>\n",
       "      <td>33.05</td>\n",
       "      <td>16.14</td>\n",
       "      <td>136.94</td>\n",
       "      <td>183.79</td>\n",
       "      <td>0.00</td>\n",
       "      <td>0.00</td>\n",
       "    </tr>\n",
       "    <tr>\n",
       "      <th>85</th>\n",
       "      <td>27-03-2021</td>\n",
       "      <td>0.54</td>\n",
       "      <td>1.73</td>\n",
       "      <td>3.74</td>\n",
       "      <td>5.48</td>\n",
       "      <td>2.490000</td>\n",
       "      <td>23.73</td>\n",
       "      <td>18.51</td>\n",
       "      <td>161.49</td>\n",
       "      <td>175.40</td>\n",
       "      <td>0.00</td>\n",
       "      <td>0.00</td>\n",
       "    </tr>\n",
       "  </tbody>\n",
       "</table>\n",
       "</div>"
      ],
      "text/plain": [
       "          Date    CO    NO   NO2   NOx        SO2   PM2.5  Ozone      WD  \\\n",
       "83  25-03-2021  0.59  1.69  3.73  5.43  11.786807  105.51  11.68  141.85   \n",
       "84  26-03-2021  0.59  1.71  3.74  5.45  10.794364   33.05  16.14  136.94   \n",
       "85  27-03-2021  0.54  1.73  3.74  5.48   2.490000   23.73  18.51  161.49   \n",
       "\n",
       "        SR  T=86.13  R=1.25  \n",
       "83  211.67    71.73    1.31  \n",
       "84  183.79     0.00    0.00  \n",
       "85  175.40     0.00    0.00  "
      ]
     },
     "execution_count": 30,
     "metadata": {},
     "output_type": "execute_result"
    }
   ],
   "source": [
    "df1.tail(3)"
   ]
  },
  {
   "cell_type": "markdown",
   "metadata": {},
   "source": [
    "# Dataset 2 - Perungudi\n",
    "Predicting CO values"
   ]
  },
  {
   "cell_type": "code",
   "execution_count": 31,
   "metadata": {},
   "outputs": [
    {
     "name": "stdout",
     "output_type": "stream",
     "text": [
      "          PM2.5        NO       NO2       NOx       SO2        CO     Ozone  \\\n",
      "PM2.5  1.000000 -0.198540  0.322918  0.130609  0.378013  0.136404 -0.211814   \n",
      "NO    -0.198540  1.000000  0.486238  0.795822  0.036766 -0.357813  0.275659   \n",
      "NO2    0.322918  0.486238  1.000000  0.900436  0.520220 -0.105271 -0.053358   \n",
      "NOx    0.130609  0.795822  0.900436  1.000000  0.376130 -0.247675  0.089483   \n",
      "SO2    0.378013  0.036766  0.520220  0.376130  1.000000 -0.061024 -0.284104   \n",
      "CO     0.136404 -0.357813 -0.105271 -0.247675 -0.061024  1.000000 -0.334130   \n",
      "Ozone -0.211814  0.275659 -0.053358  0.089483 -0.284104 -0.334130  1.000000   \n",
      "WD     0.004085 -0.131574  0.010718 -0.057302  0.016901  0.165610  0.055821   \n",
      "SR    -0.064141  0.229757 -0.093612  0.040361 -0.168697  0.018745  0.400488   \n",
      "Temp   0.377425 -0.232591  0.261515  0.081247  0.404177  0.323087 -0.625343   \n",
      "RH          NaN       NaN       NaN       NaN       NaN       NaN       NaN   \n",
      "\n",
      "             WD        SR      Temp  RH  \n",
      "PM2.5  0.004085 -0.064141  0.377425 NaN  \n",
      "NO    -0.131574  0.229757 -0.232591 NaN  \n",
      "NO2    0.010718 -0.093612  0.261515 NaN  \n",
      "NOx   -0.057302  0.040361  0.081247 NaN  \n",
      "SO2    0.016901 -0.168697  0.404177 NaN  \n",
      "CO     0.165610  0.018745  0.323087 NaN  \n",
      "Ozone  0.055821  0.400488 -0.625343 NaN  \n",
      "WD     1.000000 -0.015588 -0.104425 NaN  \n",
      "SR    -0.015588  1.000000 -0.417632 NaN  \n",
      "Temp  -0.104425 -0.417632  1.000000 NaN  \n",
      "RH          NaN       NaN       NaN NaN  \n"
     ]
    }
   ],
   "source": [
    "#print the correlation matrix\n",
    "print(df2.corr())"
   ]
  },
  {
   "cell_type": "code",
   "execution_count": 32,
   "metadata": {},
   "outputs": [],
   "source": [
    "df2['Ozone']=df2['Ozone'].replace(np.nan,0)"
   ]
  },
  {
   "cell_type": "code",
   "execution_count": 33,
   "metadata": {},
   "outputs": [],
   "source": [
    "df2['WD']=df2['WD'].replace(np.nan,0)"
   ]
  },
  {
   "cell_type": "code",
   "execution_count": 34,
   "metadata": {},
   "outputs": [],
   "source": [
    "df2['RH']=df2['RH'].replace(np.nan,-200)"
   ]
  },
  {
   "cell_type": "code",
   "execution_count": 35,
   "metadata": {},
   "outputs": [],
   "source": [
    "#Split training and prediction dataset\n",
    "cols1 = [\"CO\",\"NO2\",\"PM2.5\", \"NOx\", \"SO2\",\"SR\",\"Temp\",\"NO\",\"Ozone\"]\n",
    "dfs = df2[cols1]\n",
    "test_df = dfs[dfs[\"CO\"].isnull()]\n",
    "dfs = dfs.dropna()"
   ]
  },
  {
   "cell_type": "code",
   "execution_count": 36,
   "metadata": {},
   "outputs": [],
   "source": [
    "y_train = df[\"CO\"]\n",
    "X_train = df.drop(\"CO\", axis=1)\n",
    "X_test = test_df.drop(\"CO\", axis=1)"
   ]
  },
  {
   "cell_type": "code",
   "execution_count": 37,
   "metadata": {},
   "outputs": [],
   "source": [
    "sv = SVR()\n",
    "sv.fit(X_train, y_train)\n",
    "y_pred = sv.predict(X_test)"
   ]
  },
  {
   "cell_type": "code",
   "execution_count": 38,
   "metadata": {},
   "outputs": [],
   "source": [
    "#replace the missing values with predicted values\n",
    "df2.loc[df2.CO.isnull(), 'CO'] = y_pred"
   ]
  },
  {
   "cell_type": "code",
   "execution_count": 39,
   "metadata": {},
   "outputs": [
    {
     "data": {
      "text/plain": [
       "array([0.50271543, 0.50138531, 0.50154154, 0.50150771, 0.50120522,\n",
       "       0.5011329 , 0.5012785 , 0.50145172, 0.50155356, 0.50116998,\n",
       "       0.5011351 , 0.50101175, 0.50123278, 0.50111197, 0.50112024,\n",
       "       0.50106061, 0.50113271, 0.50111216, 0.50116453, 0.50125617,\n",
       "       0.50105384, 0.50102147, 0.50097333, 0.50108201, 0.50109729,\n",
       "       0.50251562, 0.50105449, 0.50116546, 0.50116666, 0.50097199,\n",
       "       0.50146251, 0.50110471, 0.50136439, 0.50110157, 0.50117861,\n",
       "       0.50126791, 0.50144808, 0.50115299, 0.50089044, 0.50087288,\n",
       "       0.50108212, 0.50139063, 0.50091415, 0.50080368, 0.5007264 ,\n",
       "       0.5010471 , 0.50085285, 0.5011766 , 0.50173063, 0.50189898,\n",
       "       0.50109092, 0.50091993, 0.5002987 ])"
      ]
     },
     "execution_count": 39,
     "metadata": {},
     "output_type": "execute_result"
    }
   ],
   "source": [
    "y_pred"
   ]
  },
  {
   "cell_type": "code",
   "execution_count": null,
   "metadata": {},
   "outputs": [],
   "source": []
  },
  {
   "cell_type": "code",
   "execution_count": 40,
   "metadata": {},
   "outputs": [
    {
     "data": {
      "text/html": [
       "<div>\n",
       "<style scoped>\n",
       "    .dataframe tbody tr th:only-of-type {\n",
       "        vertical-align: middle;\n",
       "    }\n",
       "\n",
       "    .dataframe tbody tr th {\n",
       "        vertical-align: top;\n",
       "    }\n",
       "\n",
       "    .dataframe thead th {\n",
       "        text-align: right;\n",
       "    }\n",
       "</style>\n",
       "<table border=\"1\" class=\"dataframe\">\n",
       "  <thead>\n",
       "    <tr style=\"text-align: right;\">\n",
       "      <th></th>\n",
       "      <th>CO</th>\n",
       "      <th>NO</th>\n",
       "      <th>NO2</th>\n",
       "      <th>NOx</th>\n",
       "      <th>SO2</th>\n",
       "      <th>PM2.5</th>\n",
       "      <th>Ozone</th>\n",
       "      <th>WD</th>\n",
       "      <th>SR</th>\n",
       "      <th>T=86.13</th>\n",
       "      <th>R=1.25</th>\n",
       "    </tr>\n",
       "  </thead>\n",
       "  <tbody>\n",
       "    <tr>\n",
       "      <th>count</th>\n",
       "      <td>86.000000</td>\n",
       "      <td>86.000000</td>\n",
       "      <td>86.000000</td>\n",
       "      <td>86.000000</td>\n",
       "      <td>86.000000</td>\n",
       "      <td>86.000000</td>\n",
       "      <td>86.000000</td>\n",
       "      <td>86.000000</td>\n",
       "      <td>86.000000</td>\n",
       "      <td>86.000000</td>\n",
       "      <td>86.000000</td>\n",
       "    </tr>\n",
       "    <tr>\n",
       "      <th>mean</th>\n",
       "      <td>0.521977</td>\n",
       "      <td>3.625233</td>\n",
       "      <td>9.631295</td>\n",
       "      <td>13.057209</td>\n",
       "      <td>17.181022</td>\n",
       "      <td>33.761047</td>\n",
       "      <td>19.852442</td>\n",
       "      <td>114.352558</td>\n",
       "      <td>132.658605</td>\n",
       "      <td>72.526512</td>\n",
       "      <td>1.354302</td>\n",
       "    </tr>\n",
       "    <tr>\n",
       "      <th>std</th>\n",
       "      <td>0.048211</td>\n",
       "      <td>2.411690</td>\n",
       "      <td>3.792095</td>\n",
       "      <td>5.487372</td>\n",
       "      <td>9.231304</td>\n",
       "      <td>20.773733</td>\n",
       "      <td>15.287962</td>\n",
       "      <td>43.458783</td>\n",
       "      <td>49.798189</td>\n",
       "      <td>13.316374</td>\n",
       "      <td>0.315373</td>\n",
       "    </tr>\n",
       "    <tr>\n",
       "      <th>min</th>\n",
       "      <td>0.390000</td>\n",
       "      <td>0.010000</td>\n",
       "      <td>0.020000</td>\n",
       "      <td>0.000000</td>\n",
       "      <td>2.490000</td>\n",
       "      <td>5.400000</td>\n",
       "      <td>3.490000</td>\n",
       "      <td>23.850000</td>\n",
       "      <td>6.860000</td>\n",
       "      <td>0.000000</td>\n",
       "      <td>0.000000</td>\n",
       "    </tr>\n",
       "    <tr>\n",
       "      <th>25%</th>\n",
       "      <td>0.490000</td>\n",
       "      <td>1.730000</td>\n",
       "      <td>8.615000</td>\n",
       "      <td>9.942500</td>\n",
       "      <td>8.702500</td>\n",
       "      <td>20.245000</td>\n",
       "      <td>10.822500</td>\n",
       "      <td>80.615000</td>\n",
       "      <td>91.292500</td>\n",
       "      <td>69.285000</td>\n",
       "      <td>1.220000</td>\n",
       "    </tr>\n",
       "    <tr>\n",
       "      <th>50%</th>\n",
       "      <td>0.520000</td>\n",
       "      <td>4.425000</td>\n",
       "      <td>10.220000</td>\n",
       "      <td>14.670000</td>\n",
       "      <td>13.886379</td>\n",
       "      <td>31.080000</td>\n",
       "      <td>16.600000</td>\n",
       "      <td>118.355000</td>\n",
       "      <td>128.380000</td>\n",
       "      <td>72.790000</td>\n",
       "      <td>1.360000</td>\n",
       "    </tr>\n",
       "    <tr>\n",
       "      <th>75%</th>\n",
       "      <td>0.560000</td>\n",
       "      <td>4.460000</td>\n",
       "      <td>10.885000</td>\n",
       "      <td>14.937500</td>\n",
       "      <td>25.305000</td>\n",
       "      <td>41.485000</td>\n",
       "      <td>23.637500</td>\n",
       "      <td>150.045000</td>\n",
       "      <td>175.255000</td>\n",
       "      <td>76.602500</td>\n",
       "      <td>1.525000</td>\n",
       "    </tr>\n",
       "    <tr>\n",
       "      <th>max</th>\n",
       "      <td>0.600000</td>\n",
       "      <td>11.550000</td>\n",
       "      <td>20.610000</td>\n",
       "      <td>32.160000</td>\n",
       "      <td>37.180000</td>\n",
       "      <td>124.130000</td>\n",
       "      <td>100.510000</td>\n",
       "      <td>193.940000</td>\n",
       "      <td>220.610000</td>\n",
       "      <td>93.150000</td>\n",
       "      <td>2.040000</td>\n",
       "    </tr>\n",
       "  </tbody>\n",
       "</table>\n",
       "</div>"
      ],
      "text/plain": [
       "              CO         NO        NO2        NOx        SO2       PM2.5  \\\n",
       "count  86.000000  86.000000  86.000000  86.000000  86.000000   86.000000   \n",
       "mean    0.521977   3.625233   9.631295  13.057209  17.181022   33.761047   \n",
       "std     0.048211   2.411690   3.792095   5.487372   9.231304   20.773733   \n",
       "min     0.390000   0.010000   0.020000   0.000000   2.490000    5.400000   \n",
       "25%     0.490000   1.730000   8.615000   9.942500   8.702500   20.245000   \n",
       "50%     0.520000   4.425000  10.220000  14.670000  13.886379   31.080000   \n",
       "75%     0.560000   4.460000  10.885000  14.937500  25.305000   41.485000   \n",
       "max     0.600000  11.550000  20.610000  32.160000  37.180000  124.130000   \n",
       "\n",
       "            Ozone          WD          SR    T=86.13     R=1.25  \n",
       "count   86.000000   86.000000   86.000000  86.000000  86.000000  \n",
       "mean    19.852442  114.352558  132.658605  72.526512   1.354302  \n",
       "std     15.287962   43.458783   49.798189  13.316374   0.315373  \n",
       "min      3.490000   23.850000    6.860000   0.000000   0.000000  \n",
       "25%     10.822500   80.615000   91.292500  69.285000   1.220000  \n",
       "50%     16.600000  118.355000  128.380000  72.790000   1.360000  \n",
       "75%     23.637500  150.045000  175.255000  76.602500   1.525000  \n",
       "max    100.510000  193.940000  220.610000  93.150000   2.040000  "
      ]
     },
     "execution_count": 40,
     "metadata": {},
     "output_type": "execute_result"
    }
   ],
   "source": [
    "df1.describe()"
   ]
  },
  {
   "cell_type": "code",
   "execution_count": 41,
   "metadata": {},
   "outputs": [
    {
     "data": {
      "text/html": [
       "<div>\n",
       "<style scoped>\n",
       "    .dataframe tbody tr th:only-of-type {\n",
       "        vertical-align: middle;\n",
       "    }\n",
       "\n",
       "    .dataframe tbody tr th {\n",
       "        vertical-align: top;\n",
       "    }\n",
       "\n",
       "    .dataframe thead th {\n",
       "        text-align: right;\n",
       "    }\n",
       "</style>\n",
       "<table border=\"1\" class=\"dataframe\">\n",
       "  <thead>\n",
       "    <tr style=\"text-align: right;\">\n",
       "      <th></th>\n",
       "      <th>PM2.5</th>\n",
       "      <th>NO</th>\n",
       "      <th>NO2</th>\n",
       "      <th>NOx</th>\n",
       "      <th>SO2</th>\n",
       "      <th>CO</th>\n",
       "      <th>Ozone</th>\n",
       "      <th>WD</th>\n",
       "      <th>SR</th>\n",
       "      <th>Temp</th>\n",
       "      <th>RH</th>\n",
       "    </tr>\n",
       "  </thead>\n",
       "  <tbody>\n",
       "    <tr>\n",
       "      <th>count</th>\n",
       "      <td>86.000000</td>\n",
       "      <td>86.000000</td>\n",
       "      <td>86.000000</td>\n",
       "      <td>86.000000</td>\n",
       "      <td>86.000000</td>\n",
       "      <td>86.000000</td>\n",
       "      <td>86.000000</td>\n",
       "      <td>86.000000</td>\n",
       "      <td>86.000000</td>\n",
       "      <td>86.000000</td>\n",
       "      <td>86.0</td>\n",
       "    </tr>\n",
       "    <tr>\n",
       "      <th>mean</th>\n",
       "      <td>33.969302</td>\n",
       "      <td>1.793256</td>\n",
       "      <td>5.661744</td>\n",
       "      <td>4.486163</td>\n",
       "      <td>4.330349</td>\n",
       "      <td>0.830862</td>\n",
       "      <td>12.425465</td>\n",
       "      <td>195.862558</td>\n",
       "      <td>145.275581</td>\n",
       "      <td>28.292326</td>\n",
       "      <td>-200.0</td>\n",
       "    </tr>\n",
       "    <tr>\n",
       "      <th>std</th>\n",
       "      <td>16.179516</td>\n",
       "      <td>0.800396</td>\n",
       "      <td>1.841494</td>\n",
       "      <td>1.391461</td>\n",
       "      <td>1.967882</td>\n",
       "      <td>0.780922</td>\n",
       "      <td>13.193634</td>\n",
       "      <td>66.528661</td>\n",
       "      <td>35.346834</td>\n",
       "      <td>0.545162</td>\n",
       "      <td>0.0</td>\n",
       "    </tr>\n",
       "    <tr>\n",
       "      <th>min</th>\n",
       "      <td>4.030000</td>\n",
       "      <td>0.720000</td>\n",
       "      <td>1.850000</td>\n",
       "      <td>1.700000</td>\n",
       "      <td>1.180000</td>\n",
       "      <td>0.090000</td>\n",
       "      <td>0.000000</td>\n",
       "      <td>0.000000</td>\n",
       "      <td>17.700000</td>\n",
       "      <td>27.200000</td>\n",
       "      <td>-200.0</td>\n",
       "    </tr>\n",
       "    <tr>\n",
       "      <th>25%</th>\n",
       "      <td>21.660000</td>\n",
       "      <td>1.155000</td>\n",
       "      <td>4.425000</td>\n",
       "      <td>3.387500</td>\n",
       "      <td>3.230000</td>\n",
       "      <td>0.501014</td>\n",
       "      <td>2.717500</td>\n",
       "      <td>180.867500</td>\n",
       "      <td>136.110000</td>\n",
       "      <td>27.865000</td>\n",
       "      <td>-200.0</td>\n",
       "    </tr>\n",
       "    <tr>\n",
       "      <th>50%</th>\n",
       "      <td>34.725000</td>\n",
       "      <td>1.620000</td>\n",
       "      <td>5.635000</td>\n",
       "      <td>4.630000</td>\n",
       "      <td>3.895000</td>\n",
       "      <td>0.501168</td>\n",
       "      <td>7.620000</td>\n",
       "      <td>211.170000</td>\n",
       "      <td>154.605000</td>\n",
       "      <td>28.410000</td>\n",
       "      <td>-200.0</td>\n",
       "    </tr>\n",
       "    <tr>\n",
       "      <th>75%</th>\n",
       "      <td>43.600000</td>\n",
       "      <td>2.375000</td>\n",
       "      <td>6.927500</td>\n",
       "      <td>5.427500</td>\n",
       "      <td>4.937500</td>\n",
       "      <td>0.523179</td>\n",
       "      <td>16.477500</td>\n",
       "      <td>231.827500</td>\n",
       "      <td>166.622500</td>\n",
       "      <td>28.687500</td>\n",
       "      <td>-200.0</td>\n",
       "    </tr>\n",
       "    <tr>\n",
       "      <th>max</th>\n",
       "      <td>82.320000</td>\n",
       "      <td>4.090000</td>\n",
       "      <td>9.910000</td>\n",
       "      <td>7.760000</td>\n",
       "      <td>14.410000</td>\n",
       "      <td>3.530000</td>\n",
       "      <td>58.810000</td>\n",
       "      <td>304.000000</td>\n",
       "      <td>211.700000</td>\n",
       "      <td>29.860000</td>\n",
       "      <td>-200.0</td>\n",
       "    </tr>\n",
       "  </tbody>\n",
       "</table>\n",
       "</div>"
      ],
      "text/plain": [
       "           PM2.5         NO        NO2        NOx        SO2         CO  \\\n",
       "count  86.000000  86.000000  86.000000  86.000000  86.000000  86.000000   \n",
       "mean   33.969302   1.793256   5.661744   4.486163   4.330349   0.830862   \n",
       "std    16.179516   0.800396   1.841494   1.391461   1.967882   0.780922   \n",
       "min     4.030000   0.720000   1.850000   1.700000   1.180000   0.090000   \n",
       "25%    21.660000   1.155000   4.425000   3.387500   3.230000   0.501014   \n",
       "50%    34.725000   1.620000   5.635000   4.630000   3.895000   0.501168   \n",
       "75%    43.600000   2.375000   6.927500   5.427500   4.937500   0.523179   \n",
       "max    82.320000   4.090000   9.910000   7.760000  14.410000   3.530000   \n",
       "\n",
       "           Ozone          WD          SR       Temp     RH  \n",
       "count  86.000000   86.000000   86.000000  86.000000   86.0  \n",
       "mean   12.425465  195.862558  145.275581  28.292326 -200.0  \n",
       "std    13.193634   66.528661   35.346834   0.545162    0.0  \n",
       "min     0.000000    0.000000   17.700000  27.200000 -200.0  \n",
       "25%     2.717500  180.867500  136.110000  27.865000 -200.0  \n",
       "50%     7.620000  211.170000  154.605000  28.410000 -200.0  \n",
       "75%    16.477500  231.827500  166.622500  28.687500 -200.0  \n",
       "max    58.810000  304.000000  211.700000  29.860000 -200.0  "
      ]
     },
     "execution_count": 41,
     "metadata": {},
     "output_type": "execute_result"
    }
   ],
   "source": [
    "df2.describe()"
   ]
  },
  {
   "cell_type": "code",
   "execution_count": 42,
   "metadata": {},
   "outputs": [
    {
     "data": {
      "text/plain": [
       "(86, 12)"
      ]
     },
     "execution_count": 42,
     "metadata": {},
     "output_type": "execute_result"
    }
   ],
   "source": [
    "df1.shape\n",
    "#Equal Dimensions"
   ]
  },
  {
   "cell_type": "code",
   "execution_count": 43,
   "metadata": {},
   "outputs": [
    {
     "data": {
      "text/plain": [
       "(86, 12)"
      ]
     },
     "execution_count": 43,
     "metadata": {},
     "output_type": "execute_result"
    }
   ],
   "source": [
    "df2.shape\n",
    "#Equal Dimensions"
   ]
  },
  {
   "cell_type": "markdown",
   "metadata": {},
   "source": [
    "# Check for Missing values"
   ]
  },
  {
   "cell_type": "code",
   "execution_count": 44,
   "metadata": {},
   "outputs": [
    {
     "name": "stdout",
     "output_type": "stream",
     "text": [
      "Missing values:\n",
      "\n",
      " Date       0\n",
      "CO         0\n",
      "NO         0\n",
      "NO2        0\n",
      "NOx        0\n",
      "SO2        0\n",
      "PM2.5      0\n",
      "Ozone      0\n",
      "WD         0\n",
      "SR         0\n",
      "T=86.13    0\n",
      "R=1.25     0\n",
      "dtype: int64\n",
      "\n",
      "\n",
      "No Missing Values\n"
     ]
    }
   ],
   "source": [
    "#Counting Missing Values from each Column\n",
    "print('Missing values:\\n\\n',df1.shape[0]-df1.count())\n",
    "clean=(df1.shape[0]-df1.count()).sum()\n",
    "print(\"\\n\")\n",
    "if(clean==0):\n",
    "    print(\"No Missing Values\")"
   ]
  },
  {
   "cell_type": "code",
   "execution_count": 45,
   "metadata": {},
   "outputs": [
    {
     "name": "stdout",
     "output_type": "stream",
     "text": [
      "Missing values:\n",
      "\n",
      " DATE     0\n",
      "PM2.5    0\n",
      "NO       0\n",
      "NO2      0\n",
      "NOx      0\n",
      "SO2      0\n",
      "CO       0\n",
      "Ozone    0\n",
      "WD       0\n",
      "SR       0\n",
      "Temp     0\n",
      "RH       0\n",
      "dtype: int64\n",
      "\n",
      "\n",
      "No Missing Values\n"
     ]
    }
   ],
   "source": [
    "#Counting Missing Values from each Column\n",
    "print('Missing values:\\n\\n',df2.shape[0]-df2.count())\n",
    "clean=(df2.shape[0]-df2.count()).sum()\n",
    "print(\"\\n\")\n",
    "if(clean==0):\n",
    "    print(\"No Missing Values\")"
   ]
  },
  {
   "cell_type": "markdown",
   "metadata": {},
   "source": [
    "# Compare Datasets "
   ]
  },
  {
   "cell_type": "code",
   "execution_count": 46,
   "metadata": {},
   "outputs": [
    {
     "data": {
      "text/plain": [
       "<Figure size 432x288 with 0 Axes>"
      ]
     },
     "metadata": {},
     "output_type": "display_data"
    },
    {
     "data": {
      "image/png": "[encoded data removed]",
      "text/plain": [
       "<Figure size 432x288 with 1 Axes>"
      ]
     },
     "metadata": {
      "needs_background": "light"
     },
     "output_type": "display_data"
    },
    {
     "data": {
      "text/plain": [
       "<Figure size 432x288 with 0 Axes>"
      ]
     },
     "metadata": {},
     "output_type": "display_data"
    },
    {
     "data": {
      "image/png": "[encoded data removed]",
      "text/plain": [
       "<Figure size 432x288 with 1 Axes>"
      ]
     },
     "metadata": {
      "needs_background": "light"
     },
     "output_type": "display_data"
    }
   ],
   "source": [
    "# VELACHERY DATASET REPRESENTATION\n",
    "df3 = pd.DataFrame({'CO':np.random.randn(30),'NO':np.random.randn(30),'NO2':np.random.randn(30),\n",
    "                   'NOx':np.random.randn(30),'SO2':np.random.randn(30),'PM2.5':np.random.randn(30)\n",
    "                   ,'Ozone':np.random.randn(30),'WD':np.random.randn(30),'SR':np.random.randn(30),\n",
    "                   'T=86.13':np.random.randn(30),'R=1.25':np.random.randn(30)},\n",
    "    columns =['CO','NO','NO2','NOx','SO2','PM2.5', 'Ozone', 'WD','SR','T=86.13','R=1.25'])\n",
    "plt.figure()\n",
    "df3.plot.hist(alpha = 0.5)\n",
    "plt.title(\"Velachery Pollutants Rate\")\n",
    "plt.show()\n",
    "\n",
    "# PERUNGUDI DATASET REPRESENTATION\n",
    "\n",
    "df4 = pd.DataFrame({'PM2.5':np.random.randn(30),'NO':np.random.randn(30),'NO2':np.random.randn(30),\n",
    "                   'NOx':np.random.randn(30),'SO2':np.random.randn(30),'CO':np.random.randn(30)\n",
    "                   ,'Ozone':np.random.randn(30),'WD':np.random.randn(30),'SR':np.random.randn(30),\n",
    "                   'Temp':np.random.randn(30),'RH':np.random.randn(30)},\n",
    "    columns =['PM2.5','NO','NO2','NOx','SO2','CO', 'Ozone', 'WD','SR','Temp','RH'])\n",
    "plt.figure()\n",
    "df4.plot.hist(alpha = 0.5)\n",
    "plt.title(\"Perungudi Pollutants Rate\")\n",
    "plt.show()"
   ]
  },
  {
   "cell_type": "markdown",
   "metadata": {},
   "source": [
    "# CORRELATION AMONG VARIABLES"
   ]
  },
  {
   "cell_type": "code",
   "execution_count": 47,
   "metadata": {},
   "outputs": [
    {
     "data": {
      "image/png": "[encoded data removed]",
      "text/plain": [
       "<Figure size 432x288 with 2 Axes>"
      ]
     },
     "metadata": {
      "needs_background": "light"
     },
     "output_type": "display_data"
    }
   ],
   "source": [
    "sns.heatmap(df1.corr(),annot=True, linewidths=.2)\n",
    "plt.title('Heatmap of co-relation between variables',fontsize=16)\n",
    "plt.show()"
   ]
  },
  {
   "cell_type": "code",
   "execution_count": 48,
   "metadata": {},
   "outputs": [
    {
     "data": {
      "image/png": "[encoded data removed]",
      "text/plain": [
       "<Figure size 432x288 with 2 Axes>"
      ]
     },
     "metadata": {
      "needs_background": "light"
     },
     "output_type": "display_data"
    }
   ],
   "source": [
    "sns.heatmap(df2.corr(),annot=True, linewidths=.2)\n",
    "plt.title('Heatmap of co-relation between variables',fontsize=16)\n",
    "plt.show()"
   ]
  },
  {
   "cell_type": "markdown",
   "metadata": {},
   "source": [
    "# Understanding Linearity between Relative Humidity(RH) & other variables"
   ]
  },
  {
   "cell_type": "code",
   "execution_count": 49,
   "metadata": {},
   "outputs": [
    {
     "data": {
      "image/png": "[encoded data removed]",
      "text/plain": [
       "<Figure size 360x360 with 1 Axes>"
      ]
     },
     "metadata": {
      "needs_background": "light"
     },
     "output_type": "display_data"
    },
    {
     "data": {
      "image/png": "[encoded data removed]",
      "text/plain": [
       "<Figure size 360x360 with 1 Axes>"
      ]
     },
     "metadata": {
      "needs_background": "light"
     },
     "output_type": "display_data"
    },
    {
     "data": {
      "image/png": "[encoded data removed]",
      "text/plain": [
       "<Figure size 360x360 with 1 Axes>"
      ]
     },
     "metadata": {
      "needs_background": "light"
     },
     "output_type": "display_data"
    },
    {
     "data": {
      "image/png": "[encoded data removed]",
      "text/plain": [
       "<Figure size 360x360 with 1 Axes>"
      ]
     },
     "metadata": {
      "needs_background": "light"
     },
     "output_type": "display_data"
    },
    {
     "data": {
      "image/png": "[encoded data removed]",
      "text/plain": [
       "<Figure size 360x360 with 1 Axes>"
      ]
     },
     "metadata": {
      "needs_background": "light"
     },
     "output_type": "display_data"
    },
    {
     "data": {
      "image/png": "[encoded data removed]",
      "text/plain": [
       "<Figure size 360x360 with 1 Axes>"
      ]
     },
     "metadata": {
      "needs_background": "light"
     },
     "output_type": "display_data"
    },
    {
     "data": {
      "image/png": "[encoded data removed]",
      "text/plain": [
       "<Figure size 360x360 with 1 Axes>"
      ]
     },
     "metadata": {
      "needs_background": "light"
     },
     "output_type": "display_data"
    },
    {
     "data": {
      "image/png": "[encoded data removed]",
      "text/plain": [
       "<Figure size 360x360 with 1 Axes>"
      ]
     },
     "metadata": {
      "needs_background": "light"
     },
     "output_type": "display_data"
    },
    {
     "data": {
      "image/png": "[encoded data removed]",
      "text/plain": [
       "<Figure size 360x360 with 1 Axes>"
      ]
     },
     "metadata": {
      "needs_background": "light"
     },
     "output_type": "display_data"
    },
    {
     "data": {
      "image/png": "[encoded data removed]",
      "text/plain": [
       "<Figure size 360x360 with 1 Axes>"
      ]
     },
     "metadata": {
      "needs_background": "light"
     },
     "output_type": "display_data"
    }
   ],
   "source": [
    "col2=df1.columns.tolist()[2:]\n",
    "for i in df1.columns.tolist()[2:]:\n",
    "    sns.lmplot(x=i,y='R=1.25',data=df1,markers='+')"
   ]
  },
  {
   "cell_type": "code",
   "execution_count": null,
   "metadata": {},
   "outputs": [],
   "source": []
  },
  {
   "cell_type": "markdown",
   "metadata": {},
   "source": [
    "# Find AQI On Concentration of PM2.5 on 24 hour average"
   ]
  },
  {
   "cell_type": "markdown",
   "metadata": {},
   "source": [
    "\n",
    "# AQI Category                              Index Values   \n",
    "            Good                                        0   -  30 \n",
    "            Satisfactory                                30  -  60\n",
    "            Moderate                                    60  –  90\n",
    "            Poor                                        90  –  120\n",
    "            Very Poor                                   120 –  250\n",
    "            SEVERE                                      250 –  380                                 "
   ]
  },
  {
   "cell_type": "code",
   "execution_count": 51,
   "metadata": {},
   "outputs": [
    {
     "name": "stdout",
     "output_type": "stream",
     "text": [
      "Enter Date:15-03-2021\n",
      "          Date    CO    NO    NO2    NOx   SO2  PM2.5  Ozone      WD      SR  \\\n",
      "73  15-03-2021  0.46  4.46  10.25  14.69  8.65  13.98  16.54  140.44  220.61   \n",
      "\n",
      "    T=86.13  R=1.25  \n",
      "73    74.06    1.46  \n",
      "          DATE  PM2.5    NO   NO2   NOx   SO2        CO  Ozone      WD     SR  \\\n",
      "73  15-03-2021  18.42  2.38  5.66  4.94  3.65  0.501177  29.13  186.72  171.4   \n",
      "\n",
      "     Temp     RH  \n",
      "73  27.26 -200.0  \n"
     ]
    }
   ],
   "source": [
    "# print(\"Enter Date in DD-MM-YYYY format:\")Type Date from 01-01-2021 to 27-03-2021\n",
    "#d=input(\"Enter Date:\")\n",
    "#df1=pd.read_csv('velachery_ AIQ2.csv')\n",
    "#df2=pd.read_csv('perungudi_aiq.csv')\n",
    "\n",
    "# print(\"Enter Date in DD-MM-YYYY format:\")\n",
    "d=input(\"Enter Date:\")\n",
    "#Select specific row of your dataframe\n",
    "\n",
    "print(df1.loc[df1['Date'] == d])\n",
    "\n",
    "print(df2.loc[df2['DATE'] == d])\n",
    "\n",
    "#df1.loc[(df1['Date'] == d) & df1['PM2.5'].isin(df1)]"
   ]
  },
  {
   "cell_type": "code",
   "execution_count": 52,
   "metadata": {},
   "outputs": [
    {
     "name": "stdout",
     "output_type": "stream",
     "text": [
      "Enter the Row_Value from the above output:73\n",
      "Dataset 1 - PM2.5 Value:  13.98\n",
      "Dataset 2 - PM2.5 Value:  18.42\n"
     ]
    }
   ],
   "source": [
    "row=int(input(\"Enter the Row_Value from the above output:\"))\n",
    "#Locate PM2.52.5 value\n",
    "value1 = df1.iloc[row][\"PM2.5\"]\n",
    "value2=df2.iloc[row][\"PM2.5\"]\n",
    "print(\"Dataset 1 - PM2.5 Value: \",value1)\n",
    "print(\"Dataset 2 - PM2.5 Value: \",value2)"
   ]
  },
  {
   "cell_type": "code",
   "execution_count": 53,
   "metadata": {},
   "outputs": [],
   "source": [
    "value1=value1.astype('int')\n",
    "value2=value2.astype('int')"
   ]
  },
  {
   "cell_type": "markdown",
   "metadata": {},
   "source": [
    "        AQI Category                              Index Values\n",
    "        Good                                        0   -  30 \n",
    "        Satisfactory                                30  -  60\n",
    "        Moderate                                    60  –  90\n",
    "        Poor                                        90  –  120\n",
    "        Very Poor                                   120 –  250\n",
    "        SEVERE                                      250 –  380 "
   ]
  },
  {
   "cell_type": "code",
   "execution_count": 54,
   "metadata": {},
   "outputs": [
    {
     "name": "stdout",
     "output_type": "stream",
     "text": [
      "13 Good\n"
     ]
    }
   ],
   "source": [
    "# Find the AQI Category of PM2.52.5 of First Dataset\n",
    "if value1 > 250 and value1 < 380:\n",
    "    print(value1,\"Severe\")\n",
    "elif value1 > 120 and value1 < 250:\n",
    "    print(value1,\"Very Poor\")\n",
    "elif value1 > 90 and value1 < 120:\n",
    "    print(value1,\"Poor\")\n",
    "elif value1 > 60 and value1 < 90:\n",
    "    print(value1,\"Moderate\")\n",
    "elif value1 > 30 and value1 < 60:\n",
    "    print(value1,\"Satisfactory\")\n",
    "elif value1 > 0 and value1 < 30:\n",
    "    print(value1,\"Good\")\n",
    "else:\n",
    "        print(\"error\")"
   ]
  },
  {
   "cell_type": "code",
   "execution_count": 55,
   "metadata": {},
   "outputs": [
    {
     "name": "stdout",
     "output_type": "stream",
     "text": [
      "18 Good\n"
     ]
    }
   ],
   "source": [
    "# Find the AQI Category of PM2.5 of Second Dataset\n",
    "if value2 > 250 and value2 < 380:\n",
    "    print(value2,\"Severe\")\n",
    "elif value2 > 120 and value2 < 250:\n",
    "    print(value2,\"Very Poor\")\n",
    "elif value2 > 90 and value2 < 120:\n",
    "    print(value2,\"Poor\")\n",
    "elif value2 > 60 and value2 < 90:\n",
    "    print(value2,\"Moderate\")\n",
    "elif value2 > 30 and value2 < 60:\n",
    "    print(value2,\"Satisfactory\")\n",
    "elif value2 > 0 and value2 < 30:\n",
    "    print(value2,\"Good\")\n",
    "else:\n",
    "        print(\"error\")"
   ]
  },
  {
   "cell_type": "code",
   "execution_count": 56,
   "metadata": {},
   "outputs": [
    {
     "data": {
      "image/png": "[encoded data removed]",
      "text/plain": [
       "<Figure size 432x288 with 1 Axes>"
      ]
     },
     "metadata": {
      "needs_background": "light"
     },
     "output_type": "display_data"
    }
   ],
   "source": [
    "fig = plt.figure()\n",
    "x1=['Velachery','Perungudi']\n",
    "y1=[value1,value2]\n",
    "plt.title(\"Variation of PM2.5 In Velachery and Perungudi\")\n",
    "plt.bar(x1,y1,width=0.2,color=\"green\")\n",
    "plt.show()"
   ]
  },
  {
   "cell_type": "markdown",
   "metadata": {},
   "source": [
    "# Variation from Dataset"
   ]
  },
  {
   "cell_type": "code",
   "execution_count": 57,
   "metadata": {},
   "outputs": [
    {
     "data": {
      "image/png": "[encoded data removed]",
      "text/plain": [
       "<Figure size 432x288 with 1 Axes>"
      ]
     },
     "metadata": {
      "needs_background": "light"
     },
     "output_type": "display_data"
    }
   ],
   "source": [
    "df1['PM2.5'].plot.line()\n",
    "y1 = df1['PM2.5'] # DATASET 1\n",
    "y2 = df2['PM2.5'] # DATASET 2\n",
    "plt.title(\"Variation of PM2.5 In Velachery and Perungudi\")\n",
    "plt.plot(y1)\n",
    "plt.plot(y2)\n",
    "plt.show()"
   ]
  },
  {
   "cell_type": "markdown",
   "metadata": {},
   "source": [
    "# Determining AIQ Value"
   ]
  },
  {
   "cell_type": "markdown",
   "metadata": {},
   "source": [
    "        AQI Category                               Index Values \n",
    "        Good                                        0   -  50 \n",
    "        Satisfactory                                51  -  100\n",
    "        Moderate                                    101 –  200\n",
    "        Poor                                        201 –  300\n",
    "        Very Poor                                   301 –  400\n",
    "        SEVERE                                      401 –  500       "
   ]
  },
  {
   "cell_type": "code",
   "execution_count": 58,
   "metadata": {},
   "outputs": [],
   "source": [
    "X=df1[\"CO\"].mean()\n",
    "B=df1[\"NO2\"].mean()\n",
    "C=df1[\"SO2\"].mean()\n",
    "D=df1[\"PM2.5\"].mean()\n",
    "E=df1[\"Ozone\"].mean()"
   ]
  },
  {
   "cell_type": "code",
   "execution_count": 59,
   "metadata": {},
   "outputs": [
    {
     "name": "stdout",
     "output_type": "stream",
     "text": [
      "Avg of Pollutants:-  16.189556346545636\n"
     ]
    }
   ],
   "source": [
    "Z1=(X+B+C+D+E)/5\n",
    "print(\"Avg of Pollutants:- \",Z1)"
   ]
  },
  {
   "cell_type": "code",
   "execution_count": 60,
   "metadata": {},
   "outputs": [
    {
     "name": "stdout",
     "output_type": "stream",
     "text": [
      "16.189556346545636 Good\n"
     ]
    }
   ],
   "source": [
    "if Z1 > 401 and Z1 < 500:\n",
    "    print(Z1,\"Severe\")\n",
    "elif Z1 > 301 and Z1 < 400:\n",
    "    print(Z1,\"Very Poor\")\n",
    "elif Z1 > 201 and Z1 < 300:\n",
    "    print(Z1,\"Poor\")\n",
    "elif Z1 > 101 and Z1 < 200:\n",
    "    print(Z1,\"Moderate\")\n",
    "elif Z1 > 51 and Z1 < 100:\n",
    "    print(Z1,\"Satisfactory\")\n",
    "elif Z1 > 0 and Z1 < 50:\n",
    "    print(Z1,\"Good\")\n",
    "else:\n",
    "    print(\"error\")"
   ]
  },
  {
   "cell_type": "code",
   "execution_count": 61,
   "metadata": {},
   "outputs": [],
   "source": [
    "X=df2[\"CO\"].mean()\n",
    "B=df2[\"NO2\"].mean()\n",
    "C=df2[\"SO2\"].mean()\n",
    "D=df2[\"PM2.5\"].mean()\n",
    "E=df2[\"Ozone\"].mean()"
   ]
  },
  {
   "cell_type": "code",
   "execution_count": 62,
   "metadata": {},
   "outputs": [
    {
     "name": "stdout",
     "output_type": "stream",
     "text": [
      "Avg of Pollutants:-  11.443544555379415\n"
     ]
    }
   ],
   "source": [
    "Z2=(X+B+C+D+E)/5\n",
    "print(\"Avg of Pollutants:- \",Z2)"
   ]
  },
  {
   "cell_type": "code",
   "execution_count": 63,
   "metadata": {},
   "outputs": [
    {
     "name": "stdout",
     "output_type": "stream",
     "text": [
      "11.443544555379415 Good\n"
     ]
    }
   ],
   "source": [
    "if Z2 > 401 and Z2 < 500:\n",
    "    print(Z2,\"Severe\")\n",
    "elif Z2 > 301 and Z2 < 400:\n",
    "    print(Z2,\"Very Poor\")\n",
    "elif Z2 > 201 and Z2 < 300:\n",
    "    print(Z2,\"Poor\")\n",
    "elif Z2 > 101 and Z2 < 200:\n",
    "    print(Z2,\"Moderate\")\n",
    "elif Z2 > 51 and Z2 < 100:\n",
    "    print(Z2,\"Satisfactory\")\n",
    "elif Z2 > 0 and Z2 < 50:\n",
    "    print(Z2,\"Good\")\n",
    "else:\n",
    "    print(\"error\")"
   ]
  },
  {
   "cell_type": "code",
   "execution_count": 64,
   "metadata": {},
   "outputs": [
    {
     "data": {
      "image/png": "[encoded data removed]",
      "text/plain": [
       "<Figure size 432x288 with 1 Axes>"
      ]
     },
     "metadata": {
      "needs_background": "light"
     },
     "output_type": "display_data"
    }
   ],
   "source": [
    "fig = plt.figure()\n",
    "x1=['Velachery','Perungudi']\n",
    "y1=[Z1,Z2]\n",
    "plt.title(\"Variation of AQI In Velachery and Perungudi\")\n",
    "plt.bar(x1,y1,width=0.2,color=\"green\")\n",
    "plt.show()"
   ]
  },
  {
   "cell_type": "markdown",
   "metadata": {},
   "source": [
    "# Regression Models of Dataset 1"
   ]
  },
  {
   "cell_type": "markdown",
   "metadata": {},
   "source": [
    "# Linear Regression"
   ]
  },
  {
   "cell_type": "code",
   "execution_count": 65,
   "metadata": {},
   "outputs": [],
   "source": [
    "from sklearn.preprocessing import StandardScaler \n",
    "from sklearn.model_selection import train_test_split\n",
    "from sklearn.linear_model import LinearRegression"
   ]
  },
  {
   "cell_type": "code",
   "execution_count": 66,
   "metadata": {},
   "outputs": [
    {
     "data": {
      "text/html": [
       "<div>\n",
       "<style scoped>\n",
       "    .dataframe tbody tr th:only-of-type {\n",
       "        vertical-align: middle;\n",
       "    }\n",
       "\n",
       "    .dataframe tbody tr th {\n",
       "        vertical-align: top;\n",
       "    }\n",
       "\n",
       "    .dataframe thead th {\n",
       "        text-align: right;\n",
       "    }\n",
       "</style>\n",
       "<table border=\"1\" class=\"dataframe\">\n",
       "  <thead>\n",
       "    <tr style=\"text-align: right;\">\n",
       "      <th></th>\n",
       "      <th>NO</th>\n",
       "      <th>NO2</th>\n",
       "      <th>NOx</th>\n",
       "      <th>SO2</th>\n",
       "      <th>PM2.5</th>\n",
       "      <th>Ozone</th>\n",
       "      <th>WD</th>\n",
       "      <th>SR</th>\n",
       "      <th>T=86.13</th>\n",
       "    </tr>\n",
       "  </thead>\n",
       "  <tbody>\n",
       "    <tr>\n",
       "      <th>0</th>\n",
       "      <td>0.39</td>\n",
       "      <td>8.98</td>\n",
       "      <td>9.37</td>\n",
       "      <td>24.87</td>\n",
       "      <td>39.08</td>\n",
       "      <td>28.57</td>\n",
       "      <td>51.76</td>\n",
       "      <td>72.72</td>\n",
       "      <td>85.47</td>\n",
       "    </tr>\n",
       "    <tr>\n",
       "      <th>1</th>\n",
       "      <td>0.51</td>\n",
       "      <td>15.15</td>\n",
       "      <td>15.66</td>\n",
       "      <td>24.73</td>\n",
       "      <td>37.73</td>\n",
       "      <td>20.98</td>\n",
       "      <td>87.63</td>\n",
       "      <td>26.32</td>\n",
       "      <td>82.78</td>\n",
       "    </tr>\n",
       "    <tr>\n",
       "      <th>2</th>\n",
       "      <td>0.37</td>\n",
       "      <td>9.42</td>\n",
       "      <td>9.79</td>\n",
       "      <td>23.82</td>\n",
       "      <td>32.69</td>\n",
       "      <td>12.67</td>\n",
       "      <td>72.54</td>\n",
       "      <td>43.12</td>\n",
       "      <td>93.15</td>\n",
       "    </tr>\n",
       "    <tr>\n",
       "      <th>3</th>\n",
       "      <td>1.09</td>\n",
       "      <td>10.91</td>\n",
       "      <td>12.00</td>\n",
       "      <td>24.81</td>\n",
       "      <td>42.69</td>\n",
       "      <td>14.29</td>\n",
       "      <td>58.93</td>\n",
       "      <td>68.59</td>\n",
       "      <td>92.27</td>\n",
       "    </tr>\n",
       "    <tr>\n",
       "      <th>4</th>\n",
       "      <td>11.55</td>\n",
       "      <td>20.61</td>\n",
       "      <td>32.16</td>\n",
       "      <td>24.66</td>\n",
       "      <td>10.97</td>\n",
       "      <td>7.15</td>\n",
       "      <td>135.53</td>\n",
       "      <td>6.86</td>\n",
       "      <td>90.95</td>\n",
       "    </tr>\n",
       "  </tbody>\n",
       "</table>\n",
       "</div>"
      ],
      "text/plain": [
       "      NO    NO2    NOx    SO2  PM2.5  Ozone      WD     SR  T=86.13\n",
       "0   0.39   8.98   9.37  24.87  39.08  28.57   51.76  72.72    85.47\n",
       "1   0.51  15.15  15.66  24.73  37.73  20.98   87.63  26.32    82.78\n",
       "2   0.37   9.42   9.79  23.82  32.69  12.67   72.54  43.12    93.15\n",
       "3   1.09  10.91  12.00  24.81  42.69  14.29   58.93  68.59    92.27\n",
       "4  11.55  20.61  32.16  24.66  10.97   7.15  135.53   6.86    90.95"
      ]
     },
     "execution_count": 66,
     "metadata": {},
     "output_type": "execute_result"
    }
   ],
   "source": [
    "#Let X-input and Y-input features\n",
    "X=df1[col2].drop('R=1.25',1)     \n",
    "Y=df1['R=1.25']   \n",
    "SScaler=StandardScaler()\n",
    "Xsd=SScaler.fit_transform(X)    #applying standardisation\n",
    "X.head()"
   ]
  },
  {
   "cell_type": "code",
   "execution_count": 67,
   "metadata": {},
   "outputs": [],
   "source": [
    "X_train, X_test, y_train, y_test=train_test_split(Xsd,Y,test_size=0.4, random_state=3)"
   ]
  },
  {
   "cell_type": "code",
   "execution_count": 68,
   "metadata": {},
   "outputs": [
    {
     "name": "stdout",
     "output_type": "stream",
     "text": [
      "Training Data Size: (51, 9)\n",
      "Test Data Size: (35, 9)\n"
     ]
    }
   ],
   "source": [
    "#Data-Size\n",
    "print('Training Data Size:',X_train.shape)\n",
    "print('Test Data Size:',X_test.shape)"
   ]
  },
  {
   "cell_type": "code",
   "execution_count": 69,
   "metadata": {},
   "outputs": [],
   "source": [
    "model1= LinearRegression()"
   ]
  },
  {
   "cell_type": "code",
   "execution_count": 70,
   "metadata": {},
   "outputs": [
    {
     "data": {
      "text/plain": [
       "LinearRegression()"
      ]
     },
     "execution_count": 70,
     "metadata": {},
     "output_type": "execute_result"
    }
   ],
   "source": [
    "model1.fit(X_train,y_train)"
   ]
  },
  {
   "cell_type": "code",
   "execution_count": 71,
   "metadata": {},
   "outputs": [
    {
     "name": "stdout",
     "output_type": "stream",
     "text": [
      "Intercept: 1.3708094345346638\n"
     ]
    }
   ],
   "source": [
    "print('Intercept:',model1.intercept_)"
   ]
  },
  {
   "cell_type": "code",
   "execution_count": 72,
   "metadata": {},
   "outputs": [
    {
     "data": {
      "text/plain": [
       "array([1.51663344, 1.60373488, 1.5185239 , 1.56317882, 1.33868422,\n",
       "       1.40575815, 0.51119798, 1.4380208 , 1.78429028, 1.42096369,\n",
       "       1.40642991, 1.28786688, 1.45804811, 1.31094133, 1.54461272,\n",
       "       1.36963331, 1.30542808, 1.87990966, 1.31750897, 1.29348627,\n",
       "       1.43120448, 1.60826327, 1.18767742, 1.67458983, 1.26838785,\n",
       "       1.18080446, 1.33015778, 1.37152417, 1.60209772, 1.53708531,\n",
       "       1.16070193, 1.2086273 , 1.37849867, 1.44682296, 1.27831681])"
      ]
     },
     "execution_count": 72,
     "metadata": {},
     "output_type": "execute_result"
    }
   ],
   "source": [
    "prediction1 = model1.predict(X_test)\n",
    "prediction1"
   ]
  },
  {
   "cell_type": "code",
   "execution_count": 75,
   "metadata": {},
   "outputs": [
    {
     "name": "stdout",
     "output_type": "stream",
     "text": [
      "Co-efficient:\n"
     ]
    },
    {
     "data": {
      "text/plain": [
       "[('NO', 0.04687991955353219),\n",
       " ('NO2', 0.02351894813137108),\n",
       " ('NOx', -0.027245615297083088),\n",
       " ('SO2', 0.021986359180455974),\n",
       " ('PM2.5', 0.04811842810379412),\n",
       " ('Ozone', 0.08359813567301043),\n",
       " ('WD', 0.03701025757866004),\n",
       " ('SR', 0.13652598216744805),\n",
       " ('T=86.13', 0.17274852947337901)]"
      ]
     },
     "execution_count": 75,
     "metadata": {},
     "output_type": "execute_result"
    }
   ],
   "source": [
    "print(\"Co-efficient:\")\n",
    "list(zip(X.columns,model1.coef_))"
   ]
  },
  {
   "cell_type": "code",
   "execution_count": 76,
   "metadata": {},
   "outputs": [
    {
     "data": {
      "image/png": "[encoded data removed]",
      "text/plain": [
       "<Figure size 432x288 with 1 Axes>"
      ]
     },
     "metadata": {
      "needs_background": "light"
     },
     "output_type": "display_data"
    }
   ],
   "source": [
    "plt.scatter(y_test,prediction1)\n",
    "plt.xlabel('Measured')\n",
    "plt.ylabel('Predicted')\n",
    "plt.title('Linear Regression vs Actual')\n",
    "plt.show()"
   ]
  },
  {
   "cell_type": "code",
   "execution_count": 80,
   "metadata": {},
   "outputs": [
    {
     "name": "stdout",
     "output_type": "stream",
     "text": [
      "0.24183699291244914\n",
      "\n",
      "\n",
      "Therefore by applying Linear Regression we can predict RH using all the features together with RSME= 0.24183699291244914\n"
     ]
    }
   ],
   "source": [
    "#Root Mean Square Error\n",
    "from sklearn import metrics\n",
    "rs=np.sqrt(metrics.mean_squared_error(y_test,prediction1))\n",
    "print(rs)\n",
    "print(\"\\n\")\n",
    "print(\"Therefore by applying Linear Regression we can predict RH using all the features together with RSME=\",rs)"
   ]
  },
  {
   "cell_type": "markdown",
   "metadata": {},
   "source": [
    "# Random Forest Regression"
   ]
  },
  {
   "cell_type": "code",
   "execution_count": 82,
   "metadata": {},
   "outputs": [],
   "source": [
    "from sklearn.ensemble import RandomForestRegressor          \n",
    "model2=RandomForestRegressor()"
   ]
  },
  {
   "cell_type": "code",
   "execution_count": 83,
   "metadata": {},
   "outputs": [
    {
     "data": {
      "text/plain": [
       "RandomForestRegressor()"
      ]
     },
     "execution_count": 83,
     "metadata": {},
     "output_type": "execute_result"
    }
   ],
   "source": [
    "model2.fit(X_train,y_train)"
   ]
  },
  {
   "cell_type": "code",
   "execution_count": 84,
   "metadata": {},
   "outputs": [
    {
     "data": {
      "text/plain": [
       "array([1.4782, 1.4462, 1.2529, 1.3252, 1.5184, 1.35  , 1.0848, 1.6186,\n",
       "       1.3362, 1.2389, 1.4275, 1.3922, 1.5663, 1.2353, 1.2595, 1.4406,\n",
       "       1.0634, 1.337 , 1.2794, 1.4828, 1.3992, 1.6588, 1.2933, 1.3144,\n",
       "       1.4479, 1.2835, 1.4965, 1.4127, 1.4215, 1.3622, 1.3761, 1.2524,\n",
       "       1.248 , 1.4219, 1.3865])"
      ]
     },
     "execution_count": 84,
     "metadata": {},
     "output_type": "execute_result"
    }
   ],
   "source": [
    "prediction2=model2.predict(X_test) \n",
    "prediction2"
   ]
  },
  {
   "cell_type": "code",
   "execution_count": 85,
   "metadata": {},
   "outputs": [
    {
     "data": {
      "image/png": "[encoded data removed]",
      "text/plain": [
       "<Figure size 432x288 with 1 Axes>"
      ]
     },
     "metadata": {
      "needs_background": "light"
     },
     "output_type": "display_data"
    }
   ],
   "source": [
    "plt.scatter(y_test,prediction2,color='green')\n",
    "plt.xlabel('Measured')\n",
    "plt.ylabel('Predicted')\n",
    "plt.title('Random Forest Regression vs Actual')\n",
    "plt.show()"
   ]
  },
  {
   "cell_type": "code",
   "execution_count": 87,
   "metadata": {},
   "outputs": [
    {
     "name": "stdout",
     "output_type": "stream",
     "text": [
      "0.26023917735147306\n",
      "\n",
      "\n",
      "Therefore by applying Random Forest Regression we can predict RH using all the features together with RSME= 0.26023917735147306\n"
     ]
    }
   ],
   "source": [
    "#Root Mean Square Error\n",
    "from sklearn import metrics\n",
    "rs3=np.sqrt(metrics.mean_squared_error(y_test,prediction2))\n",
    "print(rs3)\n",
    "print(\"\\n\")\n",
    "print(\"Therefore by applying Random Forest Regression we can predict RH using all the features together with RSME=\",rs3)"
   ]
  },
  {
   "cell_type": "code",
   "execution_count": 88,
   "metadata": {},
   "outputs": [
    {
     "name": "stdout",
     "output_type": "stream",
     "text": [
      "So we acheive best results from:\n",
      "{'Linear Regression': 0.24183699291244914}\n"
     ]
    }
   ],
   "source": [
    "print(\"So we acheive best results from:\")\n",
    "dict={\"Linear Regression\": rs,\"Random Forest Regression\": rs3}\n",
    "res =  [key for key in dict if \n",
    "        all(dict[temp] >= dict[key] \n",
    "        for temp in dict)] \n",
    "min_ = {k: dict[k] for k in dict.keys() & set(res)}\n",
    "print(min_)"
   ]
  },
  {
   "cell_type": "markdown",
   "metadata": {},
   "source": [
    "# Conclusion"
   ]
  },
  {
   "cell_type": "raw",
   "metadata": {},
   "source": [
    "Hence, on comparing the values of Pollutants in Velachery and Perungudi shows the AQI Index GOOD."
   ]
  },
  {
   "cell_type": "code",
   "execution_count": null,
   "metadata": {},
   "outputs": [],
   "source": []
  }
 ],
 "metadata": {
  "kernelspec": {
   "display_name": "Python 3",
   "language": "python",
   "name": "python3"
  },
  "language_info": {
   "codemirror_mode": {
    "name": "ipython",
    "version": 3
   },
   "file_extension": ".py",
   "mimetype": "text/x-python",
   "name": "python",
   "nbconvert_exporter": "python",
   "pygments_lexer": "ipython3",
   "version": "3.8.3"
  }
 },
 "nbformat": 4,
 "nbformat_minor": 4
}
