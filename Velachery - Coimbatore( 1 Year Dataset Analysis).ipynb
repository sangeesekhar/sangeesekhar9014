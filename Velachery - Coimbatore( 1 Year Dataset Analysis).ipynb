{
 "cells": [
  {
   "cell_type": "markdown",
   "metadata": {},
   "source": [
    "# URBAN AIR POLLUTION ANALYSIS USING SENSOR DATA"
   ]
  },
  {
   "cell_type": "raw",
   "metadata": {},
   "source": [
    "# Determining and Comparing Air Quality Index (AQI) from a Live Streaming Database of 1 year"
   ]
  },
  {
   "cell_type": "raw",
   "metadata": {},
   "source": [
    "  Eight pollutants:\n",
    "             PM 10\n",
    "             PM2.5 \n",
    "             Ozone (O3)\n",
    "             Sulphur dioxide (SO2)\n",
    "             Nitrogen dioxide (NO2)\n",
    "             Carbon monoxide (CO)\n",
    "             Lead (Pb) \n",
    "             Ammonia (NH3) act as major parameters in deriving the AQI of an area."
   ]
  },
  {
   "cell_type": "markdown",
   "metadata": {},
   "source": [
    "# Comparing areas are VELACHERY and Coimbatore with 5 MAIN POLLUTANTS"
   ]
  },
  {
   "cell_type": "code",
   "execution_count": 303,
   "metadata": {},
   "outputs": [],
   "source": [
    "import numpy as np\n",
    "import pandas as pd\n",
    "import matplotlib.pyplot as plt\n",
    "import seaborn as sns\n",
    "%matplotlib inline"
   ]
  },
  {
   "cell_type": "code",
   "execution_count": 304,
   "metadata": {},
   "outputs": [],
   "source": [
    "#loading dataset\n",
    "data1= pd.read_csv('velachery.csv', header=None)"
   ]
  },
  {
   "cell_type": "code",
   "execution_count": 305,
   "metadata": {},
   "outputs": [],
   "source": [
    "#loading dataset\n",
    "data2= pd.read_csv('SIDCO Kurichi, Coimbatore - TNPCB.csv', header=None)"
   ]
  },
  {
   "cell_type": "code",
   "execution_count": 306,
   "metadata": {},
   "outputs": [
    {
     "data": {
      "text/html": [
       "<div>\n",
       "<style scoped>\n",
       "    .dataframe tbody tr th:only-of-type {\n",
       "        vertical-align: middle;\n",
       "    }\n",
       "\n",
       "    .dataframe tbody tr th {\n",
       "        vertical-align: top;\n",
       "    }\n",
       "\n",
       "    .dataframe thead th {\n",
       "        text-align: right;\n",
       "    }\n",
       "</style>\n",
       "<table border=\"1\" class=\"dataframe\">\n",
       "  <thead>\n",
       "    <tr style=\"text-align: right;\">\n",
       "      <th></th>\n",
       "      <th>0</th>\n",
       "      <th>1</th>\n",
       "      <th>2</th>\n",
       "      <th>3</th>\n",
       "      <th>4</th>\n",
       "      <th>5</th>\n",
       "      <th>6</th>\n",
       "      <th>7</th>\n",
       "      <th>8</th>\n",
       "      <th>9</th>\n",
       "      <th>10</th>\n",
       "      <th>11</th>\n",
       "    </tr>\n",
       "  </thead>\n",
       "  <tbody>\n",
       "    <tr>\n",
       "      <th>0</th>\n",
       "      <td>Date</td>\n",
       "      <td>PM25</td>\n",
       "      <td>NO</td>\n",
       "      <td>NO2</td>\n",
       "      <td>NOx</td>\n",
       "      <td>SO2</td>\n",
       "      <td>CO</td>\n",
       "      <td>Ozone</td>\n",
       "      <td>RH</td>\n",
       "      <td>Temp</td>\n",
       "      <td>WD</td>\n",
       "      <td>SR</td>\n",
       "    </tr>\n",
       "    <tr>\n",
       "      <th>1</th>\n",
       "      <td>01-04-2020 00:00</td>\n",
       "      <td>32.21</td>\n",
       "      <td>8.27</td>\n",
       "      <td>1.17</td>\n",
       "      <td>8.19</td>\n",
       "      <td>8.73</td>\n",
       "      <td>0.73</td>\n",
       "      <td>16.57</td>\n",
       "      <td>67.52</td>\n",
       "      <td>NaN</td>\n",
       "      <td>154.94</td>\n",
       "      <td>283.76</td>\n",
       "    </tr>\n",
       "    <tr>\n",
       "      <th>2</th>\n",
       "      <td>02-04-2020 00:00</td>\n",
       "      <td>20.08</td>\n",
       "      <td>7.6</td>\n",
       "      <td>1.64</td>\n",
       "      <td>8.22</td>\n",
       "      <td>8.04</td>\n",
       "      <td>0.74</td>\n",
       "      <td>18.42</td>\n",
       "      <td>68.8</td>\n",
       "      <td>NaN</td>\n",
       "      <td>174.52</td>\n",
       "      <td>259.23</td>\n",
       "    </tr>\n",
       "    <tr>\n",
       "      <th>3</th>\n",
       "      <td>03-04-2020 00:00</td>\n",
       "      <td>12.82</td>\n",
       "      <td>7.58</td>\n",
       "      <td>1.83</td>\n",
       "      <td>8.43</td>\n",
       "      <td>7.37</td>\n",
       "      <td>0.73</td>\n",
       "      <td>16.27</td>\n",
       "      <td>67.83</td>\n",
       "      <td>NaN</td>\n",
       "      <td>159.07</td>\n",
       "      <td>250.1</td>\n",
       "    </tr>\n",
       "    <tr>\n",
       "      <th>4</th>\n",
       "      <td>04-04-2020 00:00</td>\n",
       "      <td>11.23</td>\n",
       "      <td>8.32</td>\n",
       "      <td>1.64</td>\n",
       "      <td>8.65</td>\n",
       "      <td>5.79</td>\n",
       "      <td>0.76</td>\n",
       "      <td>13.19</td>\n",
       "      <td>65.33</td>\n",
       "      <td>NaN</td>\n",
       "      <td>145.94</td>\n",
       "      <td>282.04</td>\n",
       "    </tr>\n",
       "  </tbody>\n",
       "</table>\n",
       "</div>"
      ],
      "text/plain": [
       "                 0      1     2     3     4     5     6      7      8     9   \\\n",
       "0              Date   PM25    NO   NO2   NOx   SO2    CO  Ozone     RH  Temp   \n",
       "1  01-04-2020 00:00  32.21  8.27  1.17  8.19  8.73  0.73  16.57  67.52   NaN   \n",
       "2  02-04-2020 00:00  20.08   7.6  1.64  8.22  8.04  0.74  18.42   68.8   NaN   \n",
       "3  03-04-2020 00:00  12.82  7.58  1.83  8.43  7.37  0.73  16.27  67.83   NaN   \n",
       "4  04-04-2020 00:00  11.23  8.32  1.64  8.65  5.79  0.76  13.19  65.33   NaN   \n",
       "\n",
       "       10      11  \n",
       "0      WD      SR  \n",
       "1  154.94  283.76  \n",
       "2  174.52  259.23  \n",
       "3  159.07   250.1  \n",
       "4  145.94  282.04  "
      ]
     },
     "execution_count": 306,
     "metadata": {},
     "output_type": "execute_result"
    }
   ],
   "source": [
    "data1.head()"
   ]
  },
  {
   "cell_type": "code",
   "execution_count": 307,
   "metadata": {},
   "outputs": [
    {
     "data": {
      "text/html": [
       "<div>\n",
       "<style scoped>\n",
       "    .dataframe tbody tr th:only-of-type {\n",
       "        vertical-align: middle;\n",
       "    }\n",
       "\n",
       "    .dataframe tbody tr th {\n",
       "        vertical-align: top;\n",
       "    }\n",
       "\n",
       "    .dataframe thead th {\n",
       "        text-align: right;\n",
       "    }\n",
       "</style>\n",
       "<table border=\"1\" class=\"dataframe\">\n",
       "  <thead>\n",
       "    <tr style=\"text-align: right;\">\n",
       "      <th></th>\n",
       "      <th>0</th>\n",
       "      <th>1</th>\n",
       "      <th>2</th>\n",
       "      <th>3</th>\n",
       "      <th>4</th>\n",
       "      <th>5</th>\n",
       "      <th>6</th>\n",
       "      <th>7</th>\n",
       "      <th>8</th>\n",
       "      <th>9</th>\n",
       "      <th>10</th>\n",
       "      <th>11</th>\n",
       "      <th>12</th>\n",
       "      <th>13</th>\n",
       "    </tr>\n",
       "  </thead>\n",
       "  <tbody>\n",
       "    <tr>\n",
       "      <th>0</th>\n",
       "      <td>Date</td>\n",
       "      <td>PM25</td>\n",
       "      <td>PM10</td>\n",
       "      <td>NO</td>\n",
       "      <td>NO2</td>\n",
       "      <td>NOx</td>\n",
       "      <td>NH3</td>\n",
       "      <td>SO2</td>\n",
       "      <td>CO</td>\n",
       "      <td>Ozone</td>\n",
       "      <td>WD</td>\n",
       "      <td>SR</td>\n",
       "      <td>RH</td>\n",
       "      <td>AT</td>\n",
       "    </tr>\n",
       "    <tr>\n",
       "      <th>1</th>\n",
       "      <td>01-04-2020 00:00</td>\n",
       "      <td>34.87</td>\n",
       "      <td>32.87</td>\n",
       "      <td>0.57</td>\n",
       "      <td>55.74</td>\n",
       "      <td>56.3</td>\n",
       "      <td>NaN</td>\n",
       "      <td>8.7</td>\n",
       "      <td>0.62</td>\n",
       "      <td>49.71</td>\n",
       "      <td>243.4</td>\n",
       "      <td>283.59</td>\n",
       "      <td>49.15</td>\n",
       "      <td>30.12</td>\n",
       "    </tr>\n",
       "    <tr>\n",
       "      <th>2</th>\n",
       "      <td>02-04-2020 00:00</td>\n",
       "      <td>34.53</td>\n",
       "      <td>34.86</td>\n",
       "      <td>0.74</td>\n",
       "      <td>67.15</td>\n",
       "      <td>67.88</td>\n",
       "      <td>NaN</td>\n",
       "      <td>6.62</td>\n",
       "      <td>0.6</td>\n",
       "      <td>44.12</td>\n",
       "      <td>200.11</td>\n",
       "      <td>274.69</td>\n",
       "      <td>52.23</td>\n",
       "      <td>30.57</td>\n",
       "    </tr>\n",
       "    <tr>\n",
       "      <th>3</th>\n",
       "      <td>03-04-2020 00:00</td>\n",
       "      <td>34.54</td>\n",
       "      <td>33.09</td>\n",
       "      <td>0.75</td>\n",
       "      <td>66.37</td>\n",
       "      <td>67.13</td>\n",
       "      <td>NaN</td>\n",
       "      <td>6.27</td>\n",
       "      <td>0.56</td>\n",
       "      <td>42.31</td>\n",
       "      <td>180.07</td>\n",
       "      <td>271.96</td>\n",
       "      <td>58.17</td>\n",
       "      <td>30.19</td>\n",
       "    </tr>\n",
       "    <tr>\n",
       "      <th>4</th>\n",
       "      <td>04-04-2020 00:00</td>\n",
       "      <td>24.82</td>\n",
       "      <td>25.99</td>\n",
       "      <td>0.77</td>\n",
       "      <td>66.75</td>\n",
       "      <td>67.52</td>\n",
       "      <td>NaN</td>\n",
       "      <td>6.12</td>\n",
       "      <td>0.56</td>\n",
       "      <td>42.06</td>\n",
       "      <td>203.44</td>\n",
       "      <td>279.72</td>\n",
       "      <td>54.31</td>\n",
       "      <td>30.49</td>\n",
       "    </tr>\n",
       "  </tbody>\n",
       "</table>\n",
       "</div>"
      ],
      "text/plain": [
       "                 0      1      2     3      4      5    6     7     8      9   \\\n",
       "0              Date   PM25   PM10    NO    NO2    NOx  NH3   SO2    CO  Ozone   \n",
       "1  01-04-2020 00:00  34.87  32.87  0.57  55.74   56.3  NaN   8.7  0.62  49.71   \n",
       "2  02-04-2020 00:00  34.53  34.86  0.74  67.15  67.88  NaN  6.62   0.6  44.12   \n",
       "3  03-04-2020 00:00  34.54  33.09  0.75  66.37  67.13  NaN  6.27  0.56  42.31   \n",
       "4  04-04-2020 00:00  24.82  25.99  0.77  66.75  67.52  NaN  6.12  0.56  42.06   \n",
       "\n",
       "       10      11     12     13  \n",
       "0      WD      SR     RH     AT  \n",
       "1   243.4  283.59  49.15  30.12  \n",
       "2  200.11  274.69  52.23  30.57  \n",
       "3  180.07  271.96  58.17  30.19  \n",
       "4  203.44  279.72  54.31  30.49  "
      ]
     },
     "execution_count": 307,
     "metadata": {},
     "output_type": "execute_result"
    }
   ],
   "source": [
    "data2.head()"
   ]
  },
  {
   "cell_type": "code",
   "execution_count": 308,
   "metadata": {},
   "outputs": [],
   "source": [
    "#defining headers(Capitalized)\n",
    "col=['DATE','PM25','NO','NO2','NOx','SO2',\n",
    "     'CO','Ozone','RH','Temp','WD','SR']\n",
    "col1=['DATE','PM25','PM10','NO','NO2','NOx','NH3','SO2',\n",
    "     'CO','Ozone','WD','SR','RH','AT']"
   ]
  },
  {
   "cell_type": "code",
   "execution_count": 309,
   "metadata": {},
   "outputs": [],
   "source": [
    "#Defining col numbers\n",
    "r=list(np.arange(len(col)))\n",
    "r1=list(np.arange(len(col1)))"
   ]
  },
  {
   "cell_type": "code",
   "execution_count": 310,
   "metadata": {},
   "outputs": [
    {
     "data": {
      "text/html": [
       "<div>\n",
       "<style scoped>\n",
       "    .dataframe tbody tr th:only-of-type {\n",
       "        vertical-align: middle;\n",
       "    }\n",
       "\n",
       "    .dataframe tbody tr th {\n",
       "        vertical-align: top;\n",
       "    }\n",
       "\n",
       "    .dataframe thead th {\n",
       "        text-align: right;\n",
       "    }\n",
       "</style>\n",
       "<table border=\"1\" class=\"dataframe\">\n",
       "  <thead>\n",
       "    <tr style=\"text-align: right;\">\n",
       "      <th></th>\n",
       "      <th>Date</th>\n",
       "      <th>PM25</th>\n",
       "      <th>NO</th>\n",
       "      <th>NO2</th>\n",
       "      <th>NOx</th>\n",
       "      <th>SO2</th>\n",
       "      <th>CO</th>\n",
       "      <th>Ozone</th>\n",
       "      <th>RH</th>\n",
       "      <th>Temp</th>\n",
       "      <th>WD</th>\n",
       "      <th>SR</th>\n",
       "    </tr>\n",
       "  </thead>\n",
       "  <tbody>\n",
       "    <tr>\n",
       "      <th>0</th>\n",
       "      <td>01-04-2020 00:00</td>\n",
       "      <td>32.21</td>\n",
       "      <td>8.27</td>\n",
       "      <td>1.17</td>\n",
       "      <td>8.19</td>\n",
       "      <td>8.73</td>\n",
       "      <td>0.73</td>\n",
       "      <td>16.57</td>\n",
       "      <td>67.52</td>\n",
       "      <td>NaN</td>\n",
       "      <td>154.94</td>\n",
       "      <td>283.76</td>\n",
       "    </tr>\n",
       "    <tr>\n",
       "      <th>1</th>\n",
       "      <td>02-04-2020 00:00</td>\n",
       "      <td>20.08</td>\n",
       "      <td>7.60</td>\n",
       "      <td>1.64</td>\n",
       "      <td>8.22</td>\n",
       "      <td>8.04</td>\n",
       "      <td>0.74</td>\n",
       "      <td>18.42</td>\n",
       "      <td>68.80</td>\n",
       "      <td>NaN</td>\n",
       "      <td>174.52</td>\n",
       "      <td>259.23</td>\n",
       "    </tr>\n",
       "    <tr>\n",
       "      <th>2</th>\n",
       "      <td>03-04-2020 00:00</td>\n",
       "      <td>12.82</td>\n",
       "      <td>7.58</td>\n",
       "      <td>1.83</td>\n",
       "      <td>8.43</td>\n",
       "      <td>7.37</td>\n",
       "      <td>0.73</td>\n",
       "      <td>16.27</td>\n",
       "      <td>67.83</td>\n",
       "      <td>NaN</td>\n",
       "      <td>159.07</td>\n",
       "      <td>250.10</td>\n",
       "    </tr>\n",
       "  </tbody>\n",
       "</table>\n",
       "</div>"
      ],
      "text/plain": [
       "               Date   PM25    NO   NO2   NOx   SO2    CO  Ozone     RH  Temp  \\\n",
       "0  01-04-2020 00:00  32.21  8.27  1.17  8.19  8.73  0.73  16.57  67.52   NaN   \n",
       "1  02-04-2020 00:00  20.08  7.60  1.64  8.22  8.04  0.74  18.42  68.80   NaN   \n",
       "2  03-04-2020 00:00  12.82  7.58  1.83  8.43  7.37  0.73  16.27  67.83   NaN   \n",
       "\n",
       "       WD      SR  \n",
       "0  154.94  283.76  \n",
       "1  174.52  259.23  \n",
       "2  159.07  250.10  "
      ]
     },
     "execution_count": 310,
     "metadata": {},
     "output_type": "execute_result"
    }
   ],
   "source": [
    "df1=pd.read_csv('velachery.csv')\n",
    "df1.head(3)"
   ]
  },
  {
   "cell_type": "code",
   "execution_count": 311,
   "metadata": {},
   "outputs": [
    {
     "data": {
      "text/html": [
       "<div>\n",
       "<style scoped>\n",
       "    .dataframe tbody tr th:only-of-type {\n",
       "        vertical-align: middle;\n",
       "    }\n",
       "\n",
       "    .dataframe tbody tr th {\n",
       "        vertical-align: top;\n",
       "    }\n",
       "\n",
       "    .dataframe thead th {\n",
       "        text-align: right;\n",
       "    }\n",
       "</style>\n",
       "<table border=\"1\" class=\"dataframe\">\n",
       "  <thead>\n",
       "    <tr style=\"text-align: right;\">\n",
       "      <th></th>\n",
       "      <th>DATE</th>\n",
       "      <th>PM25</th>\n",
       "      <th>PM10</th>\n",
       "      <th>NO</th>\n",
       "      <th>NO2</th>\n",
       "      <th>NOx</th>\n",
       "      <th>NH3</th>\n",
       "      <th>SO2</th>\n",
       "      <th>CO</th>\n",
       "      <th>Ozone</th>\n",
       "      <th>WD</th>\n",
       "      <th>SR</th>\n",
       "      <th>RH</th>\n",
       "      <th>AT</th>\n",
       "    </tr>\n",
       "  </thead>\n",
       "  <tbody>\n",
       "    <tr>\n",
       "      <th>0</th>\n",
       "      <td>01-04-2020 00:00</td>\n",
       "      <td>34.87</td>\n",
       "      <td>32.87</td>\n",
       "      <td>0.57</td>\n",
       "      <td>55.74</td>\n",
       "      <td>56.30</td>\n",
       "      <td>NaN</td>\n",
       "      <td>8.70</td>\n",
       "      <td>0.62</td>\n",
       "      <td>49.71</td>\n",
       "      <td>243.40</td>\n",
       "      <td>283.59</td>\n",
       "      <td>49.15</td>\n",
       "      <td>30.12</td>\n",
       "    </tr>\n",
       "    <tr>\n",
       "      <th>1</th>\n",
       "      <td>02-04-2020 00:00</td>\n",
       "      <td>34.53</td>\n",
       "      <td>34.86</td>\n",
       "      <td>0.74</td>\n",
       "      <td>67.15</td>\n",
       "      <td>67.88</td>\n",
       "      <td>NaN</td>\n",
       "      <td>6.62</td>\n",
       "      <td>0.60</td>\n",
       "      <td>44.12</td>\n",
       "      <td>200.11</td>\n",
       "      <td>274.69</td>\n",
       "      <td>52.23</td>\n",
       "      <td>30.57</td>\n",
       "    </tr>\n",
       "    <tr>\n",
       "      <th>2</th>\n",
       "      <td>03-04-2020 00:00</td>\n",
       "      <td>34.54</td>\n",
       "      <td>33.09</td>\n",
       "      <td>0.75</td>\n",
       "      <td>66.37</td>\n",
       "      <td>67.13</td>\n",
       "      <td>NaN</td>\n",
       "      <td>6.27</td>\n",
       "      <td>0.56</td>\n",
       "      <td>42.31</td>\n",
       "      <td>180.07</td>\n",
       "      <td>271.96</td>\n",
       "      <td>58.17</td>\n",
       "      <td>30.19</td>\n",
       "    </tr>\n",
       "  </tbody>\n",
       "</table>\n",
       "</div>"
      ],
      "text/plain": [
       "               DATE   PM25   PM10    NO    NO2    NOx  NH3   SO2    CO  Ozone  \\\n",
       "0  01-04-2020 00:00  34.87  32.87  0.57  55.74  56.30  NaN  8.70  0.62  49.71   \n",
       "1  02-04-2020 00:00  34.53  34.86  0.74  67.15  67.88  NaN  6.62  0.60  44.12   \n",
       "2  03-04-2020 00:00  34.54  33.09  0.75  66.37  67.13  NaN  6.27  0.56  42.31   \n",
       "\n",
       "       WD      SR     RH     AT  \n",
       "0  243.40  283.59  49.15  30.12  \n",
       "1  200.11  274.69  52.23  30.57  \n",
       "2  180.07  271.96  58.17  30.19  "
      ]
     },
     "execution_count": 311,
     "metadata": {},
     "output_type": "execute_result"
    }
   ],
   "source": [
    "df2=pd.read_csv('SIDCO Kurichi, Coimbatore - TNPCB.csv',header=None,skiprows=1,names=col1,na_filter=True,\n",
    "                   na_values=-100,usecols=r1)\n",
    "df2.head(3)"
   ]
  },
  {
   "cell_type": "code",
   "execution_count": 312,
   "metadata": {},
   "outputs": [
    {
     "data": {
      "text/plain": [
       "Date      object\n",
       "PM25     float64\n",
       "NO       float64\n",
       "NO2      float64\n",
       "NOx      float64\n",
       "SO2      float64\n",
       "CO       float64\n",
       "Ozone    float64\n",
       "RH       float64\n",
       "Temp     float64\n",
       "WD       float64\n",
       "SR       float64\n",
       "dtype: object"
      ]
     },
     "execution_count": 312,
     "metadata": {},
     "output_type": "execute_result"
    }
   ],
   "source": [
    "df1.dtypes"
   ]
  },
  {
   "cell_type": "code",
   "execution_count": 313,
   "metadata": {},
   "outputs": [
    {
     "data": {
      "text/plain": [
       "DATE      object\n",
       "PM25     float64\n",
       "PM10     float64\n",
       "NO       float64\n",
       "NO2      float64\n",
       "NOx      float64\n",
       "NH3      float64\n",
       "SO2      float64\n",
       "CO       float64\n",
       "Ozone    float64\n",
       "WD       float64\n",
       "SR       float64\n",
       "RH       float64\n",
       "AT       float64\n",
       "dtype: object"
      ]
     },
     "execution_count": 313,
     "metadata": {},
     "output_type": "execute_result"
    }
   ],
   "source": [
    "df2.dtypes"
   ]
  },
  {
   "cell_type": "markdown",
   "metadata": {},
   "source": [
    "# Replacing  NaN Values with predicted values and mean values"
   ]
  },
  {
   "cell_type": "raw",
   "metadata": {},
   "source": [
    "# Step 1: Find the columns having missing values\n",
    "# Step 2: Predict missing values by Support Vector Regression"
   ]
  },
  {
   "cell_type": "code",
   "execution_count": 314,
   "metadata": {},
   "outputs": [
    {
     "name": "stdout",
     "output_type": "stream",
     "text": [
      "Missing values:\n",
      "\n",
      " Date       0\n",
      "PM25       0\n",
      "NO         0\n",
      "NO2        1\n",
      "NOx        0\n",
      "SO2       13\n",
      "CO         0\n",
      "Ozone      0\n",
      "RH         0\n",
      "Temp     366\n",
      "WD         0\n",
      "SR         1\n",
      "dtype: int64\n",
      "\n",
      "\n"
     ]
    }
   ],
   "source": [
    "#Counting Missing Values from each Column\n",
    "print('Missing values:\\n\\n',df1.shape[0]-df1.count())\n",
    "clean=(df1.shape[0]-df1.count()).sum()\n",
    "print(\"\\n\")\n",
    "if(clean==0):\n",
    "    print(\"No Missing Values\")"
   ]
  },
  {
   "cell_type": "markdown",
   "metadata": {},
   "source": [
    "# Predicting SO2 values"
   ]
  },
  {
   "cell_type": "code",
   "execution_count": 315,
   "metadata": {},
   "outputs": [],
   "source": [
    "from sklearn.svm import SVR"
   ]
  },
  {
   "cell_type": "code",
   "execution_count": 316,
   "metadata": {},
   "outputs": [
    {
     "name": "stdout",
     "output_type": "stream",
     "text": [
      "           PM25        NO       NO2       NOx       SO2        CO     Ozone  \\\n",
      "PM25   1.000000 -0.351105  0.348090  0.170413  0.329221 -0.323413 -0.130815   \n",
      "NO    -0.351105  1.000000 -0.269254  0.261681 -0.053218  0.483397  0.066409   \n",
      "NO2    0.348090 -0.269254  1.000000  0.857100  0.354533 -0.344082 -0.148714   \n",
      "NOx    0.170413  0.261681  0.857100  1.000000  0.321957 -0.096681 -0.127823   \n",
      "SO2    0.329221 -0.053218  0.354533  0.321957  1.000000 -0.127375 -0.182379   \n",
      "CO    -0.323413  0.483397 -0.344082 -0.096681 -0.127375  1.000000  0.266907   \n",
      "Ozone -0.130815  0.066409 -0.148714 -0.127823 -0.182379  0.266907  1.000000   \n",
      "RH     0.166045 -0.125544  0.306932  0.243073  0.137725 -0.203975 -0.262127   \n",
      "Temp        NaN       NaN       NaN       NaN       NaN       NaN       NaN   \n",
      "WD    -0.264683  0.249754 -0.341592 -0.216091 -0.484084  0.381519  0.208850   \n",
      "SR    -0.374913  0.411957 -0.498042 -0.266676 -0.114234  0.419362  0.150655   \n",
      "\n",
      "             RH  Temp        WD        SR  \n",
      "PM25   0.166045   NaN -0.264683 -0.374913  \n",
      "NO    -0.125544   NaN  0.249754  0.411957  \n",
      "NO2    0.306932   NaN -0.341592 -0.498042  \n",
      "NOx    0.243073   NaN -0.216091 -0.266676  \n",
      "SO2    0.137725   NaN -0.484084 -0.114234  \n",
      "CO    -0.203975   NaN  0.381519  0.419362  \n",
      "Ozone -0.262127   NaN  0.208850  0.150655  \n",
      "RH     1.000000   NaN -0.369304 -0.478130  \n",
      "Temp        NaN   NaN       NaN       NaN  \n",
      "WD    -0.369304   NaN  1.000000  0.165291  \n",
      "SR    -0.478130   NaN  0.165291  1.000000  \n"
     ]
    }
   ],
   "source": [
    "#print the correlation matrix\n",
    "print(df1.corr())"
   ]
  },
  {
   "cell_type": "code",
   "execution_count": 317,
   "metadata": {},
   "outputs": [],
   "source": [
    "#Split training and prediction dataset\n",
    "cols = [\"PM25\",\"NO2\",\"CO\",\"Ozone\",\"SO2\"]\n",
    "df = df1[cols]\n",
    "test_df = df[df[\"SO2\"].isnull()]\n",
    "df = df.dropna()"
   ]
  },
  {
   "cell_type": "code",
   "execution_count": 318,
   "metadata": {},
   "outputs": [],
   "source": [
    "y_train = df[\"SO2\"]\n",
    "X_train = df.drop(\"SO2\", axis=1)\n",
    "X_test = test_df.drop(\"SO2\", axis=1)"
   ]
  },
  {
   "cell_type": "code",
   "execution_count": 319,
   "metadata": {},
   "outputs": [],
   "source": [
    "sv = SVR()\n",
    "sv.fit(X_train, y_train)\n",
    "y_pred = sv.predict(X_test)"
   ]
  },
  {
   "cell_type": "code",
   "execution_count": 320,
   "metadata": {},
   "outputs": [],
   "source": [
    "#replace the missing values with predicted values\n",
    "df1.loc[df1.SO2.isnull(),'SO2'] = y_pred"
   ]
  },
  {
   "cell_type": "code",
   "execution_count": 321,
   "metadata": {},
   "outputs": [
    {
     "data": {
      "text/plain": [
       "array([ 4.63770075,  6.50024046,  6.84957126,  8.44105026,  7.2082898 ,\n",
       "       12.63129186, 13.92739718, 10.08637793, 10.67645173, 15.49028639,\n",
       "       13.14409379, 13.10005078,  6.64477781])"
      ]
     },
     "execution_count": 321,
     "metadata": {},
     "output_type": "execute_result"
    }
   ],
   "source": [
    "y_pred"
   ]
  },
  {
   "cell_type": "code",
   "execution_count": 322,
   "metadata": {},
   "outputs": [],
   "source": [
    "df1['Temp']=df1['Temp'].replace(np.nan,0)"
   ]
  },
  {
   "cell_type": "code",
   "execution_count": 323,
   "metadata": {},
   "outputs": [],
   "source": [
    "df1['SR']=df1['SR'].replace(np.nan,0)"
   ]
  },
  {
   "cell_type": "code",
   "execution_count": 324,
   "metadata": {},
   "outputs": [],
   "source": [
    "df1['NO2']=df1['NO2'].replace(np.nan,0)"
   ]
  },
  {
   "cell_type": "code",
   "execution_count": 325,
   "metadata": {},
   "outputs": [
    {
     "data": {
      "text/plain": [
       "PM25      28.527939\n",
       "PM10      36.359399\n",
       "NO         0.821360\n",
       "NO2       26.849970\n",
       "NOx       25.316108\n",
       "NH3        6.033107\n",
       "SO2        9.321826\n",
       "CO         0.628323\n",
       "Ozone     14.289251\n",
       "WD       154.507275\n",
       "SR       210.487126\n",
       "RH        74.000210\n",
       "AT        26.193283\n",
       "dtype: float64"
      ]
     },
     "execution_count": 325,
     "metadata": {},
     "output_type": "execute_result"
    }
   ],
   "source": [
    "df2.mean()"
   ]
  },
  {
   "cell_type": "code",
   "execution_count": 326,
   "metadata": {},
   "outputs": [],
   "source": [
    "df2.fillna(df2.mean(),inplace= True)"
   ]
  },
  {
   "cell_type": "code",
   "execution_count": 327,
   "metadata": {},
   "outputs": [
    {
     "data": {
      "text/html": [
       "<div>\n",
       "<style scoped>\n",
       "    .dataframe tbody tr th:only-of-type {\n",
       "        vertical-align: middle;\n",
       "    }\n",
       "\n",
       "    .dataframe tbody tr th {\n",
       "        vertical-align: top;\n",
       "    }\n",
       "\n",
       "    .dataframe thead th {\n",
       "        text-align: right;\n",
       "    }\n",
       "</style>\n",
       "<table border=\"1\" class=\"dataframe\">\n",
       "  <thead>\n",
       "    <tr style=\"text-align: right;\">\n",
       "      <th></th>\n",
       "      <th>DATE</th>\n",
       "      <th>PM25</th>\n",
       "      <th>PM10</th>\n",
       "      <th>NO</th>\n",
       "      <th>NO2</th>\n",
       "      <th>NOx</th>\n",
       "      <th>NH3</th>\n",
       "      <th>SO2</th>\n",
       "      <th>CO</th>\n",
       "      <th>Ozone</th>\n",
       "      <th>WD</th>\n",
       "      <th>SR</th>\n",
       "      <th>RH</th>\n",
       "      <th>AT</th>\n",
       "    </tr>\n",
       "  </thead>\n",
       "  <tbody>\n",
       "    <tr>\n",
       "      <th>236</th>\n",
       "      <td>23-11-2020 00:00</td>\n",
       "      <td>45.840000</td>\n",
       "      <td>50.530000</td>\n",
       "      <td>0.82136</td>\n",
       "      <td>23.90000</td>\n",
       "      <td>23.000000</td>\n",
       "      <td>1.040000</td>\n",
       "      <td>15.770000</td>\n",
       "      <td>0.820000</td>\n",
       "      <td>23.620000</td>\n",
       "      <td>171.270000</td>\n",
       "      <td>232.510000</td>\n",
       "      <td>59.22000</td>\n",
       "      <td>25.210000</td>\n",
       "    </tr>\n",
       "    <tr>\n",
       "      <th>237</th>\n",
       "      <td>24-11-2020 00:00</td>\n",
       "      <td>51.220000</td>\n",
       "      <td>57.180000</td>\n",
       "      <td>0.82136</td>\n",
       "      <td>24.50000</td>\n",
       "      <td>23.640000</td>\n",
       "      <td>2.610000</td>\n",
       "      <td>16.040000</td>\n",
       "      <td>0.820000</td>\n",
       "      <td>16.690000</td>\n",
       "      <td>183.870000</td>\n",
       "      <td>169.000000</td>\n",
       "      <td>68.87000</td>\n",
       "      <td>26.140000</td>\n",
       "    </tr>\n",
       "    <tr>\n",
       "      <th>238</th>\n",
       "      <td>25-11-2020 00:00</td>\n",
       "      <td>49.860000</td>\n",
       "      <td>52.020000</td>\n",
       "      <td>0.82136</td>\n",
       "      <td>21.09000</td>\n",
       "      <td>20.240000</td>\n",
       "      <td>3.530000</td>\n",
       "      <td>15.450000</td>\n",
       "      <td>0.790000</td>\n",
       "      <td>17.540000</td>\n",
       "      <td>184.070000</td>\n",
       "      <td>155.040000</td>\n",
       "      <td>74.23000</td>\n",
       "      <td>26.330000</td>\n",
       "    </tr>\n",
       "    <tr>\n",
       "      <th>239</th>\n",
       "      <td>26-11-2020 00:00</td>\n",
       "      <td>29.200000</td>\n",
       "      <td>34.090000</td>\n",
       "      <td>0.82136</td>\n",
       "      <td>16.84000</td>\n",
       "      <td>15.950000</td>\n",
       "      <td>3.900000</td>\n",
       "      <td>14.130000</td>\n",
       "      <td>0.630000</td>\n",
       "      <td>18.270000</td>\n",
       "      <td>143.790000</td>\n",
       "      <td>181.570000</td>\n",
       "      <td>80.59000</td>\n",
       "      <td>26.280000</td>\n",
       "    </tr>\n",
       "    <tr>\n",
       "      <th>240</th>\n",
       "      <td>27-11-2020 00:00</td>\n",
       "      <td>29.010000</td>\n",
       "      <td>32.450000</td>\n",
       "      <td>0.82136</td>\n",
       "      <td>18.96000</td>\n",
       "      <td>18.090000</td>\n",
       "      <td>3.650000</td>\n",
       "      <td>13.060000</td>\n",
       "      <td>0.660000</td>\n",
       "      <td>12.200000</td>\n",
       "      <td>190.480000</td>\n",
       "      <td>201.820000</td>\n",
       "      <td>76.79000</td>\n",
       "      <td>26.060000</td>\n",
       "    </tr>\n",
       "    <tr>\n",
       "      <th>...</th>\n",
       "      <td>...</td>\n",
       "      <td>...</td>\n",
       "      <td>...</td>\n",
       "      <td>...</td>\n",
       "      <td>...</td>\n",
       "      <td>...</td>\n",
       "      <td>...</td>\n",
       "      <td>...</td>\n",
       "      <td>...</td>\n",
       "      <td>...</td>\n",
       "      <td>...</td>\n",
       "      <td>...</td>\n",
       "      <td>...</td>\n",
       "      <td>...</td>\n",
       "    </tr>\n",
       "    <tr>\n",
       "      <th>361</th>\n",
       "      <td>28-03-2021 00:00</td>\n",
       "      <td>28.527939</td>\n",
       "      <td>36.359399</td>\n",
       "      <td>0.82136</td>\n",
       "      <td>26.84997</td>\n",
       "      <td>25.316108</td>\n",
       "      <td>6.033107</td>\n",
       "      <td>9.321826</td>\n",
       "      <td>0.628323</td>\n",
       "      <td>14.289251</td>\n",
       "      <td>154.507275</td>\n",
       "      <td>210.487126</td>\n",
       "      <td>74.00021</td>\n",
       "      <td>26.193283</td>\n",
       "    </tr>\n",
       "    <tr>\n",
       "      <th>362</th>\n",
       "      <td>29-03-2021 00:00</td>\n",
       "      <td>28.527939</td>\n",
       "      <td>36.359399</td>\n",
       "      <td>0.82136</td>\n",
       "      <td>26.84997</td>\n",
       "      <td>25.316108</td>\n",
       "      <td>6.033107</td>\n",
       "      <td>9.321826</td>\n",
       "      <td>0.628323</td>\n",
       "      <td>14.289251</td>\n",
       "      <td>154.507275</td>\n",
       "      <td>210.487126</td>\n",
       "      <td>74.00021</td>\n",
       "      <td>26.193283</td>\n",
       "    </tr>\n",
       "    <tr>\n",
       "      <th>363</th>\n",
       "      <td>30-03-2021 00:00</td>\n",
       "      <td>28.527939</td>\n",
       "      <td>36.359399</td>\n",
       "      <td>0.82136</td>\n",
       "      <td>26.84997</td>\n",
       "      <td>25.316108</td>\n",
       "      <td>6.033107</td>\n",
       "      <td>9.321826</td>\n",
       "      <td>0.628323</td>\n",
       "      <td>14.289251</td>\n",
       "      <td>154.507275</td>\n",
       "      <td>210.487126</td>\n",
       "      <td>74.00021</td>\n",
       "      <td>26.193283</td>\n",
       "    </tr>\n",
       "    <tr>\n",
       "      <th>364</th>\n",
       "      <td>31-03-2021 00:00</td>\n",
       "      <td>28.527939</td>\n",
       "      <td>36.359399</td>\n",
       "      <td>0.82136</td>\n",
       "      <td>26.84997</td>\n",
       "      <td>25.316108</td>\n",
       "      <td>6.033107</td>\n",
       "      <td>9.321826</td>\n",
       "      <td>0.628323</td>\n",
       "      <td>14.289251</td>\n",
       "      <td>154.507275</td>\n",
       "      <td>210.487126</td>\n",
       "      <td>74.00021</td>\n",
       "      <td>26.193283</td>\n",
       "    </tr>\n",
       "    <tr>\n",
       "      <th>365</th>\n",
       "      <td>01-04-2021 00:00</td>\n",
       "      <td>28.527939</td>\n",
       "      <td>36.359399</td>\n",
       "      <td>0.82136</td>\n",
       "      <td>26.84997</td>\n",
       "      <td>25.316108</td>\n",
       "      <td>6.033107</td>\n",
       "      <td>9.321826</td>\n",
       "      <td>0.628323</td>\n",
       "      <td>14.289251</td>\n",
       "      <td>154.507275</td>\n",
       "      <td>210.487126</td>\n",
       "      <td>74.00021</td>\n",
       "      <td>26.193283</td>\n",
       "    </tr>\n",
       "  </tbody>\n",
       "</table>\n",
       "<p>130 rows × 14 columns</p>\n",
       "</div>"
      ],
      "text/plain": [
       "                 DATE       PM25       PM10       NO       NO2        NOx  \\\n",
       "236  23-11-2020 00:00  45.840000  50.530000  0.82136  23.90000  23.000000   \n",
       "237  24-11-2020 00:00  51.220000  57.180000  0.82136  24.50000  23.640000   \n",
       "238  25-11-2020 00:00  49.860000  52.020000  0.82136  21.09000  20.240000   \n",
       "239  26-11-2020 00:00  29.200000  34.090000  0.82136  16.84000  15.950000   \n",
       "240  27-11-2020 00:00  29.010000  32.450000  0.82136  18.96000  18.090000   \n",
       "..                ...        ...        ...      ...       ...        ...   \n",
       "361  28-03-2021 00:00  28.527939  36.359399  0.82136  26.84997  25.316108   \n",
       "362  29-03-2021 00:00  28.527939  36.359399  0.82136  26.84997  25.316108   \n",
       "363  30-03-2021 00:00  28.527939  36.359399  0.82136  26.84997  25.316108   \n",
       "364  31-03-2021 00:00  28.527939  36.359399  0.82136  26.84997  25.316108   \n",
       "365  01-04-2021 00:00  28.527939  36.359399  0.82136  26.84997  25.316108   \n",
       "\n",
       "          NH3        SO2        CO      Ozone          WD          SR  \\\n",
       "236  1.040000  15.770000  0.820000  23.620000  171.270000  232.510000   \n",
       "237  2.610000  16.040000  0.820000  16.690000  183.870000  169.000000   \n",
       "238  3.530000  15.450000  0.790000  17.540000  184.070000  155.040000   \n",
       "239  3.900000  14.130000  0.630000  18.270000  143.790000  181.570000   \n",
       "240  3.650000  13.060000  0.660000  12.200000  190.480000  201.820000   \n",
       "..        ...        ...       ...        ...         ...         ...   \n",
       "361  6.033107   9.321826  0.628323  14.289251  154.507275  210.487126   \n",
       "362  6.033107   9.321826  0.628323  14.289251  154.507275  210.487126   \n",
       "363  6.033107   9.321826  0.628323  14.289251  154.507275  210.487126   \n",
       "364  6.033107   9.321826  0.628323  14.289251  154.507275  210.487126   \n",
       "365  6.033107   9.321826  0.628323  14.289251  154.507275  210.487126   \n",
       "\n",
       "           RH         AT  \n",
       "236  59.22000  25.210000  \n",
       "237  68.87000  26.140000  \n",
       "238  74.23000  26.330000  \n",
       "239  80.59000  26.280000  \n",
       "240  76.79000  26.060000  \n",
       "..        ...        ...  \n",
       "361  74.00021  26.193283  \n",
       "362  74.00021  26.193283  \n",
       "363  74.00021  26.193283  \n",
       "364  74.00021  26.193283  \n",
       "365  74.00021  26.193283  \n",
       "\n",
       "[130 rows x 14 columns]"
      ]
     },
     "execution_count": 327,
     "metadata": {},
     "output_type": "execute_result"
    }
   ],
   "source": [
    "df2.tail(130)"
   ]
  },
  {
   "cell_type": "code",
   "execution_count": 328,
   "metadata": {},
   "outputs": [
    {
     "data": {
      "text/html": [
       "<div>\n",
       "<style scoped>\n",
       "    .dataframe tbody tr th:only-of-type {\n",
       "        vertical-align: middle;\n",
       "    }\n",
       "\n",
       "    .dataframe tbody tr th {\n",
       "        vertical-align: top;\n",
       "    }\n",
       "\n",
       "    .dataframe thead th {\n",
       "        text-align: right;\n",
       "    }\n",
       "</style>\n",
       "<table border=\"1\" class=\"dataframe\">\n",
       "  <thead>\n",
       "    <tr style=\"text-align: right;\">\n",
       "      <th></th>\n",
       "      <th>PM25</th>\n",
       "      <th>NO</th>\n",
       "      <th>NO2</th>\n",
       "      <th>NOx</th>\n",
       "      <th>SO2</th>\n",
       "      <th>CO</th>\n",
       "      <th>Ozone</th>\n",
       "      <th>RH</th>\n",
       "      <th>Temp</th>\n",
       "      <th>WD</th>\n",
       "      <th>SR</th>\n",
       "    </tr>\n",
       "  </thead>\n",
       "  <tbody>\n",
       "    <tr>\n",
       "      <th>count</th>\n",
       "      <td>366.000000</td>\n",
       "      <td>366.000000</td>\n",
       "      <td>366.000000</td>\n",
       "      <td>366.000000</td>\n",
       "      <td>366.000000</td>\n",
       "      <td>366.000000</td>\n",
       "      <td>366.000000</td>\n",
       "      <td>366.000000</td>\n",
       "      <td>366.0</td>\n",
       "      <td>366.000000</td>\n",
       "      <td>366.000000</td>\n",
       "    </tr>\n",
       "    <tr>\n",
       "      <th>mean</th>\n",
       "      <td>25.733169</td>\n",
       "      <td>4.943306</td>\n",
       "      <td>7.167951</td>\n",
       "      <td>11.518962</td>\n",
       "      <td>9.938600</td>\n",
       "      <td>0.667869</td>\n",
       "      <td>25.993661</td>\n",
       "      <td>73.610437</td>\n",
       "      <td>0.0</td>\n",
       "      <td>159.355956</td>\n",
       "      <td>139.028497</td>\n",
       "    </tr>\n",
       "    <tr>\n",
       "      <th>std</th>\n",
       "      <td>14.788371</td>\n",
       "      <td>2.736721</td>\n",
       "      <td>4.815048</td>\n",
       "      <td>5.118922</td>\n",
       "      <td>7.866677</td>\n",
       "      <td>0.210030</td>\n",
       "      <td>15.307176</td>\n",
       "      <td>7.984963</td>\n",
       "      <td>0.0</td>\n",
       "      <td>53.822402</td>\n",
       "      <td>85.683727</td>\n",
       "    </tr>\n",
       "    <tr>\n",
       "      <th>min</th>\n",
       "      <td>3.110000</td>\n",
       "      <td>0.010000</td>\n",
       "      <td>0.000000</td>\n",
       "      <td>0.000000</td>\n",
       "      <td>1.120000</td>\n",
       "      <td>0.330000</td>\n",
       "      <td>3.490000</td>\n",
       "      <td>47.310000</td>\n",
       "      <td>0.0</td>\n",
       "      <td>23.850000</td>\n",
       "      <td>0.000000</td>\n",
       "    </tr>\n",
       "    <tr>\n",
       "      <th>25%</th>\n",
       "      <td>15.447500</td>\n",
       "      <td>2.880000</td>\n",
       "      <td>3.627500</td>\n",
       "      <td>8.560000</td>\n",
       "      <td>4.317500</td>\n",
       "      <td>0.510000</td>\n",
       "      <td>15.515000</td>\n",
       "      <td>68.392500</td>\n",
       "      <td>0.0</td>\n",
       "      <td>125.820000</td>\n",
       "      <td>67.062500</td>\n",
       "    </tr>\n",
       "    <tr>\n",
       "      <th>50%</th>\n",
       "      <td>25.980000</td>\n",
       "      <td>4.460000</td>\n",
       "      <td>6.335000</td>\n",
       "      <td>10.130000</td>\n",
       "      <td>6.975000</td>\n",
       "      <td>0.580000</td>\n",
       "      <td>22.930000</td>\n",
       "      <td>73.075000</td>\n",
       "      <td>0.0</td>\n",
       "      <td>169.055000</td>\n",
       "      <td>122.185000</td>\n",
       "    </tr>\n",
       "    <tr>\n",
       "      <th>75%</th>\n",
       "      <td>31.515000</td>\n",
       "      <td>7.672500</td>\n",
       "      <td>10.220000</td>\n",
       "      <td>14.655000</td>\n",
       "      <td>12.857500</td>\n",
       "      <td>0.780000</td>\n",
       "      <td>32.782500</td>\n",
       "      <td>77.762500</td>\n",
       "      <td>0.0</td>\n",
       "      <td>200.160000</td>\n",
       "      <td>211.150000</td>\n",
       "    </tr>\n",
       "    <tr>\n",
       "      <th>max</th>\n",
       "      <td>124.130000</td>\n",
       "      <td>13.770000</td>\n",
       "      <td>22.560000</td>\n",
       "      <td>35.200000</td>\n",
       "      <td>37.180000</td>\n",
       "      <td>1.310000</td>\n",
       "      <td>105.960000</td>\n",
       "      <td>95.770000</td>\n",
       "      <td>0.0</td>\n",
       "      <td>295.280000</td>\n",
       "      <td>381.260000</td>\n",
       "    </tr>\n",
       "  </tbody>\n",
       "</table>\n",
       "</div>"
      ],
      "text/plain": [
       "             PM25          NO         NO2         NOx         SO2          CO  \\\n",
       "count  366.000000  366.000000  366.000000  366.000000  366.000000  366.000000   \n",
       "mean    25.733169    4.943306    7.167951   11.518962    9.938600    0.667869   \n",
       "std     14.788371    2.736721    4.815048    5.118922    7.866677    0.210030   \n",
       "min      3.110000    0.010000    0.000000    0.000000    1.120000    0.330000   \n",
       "25%     15.447500    2.880000    3.627500    8.560000    4.317500    0.510000   \n",
       "50%     25.980000    4.460000    6.335000   10.130000    6.975000    0.580000   \n",
       "75%     31.515000    7.672500   10.220000   14.655000   12.857500    0.780000   \n",
       "max    124.130000   13.770000   22.560000   35.200000   37.180000    1.310000   \n",
       "\n",
       "            Ozone          RH   Temp          WD          SR  \n",
       "count  366.000000  366.000000  366.0  366.000000  366.000000  \n",
       "mean    25.993661   73.610437    0.0  159.355956  139.028497  \n",
       "std     15.307176    7.984963    0.0   53.822402   85.683727  \n",
       "min      3.490000   47.310000    0.0   23.850000    0.000000  \n",
       "25%     15.515000   68.392500    0.0  125.820000   67.062500  \n",
       "50%     22.930000   73.075000    0.0  169.055000  122.185000  \n",
       "75%     32.782500   77.762500    0.0  200.160000  211.150000  \n",
       "max    105.960000   95.770000    0.0  295.280000  381.260000  "
      ]
     },
     "execution_count": 328,
     "metadata": {},
     "output_type": "execute_result"
    }
   ],
   "source": [
    "df1.describe()"
   ]
  },
  {
   "cell_type": "code",
   "execution_count": 329,
   "metadata": {},
   "outputs": [
    {
     "data": {
      "text/html": [
       "<div>\n",
       "<style scoped>\n",
       "    .dataframe tbody tr th:only-of-type {\n",
       "        vertical-align: middle;\n",
       "    }\n",
       "\n",
       "    .dataframe tbody tr th {\n",
       "        vertical-align: top;\n",
       "    }\n",
       "\n",
       "    .dataframe thead th {\n",
       "        text-align: right;\n",
       "    }\n",
       "</style>\n",
       "<table border=\"1\" class=\"dataframe\">\n",
       "  <thead>\n",
       "    <tr style=\"text-align: right;\">\n",
       "      <th></th>\n",
       "      <th>PM25</th>\n",
       "      <th>PM10</th>\n",
       "      <th>NO</th>\n",
       "      <th>NO2</th>\n",
       "      <th>NOx</th>\n",
       "      <th>NH3</th>\n",
       "      <th>SO2</th>\n",
       "      <th>CO</th>\n",
       "      <th>Ozone</th>\n",
       "      <th>WD</th>\n",
       "      <th>SR</th>\n",
       "      <th>RH</th>\n",
       "      <th>AT</th>\n",
       "    </tr>\n",
       "  </thead>\n",
       "  <tbody>\n",
       "    <tr>\n",
       "      <th>count</th>\n",
       "      <td>366.000000</td>\n",
       "      <td>366.000000</td>\n",
       "      <td>366.000000</td>\n",
       "      <td>366.000000</td>\n",
       "      <td>366.000000</td>\n",
       "      <td>366.000000</td>\n",
       "      <td>366.000000</td>\n",
       "      <td>366.000000</td>\n",
       "      <td>366.000000</td>\n",
       "      <td>366.000000</td>\n",
       "      <td>366.000000</td>\n",
       "      <td>366.000000</td>\n",
       "      <td>366.000000</td>\n",
       "    </tr>\n",
       "    <tr>\n",
       "      <th>mean</th>\n",
       "      <td>28.527939</td>\n",
       "      <td>36.359399</td>\n",
       "      <td>0.821360</td>\n",
       "      <td>26.849970</td>\n",
       "      <td>25.316108</td>\n",
       "      <td>6.033107</td>\n",
       "      <td>9.321826</td>\n",
       "      <td>0.628323</td>\n",
       "      <td>14.289251</td>\n",
       "      <td>154.507275</td>\n",
       "      <td>210.487126</td>\n",
       "      <td>74.000210</td>\n",
       "      <td>26.193283</td>\n",
       "    </tr>\n",
       "    <tr>\n",
       "      <th>std</th>\n",
       "      <td>14.690539</td>\n",
       "      <td>15.749880</td>\n",
       "      <td>2.394362</td>\n",
       "      <td>15.919327</td>\n",
       "      <td>14.834148</td>\n",
       "      <td>3.442085</td>\n",
       "      <td>4.786549</td>\n",
       "      <td>0.247707</td>\n",
       "      <td>7.695592</td>\n",
       "      <td>70.334451</td>\n",
       "      <td>47.019151</td>\n",
       "      <td>14.100469</td>\n",
       "      <td>1.859873</td>\n",
       "    </tr>\n",
       "    <tr>\n",
       "      <th>min</th>\n",
       "      <td>2.820000</td>\n",
       "      <td>4.850000</td>\n",
       "      <td>0.030000</td>\n",
       "      <td>3.820000</td>\n",
       "      <td>0.000000</td>\n",
       "      <td>0.020000</td>\n",
       "      <td>0.840000</td>\n",
       "      <td>0.000000</td>\n",
       "      <td>1.920000</td>\n",
       "      <td>61.340000</td>\n",
       "      <td>62.850000</td>\n",
       "      <td>6.170000</td>\n",
       "      <td>21.520000</td>\n",
       "    </tr>\n",
       "    <tr>\n",
       "      <th>25%</th>\n",
       "      <td>17.915000</td>\n",
       "      <td>25.250000</td>\n",
       "      <td>0.732500</td>\n",
       "      <td>15.590000</td>\n",
       "      <td>15.867500</td>\n",
       "      <td>3.562500</td>\n",
       "      <td>6.150000</td>\n",
       "      <td>0.490000</td>\n",
       "      <td>8.287500</td>\n",
       "      <td>88.085000</td>\n",
       "      <td>184.097500</td>\n",
       "      <td>69.887500</td>\n",
       "      <td>24.940000</td>\n",
       "    </tr>\n",
       "    <tr>\n",
       "      <th>50%</th>\n",
       "      <td>25.940000</td>\n",
       "      <td>34.880000</td>\n",
       "      <td>0.821360</td>\n",
       "      <td>22.705000</td>\n",
       "      <td>23.000000</td>\n",
       "      <td>6.033107</td>\n",
       "      <td>6.755000</td>\n",
       "      <td>0.628323</td>\n",
       "      <td>13.590000</td>\n",
       "      <td>154.507275</td>\n",
       "      <td>210.783563</td>\n",
       "      <td>76.705000</td>\n",
       "      <td>26.060000</td>\n",
       "    </tr>\n",
       "    <tr>\n",
       "      <th>75%</th>\n",
       "      <td>34.250000</td>\n",
       "      <td>44.360000</td>\n",
       "      <td>0.821360</td>\n",
       "      <td>35.162500</td>\n",
       "      <td>28.570000</td>\n",
       "      <td>8.565000</td>\n",
       "      <td>14.267500</td>\n",
       "      <td>0.760000</td>\n",
       "      <td>18.827500</td>\n",
       "      <td>224.052500</td>\n",
       "      <td>244.712500</td>\n",
       "      <td>82.537500</td>\n",
       "      <td>26.862500</td>\n",
       "    </tr>\n",
       "    <tr>\n",
       "      <th>max</th>\n",
       "      <td>100.210000</td>\n",
       "      <td>112.170000</td>\n",
       "      <td>46.220000</td>\n",
       "      <td>78.180000</td>\n",
       "      <td>79.240000</td>\n",
       "      <td>18.700000</td>\n",
       "      <td>23.220000</td>\n",
       "      <td>1.530000</td>\n",
       "      <td>49.710000</td>\n",
       "      <td>281.930000</td>\n",
       "      <td>349.000000</td>\n",
       "      <td>93.340000</td>\n",
       "      <td>32.120000</td>\n",
       "    </tr>\n",
       "  </tbody>\n",
       "</table>\n",
       "</div>"
      ],
      "text/plain": [
       "             PM25        PM10          NO         NO2         NOx         NH3  \\\n",
       "count  366.000000  366.000000  366.000000  366.000000  366.000000  366.000000   \n",
       "mean    28.527939   36.359399    0.821360   26.849970   25.316108    6.033107   \n",
       "std     14.690539   15.749880    2.394362   15.919327   14.834148    3.442085   \n",
       "min      2.820000    4.850000    0.030000    3.820000    0.000000    0.020000   \n",
       "25%     17.915000   25.250000    0.732500   15.590000   15.867500    3.562500   \n",
       "50%     25.940000   34.880000    0.821360   22.705000   23.000000    6.033107   \n",
       "75%     34.250000   44.360000    0.821360   35.162500   28.570000    8.565000   \n",
       "max    100.210000  112.170000   46.220000   78.180000   79.240000   18.700000   \n",
       "\n",
       "              SO2          CO       Ozone          WD          SR          RH  \\\n",
       "count  366.000000  366.000000  366.000000  366.000000  366.000000  366.000000   \n",
       "mean     9.321826    0.628323   14.289251  154.507275  210.487126   74.000210   \n",
       "std      4.786549    0.247707    7.695592   70.334451   47.019151   14.100469   \n",
       "min      0.840000    0.000000    1.920000   61.340000   62.850000    6.170000   \n",
       "25%      6.150000    0.490000    8.287500   88.085000  184.097500   69.887500   \n",
       "50%      6.755000    0.628323   13.590000  154.507275  210.783563   76.705000   \n",
       "75%     14.267500    0.760000   18.827500  224.052500  244.712500   82.537500   \n",
       "max     23.220000    1.530000   49.710000  281.930000  349.000000   93.340000   \n",
       "\n",
       "               AT  \n",
       "count  366.000000  \n",
       "mean    26.193283  \n",
       "std      1.859873  \n",
       "min     21.520000  \n",
       "25%     24.940000  \n",
       "50%     26.060000  \n",
       "75%     26.862500  \n",
       "max     32.120000  "
      ]
     },
     "execution_count": 329,
     "metadata": {},
     "output_type": "execute_result"
    }
   ],
   "source": [
    "df2.describe()"
   ]
  },
  {
   "cell_type": "code",
   "execution_count": 330,
   "metadata": {},
   "outputs": [
    {
     "data": {
      "text/plain": [
       "(366, 12)"
      ]
     },
     "execution_count": 330,
     "metadata": {},
     "output_type": "execute_result"
    }
   ],
   "source": [
    "df1.shape\n",
    "#Equal Dimensions"
   ]
  },
  {
   "cell_type": "code",
   "execution_count": 331,
   "metadata": {},
   "outputs": [
    {
     "data": {
      "text/plain": [
       "(366, 14)"
      ]
     },
     "execution_count": 331,
     "metadata": {},
     "output_type": "execute_result"
    }
   ],
   "source": [
    "df2.shape\n",
    "#Equal Dimensions"
   ]
  },
  {
   "cell_type": "markdown",
   "metadata": {},
   "source": [
    "# Check for Missing values"
   ]
  },
  {
   "cell_type": "code",
   "execution_count": 332,
   "metadata": {},
   "outputs": [
    {
     "name": "stdout",
     "output_type": "stream",
     "text": [
      "Missing values:\n",
      "\n",
      " Date     0\n",
      "PM25     0\n",
      "NO       0\n",
      "NO2      0\n",
      "NOx      0\n",
      "SO2      0\n",
      "CO       0\n",
      "Ozone    0\n",
      "RH       0\n",
      "Temp     0\n",
      "WD       0\n",
      "SR       0\n",
      "dtype: int64\n",
      "\n",
      "\n",
      "No Missing Values\n"
     ]
    }
   ],
   "source": [
    "#Counting Missing Values from each Column\n",
    "print('Missing values:\\n\\n',df1.shape[0]-df1.count())\n",
    "clean=(df1.shape[0]-df1.count()).sum()\n",
    "print(\"\\n\")\n",
    "if(clean==0):\n",
    "    print(\"No Missing Values\")"
   ]
  },
  {
   "cell_type": "code",
   "execution_count": 333,
   "metadata": {},
   "outputs": [
    {
     "name": "stdout",
     "output_type": "stream",
     "text": [
      "Missing values:\n",
      "\n",
      " DATE     0\n",
      "PM25     0\n",
      "PM10     0\n",
      "NO       0\n",
      "NO2      0\n",
      "NOx      0\n",
      "NH3      0\n",
      "SO2      0\n",
      "CO       0\n",
      "Ozone    0\n",
      "WD       0\n",
      "SR       0\n",
      "RH       0\n",
      "AT       0\n",
      "dtype: int64\n",
      "\n",
      "\n",
      "No Missing Values\n"
     ]
    }
   ],
   "source": [
    "#Counting Missing Values from each Column\n",
    "print('Missing values:\\n\\n',df2.shape[0]-df2.count())\n",
    "clean=(df2.shape[0]-df2.count()).sum()\n",
    "print(\"\\n\")\n",
    "if(clean==0):\n",
    "    print(\"No Missing Values\")"
   ]
  },
  {
   "cell_type": "markdown",
   "metadata": {},
   "source": [
    "# Compare Datasets "
   ]
  },
  {
   "cell_type": "code",
   "execution_count": 334,
   "metadata": {},
   "outputs": [
    {
     "data": {
      "text/plain": [
       "<Figure size 432x288 with 0 Axes>"
      ]
     },
     "metadata": {},
     "output_type": "display_data"
    },
    {
     "data": {
      "image/png": "[encoded data removed]",
      "text/plain": [
       "<Figure size 432x288 with 1 Axes>"
      ]
     },
     "metadata": {
      "needs_background": "light"
     },
     "output_type": "display_data"
    },
    {
     "data": {
      "text/plain": [
       "<Figure size 432x288 with 0 Axes>"
      ]
     },
     "metadata": {},
     "output_type": "display_data"
    },
    {
     "data": {
      "image/png": "[encoded data removed]",
      "text/plain": [
       "<Figure size 432x288 with 1 Axes>"
      ]
     },
     "metadata": {
      "needs_background": "light"
     },
     "output_type": "display_data"
    }
   ],
   "source": [
    "# VELACHERY DATASET REPRESENTATION\n",
    "df3 = pd.DataFrame({'PM25 ':np.random.randn(30),'NO2':np.random.randn(30),\n",
    "                   'SO2':np.random.randn(30),'CO ':np.random.randn(30)\n",
    "                   ,'Ozone':np.random.randn(30)},\n",
    "    columns =['PM25','NO2','SO2','CO', 'Ozone'])\n",
    "plt.figure()\n",
    "df3.plot.hist(alpha = 0.5)\n",
    "plt.title(\"Velachery Pollutants Rate\")\n",
    "plt.show()\n",
    "\n",
    "\n",
    "# COIMBATORE DATASET REPRESENTATION\n",
    "\n",
    "df4 = pd.DataFrame({'PM25':np.random.randn(30),'PM10':np.random.randn(30),'NO2 ':np.random.randn(30),\n",
    "                   'SO2':np.random.randn(30),'CO':np.random.randn(30)\n",
    "                   ,'Ozone':np.random.randn(30)},\n",
    "    columns =['PM25','PM10','NO2','SO2','CO', 'Ozone'])\n",
    "\n",
    "plt.figure()\n",
    "df4.plot.hist(alpha = 0.5)\n",
    "plt.title(\"COIMBATORE Pollutants Rate\")\n",
    "plt.show()"
   ]
  },
  {
   "cell_type": "markdown",
   "metadata": {},
   "source": [
    "# CORRELATION AMONG VARIABLES"
   ]
  },
  {
   "cell_type": "code",
   "execution_count": 335,
   "metadata": {},
   "outputs": [
    {
     "data": {
      "image/png": "[encoded data removed]",
      "text/plain": [
       "<Figure size 432x288 with 2 Axes>"
      ]
     },
     "metadata": {
      "needs_background": "light"
     },
     "output_type": "display_data"
    }
   ],
   "source": [
    "sns.heatmap(df1.corr(),annot=True, linewidths=.2)\n",
    "plt.title('Heatmap of co-relation between variables',fontsize=16)\n",
    "plt.show()"
   ]
  },
  {
   "cell_type": "code",
   "execution_count": 336,
   "metadata": {},
   "outputs": [
    {
     "data": {
      "image/png": "[encoded data removed]",
      "text/plain": [
       "<Figure size 432x288 with 2 Axes>"
      ]
     },
     "metadata": {
      "needs_background": "light"
     },
     "output_type": "display_data"
    }
   ],
   "source": [
    "sns.heatmap(df2.corr(),annot=True, linewidths=.2)\n",
    "plt.title('Heatmap of co-relation between variables',fontsize=16)\n",
    "plt.show()"
   ]
  },
  {
   "cell_type": "markdown",
   "metadata": {},
   "source": [
    "# Understanding Linearity between Relative Humidity(RH) & other variables"
   ]
  },
  {
   "cell_type": "code",
   "execution_count": 337,
   "metadata": {},
   "outputs": [
    {
     "data": {
      "image/png": "[encoded data removed]",
      "text/plain": [
       "<Figure size 360x360 with 1 Axes>"
      ]
     },
     "metadata": {
      "needs_background": "light"
     },
     "output_type": "display_data"
    },
    {
     "data": {
      "image/png": "[encoded data removed]",
      "text/plain": [
       "<Figure size 360x360 with 1 Axes>"
      ]
     },
     "metadata": {
      "needs_background": "light"
     },
     "output_type": "display_data"
    },
    {
     "data": {
      "image/png": "[encoded data removed]",
      "text/plain": [
       "<Figure size 360x360 with 1 Axes>"
      ]
     },
     "metadata": {
      "needs_background": "light"
     },
     "output_type": "display_data"
    },
    {
     "data": {
      "image/png": "[encoded data removed]",
      "text/plain": [
       "<Figure size 360x360 with 1 Axes>"
      ]
     },
     "metadata": {
      "needs_background": "light"
     },
     "output_type": "display_data"
    },
    {
     "data": {
      "image/png": "[encoded data removed]",
      "text/plain": [
       "<Figure size 360x360 with 1 Axes>"
      ]
     },
     "metadata": {
      "needs_background": "light"
     },
     "output_type": "display_data"
    },
    {
     "data": {
      "image/png": "[encoded data removed]",
      "text/plain": [
       "<Figure size 360x360 with 1 Axes>"
      ]
     },
     "metadata": {
      "needs_background": "light"
     },
     "output_type": "display_data"
    },
    {
     "data": {
      "image/png": "[encoded data removed]",
      "text/plain": [
       "<Figure size 360x360 with 1 Axes>"
      ]
     },
     "metadata": {
      "needs_background": "light"
     },
     "output_type": "display_data"
    },
    {
     "data": {
      "image/png": "[encoded data removed]",
      "text/plain": [
       "<Figure size 360x360 with 1 Axes>"
      ]
     },
     "metadata": {
      "needs_background": "light"
     },
     "output_type": "display_data"
    },
    {
     "data": {
      "image/png": "[encoded data removed]",
      "text/plain": [
       "<Figure size 360x360 with 1 Axes>"
      ]
     },
     "metadata": {
      "needs_background": "light"
     },
     "output_type": "display_data"
    },
    {
     "data": {
      "image/png": "[encoded data removed]",
      "text/plain": [
       "<Figure size 360x360 with 1 Axes>"
      ]
     },
     "metadata": {
      "needs_background": "light"
     },
     "output_type": "display_data"
    }
   ],
   "source": [
    "col2=df1.columns.tolist()[2:]\n",
    "for i in df1.columns.tolist()[2:]:\n",
    "    sns.lmplot(x=i,y='RH',data=df1,markers='+')"
   ]
  },
  {
   "cell_type": "code",
   "execution_count": null,
   "metadata": {},
   "outputs": [],
   "source": []
  },
  {
   "cell_type": "markdown",
   "metadata": {},
   "source": [
    "# Find AQI On Concentration of PM2.5 on 24 hour average"
   ]
  },
  {
   "cell_type": "markdown",
   "metadata": {},
   "source": [
    "\n",
    "# AQI Category                              Index Values   \n",
    "            Good                                        0   -  30 \n",
    "            Satisfactory                                30  -  60\n",
    "            Moderate                                    60  –  90\n",
    "            Poor                                        90  –  120\n",
    "            Very Poor                                   120 –  250\n",
    "            SEVERE                                      250 –  380                                 "
   ]
  },
  {
   "cell_type": "code",
   "execution_count": 339,
   "metadata": {},
   "outputs": [
    {
     "name": "stdout",
     "output_type": "stream",
     "text": [
      "Enter Date:25-05-2020 00:00\n",
      "******************************************************************************\n",
      " Values of Velachery Dataset \n",
      "\n",
      "                Date   PM25    NO   NO2   NOx    SO2    CO  Ozone     RH  \\\n",
      "54  25-05-2020 00:00  16.18  8.58  1.88  8.91  12.06  0.94  43.23  74.49   \n",
      "\n",
      "    Temp      WD      SR  \n",
      "54   0.0  163.23  238.58   \n",
      "\n",
      "******************************************************************************\n",
      " Values of COIMBATORE Dataset \n",
      "\n",
      "                DATE   PM25   PM10       NO    NO2    NOx   NH3   SO2    CO  \\\n",
      "54  25-05-2020 00:00  24.99  36.95  0.82136  48.19  36.62  0.79  6.87  0.89   \n",
      "\n",
      "    Ozone     WD      SR     RH     AT  \n",
      "54  17.48  75.29  263.81  31.15  29.85  \n",
      "******************************************************************************\n"
     ]
    }
   ],
   "source": [
    "# print(\"Enter Date in DD-MM-YYYY 00:00 format:\")\n",
    "#d=input(\"Enter Date:\")\n",
    "#df1=pd.read_csv('velachery.csv')\n",
    "#df2=pd.read_csv('SIDCO Kurichi, Coimbatore - TNPCB.csv')\n",
    "\n",
    "# print(\"Enter Date in DD-MM-YYYY format:\")\n",
    "d=input(\"Enter Date:\")\n",
    "print(\"******************************************************************************\")\n",
    "#Select specific row of your dataframe\n",
    "print(\" Values of Velachery Dataset\",'\\n')\n",
    "print(df1.loc[df1['Date'] == d],'\\n')\n",
    "\n",
    "print(\"******************************************************************************\")\n",
    "print(\" Values of COIMBATORE Dataset\",'\\n')\n",
    "print(df2.loc[df2['DATE'] == d])\n",
    "\n",
    "print(\"******************************************************************************\")\n",
    "\n",
    "#df1.loc[(df1['Date'] == d) & df1['PM2.52.5'].isin(df1)]"
   ]
  },
  {
   "cell_type": "code",
   "execution_count": 340,
   "metadata": {},
   "outputs": [
    {
     "name": "stdout",
     "output_type": "stream",
     "text": [
      "Enter the Row_Value from the above output:54\n",
      "Dataset 1 - PM2.5 Value:  16.18\n",
      "Dataset 2 - PM2.5 Value:  24.99\n"
     ]
    }
   ],
   "source": [
    "row=int(input(\"Enter the Row_Value from the above output:\"))\n",
    "#Locate PM2.52.5 value\n",
    "value1 = df1.iloc[row][\"PM25\"]\n",
    "value2=df2.iloc[row][\"PM25\"]\n",
    "print(\"Dataset 1 - PM2.5 Value: \",value1)\n",
    "print(\"Dataset 2 - PM2.5 Value: \",value2)"
   ]
  },
  {
   "cell_type": "code",
   "execution_count": 341,
   "metadata": {},
   "outputs": [],
   "source": [
    "value1=value1.astype('int')\n",
    "value2=value2.astype('int')"
   ]
  },
  {
   "cell_type": "markdown",
   "metadata": {},
   "source": [
    "        AQI Category                              Index Values\n",
    "        Good                                        0   -  30 \n",
    "        Satisfactory                                30  -  60\n",
    "        Moderate                                    60  –  90\n",
    "        Poor                                        90  –  120\n",
    "        Very Poor                                   120 –  250\n",
    "        SEVERE                                      250 –  380 "
   ]
  },
  {
   "cell_type": "code",
   "execution_count": 342,
   "metadata": {},
   "outputs": [
    {
     "name": "stdout",
     "output_type": "stream",
     "text": [
      "16 Good\n"
     ]
    }
   ],
   "source": [
    "# Find the AQI Category of PM2.52.5 of First Dataset\n",
    "if value1 > 250 and value1 < 380:\n",
    "    print(value1,\"Severe\")\n",
    "elif value1 > 120 and value1 < 250:\n",
    "    print(value1,\"Very Poor\")\n",
    "elif value1 > 90 and value1 < 120:\n",
    "    print(value1,\"Poor\")\n",
    "elif value1 > 60 and value1 < 90:\n",
    "    print(value1,\"Moderate\")\n",
    "elif value1 > 30 and value1 < 60:\n",
    "    print(value1,\"Satisfactory\")\n",
    "elif value1 > 0 and value1 < 30:\n",
    "    print(value1,\"Good\")\n",
    "else:\n",
    "        print(\"error\")"
   ]
  },
  {
   "cell_type": "code",
   "execution_count": 343,
   "metadata": {},
   "outputs": [
    {
     "name": "stdout",
     "output_type": "stream",
     "text": [
      "24 Good\n"
     ]
    }
   ],
   "source": [
    "# Find the AQI Category of PM2.5 of Second Dataset\n",
    "if value2 > 250 and value2 < 380:\n",
    "    print(value2,\"Severe\")\n",
    "elif value2 > 120 and value2 < 250:\n",
    "    print(value2,\"Very Poor\")\n",
    "elif value2 > 90 and value2 < 120:\n",
    "    print(value2,\"Poor\")\n",
    "elif value2 > 60 and value2 < 90:\n",
    "    print(value2,\"Moderate\")\n",
    "elif value2 > 30 and value2 < 60:\n",
    "    print(value2,\"Satisfactory\")\n",
    "elif value2 > 0 and value2 < 30:\n",
    "    print(value2,\"Good\")\n",
    "else:\n",
    "        print(\"error\")"
   ]
  },
  {
   "cell_type": "code",
   "execution_count": 344,
   "metadata": {},
   "outputs": [
    {
     "data": {
      "image/png": "[encoded data removed]",
      "text/plain": [
       "<Figure size 432x288 with 1 Axes>"
      ]
     },
     "metadata": {
      "needs_background": "light"
     },
     "output_type": "display_data"
    }
   ],
   "source": [
    "fig = plt.figure()\n",
    "x1=['Velachery','Coimbatore']\n",
    "y1=[value1,value2]\n",
    "plt.title(\"Variation of PM2.5 In Velachery and Coimbatore\")\n",
    "plt.bar(x1,y1,width=0.2,color=\"green\")\n",
    "plt.show()"
   ]
  },
  {
   "cell_type": "markdown",
   "metadata": {},
   "source": [
    "# Variation from Dataset"
   ]
  },
  {
   "cell_type": "code",
   "execution_count": 345,
   "metadata": {},
   "outputs": [
    {
     "data": {
      "image/png": "[encoded data removed]",
      "text/plain": [
       "<Figure size 432x288 with 1 Axes>"
      ]
     },
     "metadata": {
      "needs_background": "light"
     },
     "output_type": "display_data"
    }
   ],
   "source": [
    "df1['PM25'].plot.line()\n",
    "y1 = df1['PM25'] # DATASET 1\n",
    "y2 = df2['PM25'] # DATASET 2\n",
    "plt.title(\"Variation of PM2.5 In Velachery and  Coimbatore\")\n",
    "plt.plot(y1)\n",
    "plt.plot(y2)\n",
    "\n",
    "plt.show()"
   ]
  },
  {
   "cell_type": "markdown",
   "metadata": {},
   "source": [
    "# Determining AIQ Value"
   ]
  },
  {
   "cell_type": "markdown",
   "metadata": {},
   "source": [
    "        AQI Category                               Index Values \n",
    "        Good                                        0   -  50 \n",
    "        Satisfactory                                51  -  100\n",
    "        Moderate                                    101 –  200\n",
    "        Poor                                        201 –  300\n",
    "        Very Poor                                   301 –  400\n",
    "        SEVERE                                      401 –  500       "
   ]
  },
  {
   "cell_type": "code",
   "execution_count": 346,
   "metadata": {},
   "outputs": [],
   "source": [
    "X=df2[\"CO\"].mean()\n",
    "B=df2[\"NO2\"].mean()\n",
    "C=df2[\"SO2\"].mean()\n",
    "D=df2[\"PM25\"].mean()\n",
    "E=df2[\"Ozone\"].mean()\n"
   ]
  },
  {
   "cell_type": "code",
   "execution_count": 347,
   "metadata": {},
   "outputs": [
    {
     "name": "stdout",
     "output_type": "stream",
     "text": [
      "Avg of Pollutants:-  15.923462037917455\n"
     ]
    }
   ],
   "source": [
    "Z1=(X+B+C+D+E)/5\n",
    "print(\"Avg of Pollutants:- \",Z1)"
   ]
  },
  {
   "cell_type": "code",
   "execution_count": 348,
   "metadata": {},
   "outputs": [
    {
     "name": "stdout",
     "output_type": "stream",
     "text": [
      "15.923462037917455 Good\n"
     ]
    }
   ],
   "source": [
    "if Z1 > 401 and Z1 < 500:\n",
    "    print(Z1,\"Severe\")\n",
    "elif Z1 > 301 and Z1 < 400:\n",
    "    print(Z1,\"Very Poor\")\n",
    "elif Z1 > 201 and Z1 < 300:\n",
    "    print(Z1,\"Poor\")\n",
    "elif Z1 > 101 and Z1 < 200:\n",
    "    print(Z1,\"Moderate\")\n",
    "elif Z1 > 51 and Z1 < 100:\n",
    "    print(Z1,\"Satisfactory\")\n",
    "elif Z1 > 0 and Z1 < 50:\n",
    "    print(Z1,\"Good\")\n",
    "else:\n",
    "    print(\"error\")"
   ]
  },
  {
   "cell_type": "code",
   "execution_count": 349,
   "metadata": {},
   "outputs": [],
   "source": [
    "X=df2[\"CO\"].mean()\n",
    "B=df2[\"NO2\"].mean()\n",
    "C=df2[\"SO2\"].mean()\n",
    "D=df2[\"PM25\"].mean()\n",
    "E=df2[\"Ozone\"].mean()\n",
    "F=df2[\"PM10\"].mean()\n"
   ]
  },
  {
   "cell_type": "code",
   "execution_count": 350,
   "metadata": {},
   "outputs": [
    {
     "name": "stdout",
     "output_type": "stream",
     "text": [
      "Avg of Pollutants:-  19.32945159816445\n"
     ]
    }
   ],
   "source": [
    "Z2=(X+B+C+D+E+F)/6\n",
    "print(\"Avg of Pollutants:- \",Z2)"
   ]
  },
  {
   "cell_type": "code",
   "execution_count": 351,
   "metadata": {},
   "outputs": [
    {
     "name": "stdout",
     "output_type": "stream",
     "text": [
      "19.32945159816445 Good\n"
     ]
    }
   ],
   "source": [
    "if Z2 > 401 and Z2 < 500:\n",
    "    print(Z2,\"Severe\")\n",
    "elif Z2 > 301 and Z2 < 400:\n",
    "    print(Z2,\"Very Poor\")\n",
    "elif Z2 > 201 and Z2 < 300:\n",
    "    print(Z2,\"Poor\")\n",
    "elif Z2 > 101 and Z2 < 200:\n",
    "    print(Z2,\"Moderate\")\n",
    "elif Z2 > 51 and Z2 < 100:\n",
    "    print(Z2,\"Satisfactory\")\n",
    "elif Z2 > 0 and Z2 < 50:\n",
    "    print(Z2,\"Good\")\n",
    "else:\n",
    "    print(\"error\")"
   ]
  },
  {
   "cell_type": "code",
   "execution_count": 352,
   "metadata": {},
   "outputs": [
    {
     "data": {
      "image/png": "[encoded data removed]",
      "text/plain": [
       "<Figure size 432x288 with 1 Axes>"
      ]
     },
     "metadata": {
      "needs_background": "light"
     },
     "output_type": "display_data"
    }
   ],
   "source": [
    "fig = plt.figure()\n",
    "x1=['Velachery','Coimbatore']\n",
    "y1=[Z1,Z2]\n",
    "plt.title(\"Variation of AQI In Velachery and Coimbatore\")\n",
    "plt.bar(x1,y1,width=0.2,color=\"green\")\n",
    "plt.show()"
   ]
  },
  {
   "cell_type": "raw",
   "metadata": {},
   "source": [
    "Regression : It is a Supervised Learning task where output is having continuous value.\n",
    "\n",
    "Example in above Figure B, Output – Wind Speed is not having any discrete value but is continuous in the particular range. \n",
    "\n",
    "The goal here is to predict a value as much closer to actual output value as our model can and then evaluation is done by calculating error value. \n",
    "\n",
    "The smaller the error the greater the accuracy of our regression model.\n",
    " \n",
    "Examples of Supervised Learning Algorithms:\n",
    "\n",
    "1] Linear Regression\n",
    "2] Nearest Neighbor\n",
    "3] Guassian Naive Bayes\n",
    "4] Decision Trees\n",
    "5] Support Vector Machine (SVM)\n",
    "6] Random Forest"
   ]
  },
  {
   "cell_type": "markdown",
   "metadata": {},
   "source": [
    "# REGRESSION ANALYSIS ON Solar Radiation (SR)"
   ]
  },
  {
   "cell_type": "code",
   "execution_count": 353,
   "metadata": {},
   "outputs": [],
   "source": [
    "from sklearn.preprocessing import StandardScaler \n",
    "from sklearn.model_selection import train_test_split\n",
    "from sklearn.linear_model import LinearRegression"
   ]
  },
  {
   "cell_type": "code",
   "execution_count": 354,
   "metadata": {},
   "outputs": [
    {
     "data": {
      "text/html": [
       "<div>\n",
       "<style scoped>\n",
       "    .dataframe tbody tr th:only-of-type {\n",
       "        vertical-align: middle;\n",
       "    }\n",
       "\n",
       "    .dataframe tbody tr th {\n",
       "        vertical-align: top;\n",
       "    }\n",
       "\n",
       "    .dataframe thead th {\n",
       "        text-align: right;\n",
       "    }\n",
       "</style>\n",
       "<table border=\"1\" class=\"dataframe\">\n",
       "  <thead>\n",
       "    <tr style=\"text-align: right;\">\n",
       "      <th></th>\n",
       "      <th>NO</th>\n",
       "      <th>NO2</th>\n",
       "      <th>NOx</th>\n",
       "      <th>SO2</th>\n",
       "      <th>CO</th>\n",
       "      <th>Ozone</th>\n",
       "      <th>RH</th>\n",
       "      <th>Temp</th>\n",
       "      <th>WD</th>\n",
       "    </tr>\n",
       "  </thead>\n",
       "  <tbody>\n",
       "    <tr>\n",
       "      <th>0</th>\n",
       "      <td>8.27</td>\n",
       "      <td>1.17</td>\n",
       "      <td>8.19</td>\n",
       "      <td>8.73</td>\n",
       "      <td>0.73</td>\n",
       "      <td>16.57</td>\n",
       "      <td>67.52</td>\n",
       "      <td>0.0</td>\n",
       "      <td>154.94</td>\n",
       "    </tr>\n",
       "    <tr>\n",
       "      <th>1</th>\n",
       "      <td>7.60</td>\n",
       "      <td>1.64</td>\n",
       "      <td>8.22</td>\n",
       "      <td>8.04</td>\n",
       "      <td>0.74</td>\n",
       "      <td>18.42</td>\n",
       "      <td>68.80</td>\n",
       "      <td>0.0</td>\n",
       "      <td>174.52</td>\n",
       "    </tr>\n",
       "    <tr>\n",
       "      <th>2</th>\n",
       "      <td>7.58</td>\n",
       "      <td>1.83</td>\n",
       "      <td>8.43</td>\n",
       "      <td>7.37</td>\n",
       "      <td>0.73</td>\n",
       "      <td>16.27</td>\n",
       "      <td>67.83</td>\n",
       "      <td>0.0</td>\n",
       "      <td>159.07</td>\n",
       "    </tr>\n",
       "    <tr>\n",
       "      <th>3</th>\n",
       "      <td>8.32</td>\n",
       "      <td>1.64</td>\n",
       "      <td>8.65</td>\n",
       "      <td>5.79</td>\n",
       "      <td>0.76</td>\n",
       "      <td>13.19</td>\n",
       "      <td>65.33</td>\n",
       "      <td>0.0</td>\n",
       "      <td>145.94</td>\n",
       "    </tr>\n",
       "    <tr>\n",
       "      <th>4</th>\n",
       "      <td>7.69</td>\n",
       "      <td>1.47</td>\n",
       "      <td>8.18</td>\n",
       "      <td>2.54</td>\n",
       "      <td>0.76</td>\n",
       "      <td>10.89</td>\n",
       "      <td>71.29</td>\n",
       "      <td>0.0</td>\n",
       "      <td>152.40</td>\n",
       "    </tr>\n",
       "  </tbody>\n",
       "</table>\n",
       "</div>"
      ],
      "text/plain": [
       "     NO   NO2   NOx   SO2    CO  Ozone     RH  Temp      WD\n",
       "0  8.27  1.17  8.19  8.73  0.73  16.57  67.52   0.0  154.94\n",
       "1  7.60  1.64  8.22  8.04  0.74  18.42  68.80   0.0  174.52\n",
       "2  7.58  1.83  8.43  7.37  0.73  16.27  67.83   0.0  159.07\n",
       "3  8.32  1.64  8.65  5.79  0.76  13.19  65.33   0.0  145.94\n",
       "4  7.69  1.47  8.18  2.54  0.76  10.89  71.29   0.0  152.40"
      ]
     },
     "execution_count": 354,
     "metadata": {},
     "output_type": "execute_result"
    }
   ],
   "source": [
    "#Let X-input and Y-input features\n",
    "X=df1[col2].drop('SR',1)     \n",
    "Y=df1['SR']   \n",
    "SScaler=StandardScaler()\n",
    "Xsd=SScaler.fit_transform(X)    #applying standardisation\n",
    "X.head()"
   ]
  },
  {
   "cell_type": "code",
   "execution_count": 355,
   "metadata": {},
   "outputs": [
    {
     "data": {
      "text/plain": [
       "0    283.76\n",
       "1    259.23\n",
       "2    250.10\n",
       "3    282.04\n",
       "4    260.81\n",
       "Name: SR, dtype: float64"
      ]
     },
     "execution_count": 355,
     "metadata": {},
     "output_type": "execute_result"
    }
   ],
   "source": [
    "Y.head()"
   ]
  },
  {
   "cell_type": "code",
   "execution_count": 356,
   "metadata": {},
   "outputs": [],
   "source": [
    "X_train, X_test, y_train, y_test=train_test_split(Xsd,Y,test_size=0.4, random_state=3)"
   ]
  },
  {
   "cell_type": "code",
   "execution_count": 357,
   "metadata": {},
   "outputs": [],
   "source": [
    "model= LinearRegression()"
   ]
  },
  {
   "cell_type": "code",
   "execution_count": 358,
   "metadata": {},
   "outputs": [
    {
     "data": {
      "text/plain": [
       "LinearRegression()"
      ]
     },
     "execution_count": 358,
     "metadata": {},
     "output_type": "execute_result"
    }
   ],
   "source": [
    "model.fit(X_train,y_train)"
   ]
  },
  {
   "cell_type": "code",
   "execution_count": 359,
   "metadata": {},
   "outputs": [
    {
     "name": "stdout",
     "output_type": "stream",
     "text": [
      "Intercept: 141.11695868011608\n"
     ]
    }
   ],
   "source": [
    "print('Intercept:',model.intercept_)"
   ]
  },
  {
   "cell_type": "code",
   "execution_count": 360,
   "metadata": {},
   "outputs": [
    {
     "data": {
      "text/plain": [
       "array([141.68100126, 124.58344751,  69.60078825, 196.03281962,\n",
       "       114.05444743,  96.42202102,  96.28560921, 184.11236756,\n",
       "        67.70469939,  94.94339174,  87.04930209, 210.22501622,\n",
       "       146.12014829, 206.4418285 , 116.81841284, 142.47292471,\n",
       "       250.81619849, 221.80598176, 124.08302114, 106.67413503,\n",
       "       234.15771719,  79.99533833, 105.05138891, 146.33771662,\n",
       "       114.40359356, 134.0380101 , 111.76267586, 131.21904242,\n",
       "       221.26963501, 210.88387826, 266.28320283, 160.58743411,\n",
       "        99.08412381, 108.78279517, 138.77317401,  52.50649572,\n",
       "       241.8946338 ,  68.43991668, 170.28873334, 161.07098663,\n",
       "       204.16040555,  91.00363147, 165.06177335, 146.7695363 ,\n",
       "        95.44778816,  72.40809143, 130.18954878, 267.72172137,\n",
       "       226.64325817, 173.44458551, 108.24822757,  20.68682746,\n",
       "       240.97281545, 134.44369278, 144.72995079, 133.92317284,\n",
       "       154.01887426, 106.15250728, 184.72691582, 101.66303418,\n",
       "       118.59312854, 113.20480219, 217.15552374, 105.92008675,\n",
       "       246.95091642, 229.4477876 , 220.96902872, 124.92974303,\n",
       "       175.73073653, 164.56059595, 116.32157786, 176.09588446,\n",
       "        93.88072107, 186.5867315 , 187.58302396,  60.41186402,\n",
       "       142.0958838 , 122.45186664, 235.65540284, 309.14438574,\n",
       "       221.36177547,  74.08021031, 125.12651341,  86.9806823 ,\n",
       "       233.261959  , 174.17193631, 200.26872479, 279.43860958,\n",
       "       230.62133052, 273.12185279, 241.04121617, 116.3261313 ,\n",
       "        77.07546653, 216.0393489 , 218.26375895,  92.51730847,\n",
       "        77.87952427, 136.15412244,  61.14566911,  77.4105983 ,\n",
       "       160.62546556, 167.29405387, 254.49309647,  64.71188566,\n",
       "        66.26684193,  76.73931668, 250.44295042,  70.42027961,\n",
       "       114.7717765 , 123.51358774, 265.97886219,  77.72693153,\n",
       "       117.95613867, 125.46533169, 128.17406672, 154.80248121,\n",
       "       304.18464891, 109.7464686 , 249.20788395,  82.91288603,\n",
       "       147.22847513, 158.83194612,  74.06391245, 141.39146797,\n",
       "       284.5275843 ,  22.5538156 ,  75.86221557, 182.5445674 ,\n",
       "       225.58727524, 215.08508334, 149.93930617, 116.46063135,\n",
       "       123.90928803, 162.46726464, 107.06739227, 155.4223542 ,\n",
       "        86.42906535, 194.49523269, 111.71142595, 191.52635916,\n",
       "       103.57183012, 157.00472999, 134.23008117,  71.61488784,\n",
       "        89.86413237, 245.17431249, 116.06644283])"
      ]
     },
     "execution_count": 360,
     "metadata": {},
     "output_type": "execute_result"
    }
   ],
   "source": [
    "prediction = model.predict(X_test)\n",
    "prediction"
   ]
  },
  {
   "cell_type": "code",
   "execution_count": 361,
   "metadata": {},
   "outputs": [
    {
     "data": {
      "text/plain": [
       "102    291.79\n",
       "330    170.79\n",
       "240     66.42\n",
       "24     236.64\n",
       "134     20.41\n",
       "        ...  \n",
       "157    243.63\n",
       "193    106.17\n",
       "168    102.76\n",
       "3      282.04\n",
       "154    119.77\n",
       "Name: SR, Length: 147, dtype: float64"
      ]
     },
     "execution_count": 361,
     "metadata": {},
     "output_type": "execute_result"
    }
   ],
   "source": [
    "y_test"
   ]
  },
  {
   "cell_type": "code",
   "execution_count": 362,
   "metadata": {},
   "outputs": [
    {
     "name": "stdout",
     "output_type": "stream",
     "text": [
      "Co-efficient:\n"
     ]
    },
    {
     "data": {
      "text/plain": [
       "[('NO', -9.614179659349526),\n",
       " ('NO2', -78.13703766249932),\n",
       " ('NOx', 55.2471364291561),\n",
       " ('SO2', -2.549836869903803),\n",
       " ('CO', 23.984200914962628),\n",
       " ('Ozone', -0.24663718816504776),\n",
       " ('RH', -37.99384903097754),\n",
       " ('Temp', 0.0),\n",
       " ('WD', -22.32206761880083)]"
      ]
     },
     "execution_count": 362,
     "metadata": {},
     "output_type": "execute_result"
    }
   ],
   "source": [
    "print(\"Co-efficient:\")\n",
    "list(zip(X.columns,model.coef_))"
   ]
  },
  {
   "cell_type": "code",
   "execution_count": 363,
   "metadata": {},
   "outputs": [
    {
     "name": "stdout",
     "output_type": "stream",
     "text": [
      "62.595455290714035\n",
      "\n",
      "\n",
      "Therefore by applying Linear Regression we can predict RH using all the features together with RSME= 62.595455290714035\n"
     ]
    }
   ],
   "source": [
    "#Root Mean Square Error\n",
    "from sklearn import metrics\n",
    "rs=np.sqrt(metrics.mean_squared_error(y_test,prediction))\n",
    "print(rs)\n",
    "print(\"\\n\")\n",
    "print(\"Therefore by applying Linear Regression we can predict RH using all the features together with RSME=\",rs)"
   ]
  },
  {
   "cell_type": "code",
   "execution_count": 364,
   "metadata": {},
   "outputs": [
    {
     "data": {
      "image/png": "[encoded data removed]",
      "text/plain": [
       "<Figure size 432x288 with 1 Axes>"
      ]
     },
     "metadata": {
      "needs_background": "light"
     },
     "output_type": "display_data"
    }
   ],
   "source": [
    "plt.scatter(y_test,prediction)\n",
    "plt.xlabel('Measured')\n",
    "plt.ylabel('Predicted')\n",
    "plt.title('Linear Regression vs Actual')\n",
    "plt.show()"
   ]
  },
  {
   "cell_type": "markdown",
   "metadata": {},
   "source": [
    "# DECISON TREE REGRESSION"
   ]
  },
  {
   "cell_type": "code",
   "execution_count": 365,
   "metadata": {},
   "outputs": [],
   "source": [
    "from sklearn.tree import DecisionTreeRegressor  \n",
    "model2=DecisionTreeRegressor()"
   ]
  },
  {
   "cell_type": "code",
   "execution_count": 366,
   "metadata": {},
   "outputs": [
    {
     "data": {
      "text/plain": [
       "DecisionTreeRegressor()"
      ]
     },
     "execution_count": 366,
     "metadata": {},
     "output_type": "execute_result"
    }
   ],
   "source": [
    "model2.fit(X_train,y_train)"
   ]
  },
  {
   "cell_type": "code",
   "execution_count": 367,
   "metadata": {},
   "outputs": [
    {
     "data": {
      "text/plain": [
       "array([112.44, 204.23,  84.38, 247.49,  43.52,  48.78,  33.74, 214.73,\n",
       "        39.89,  43.52,  73.75, 279.31, 129.35, 261.3 , 143.44,  83.86,\n",
       "       282.29, 269.93, 191.49, 192.86, 269.93,  83.74,  92.87, 114.61,\n",
       "        71.01, 111.53,  71.  , 146.82, 219.82, 221.61, 164.  ,  76.97,\n",
       "        39.89,  22.81,  53.77,  58.74, 278.06,  52.05, 109.44, 227.27,\n",
       "       269.87,  71.  , 153.52, 176.81, 148.35,  58.74,  65.77, 302.77,\n",
       "       238.58, 129.35, 198.01,  23.75,  75.23,  78.75, 109.44, 198.01,\n",
       "        22.18,  61.94, 261.3 ,  79.02, 115.08, 153.52, 269.93, 204.23,\n",
       "       125.97, 381.26,  75.23, 128.01, 145.41, 289.49,  76.97, 269.51,\n",
       "        78.75, 127.28, 109.44,  73.75, 108.87, 156.72, 274.73, 278.06,\n",
       "       168.12,  70.58, 109.44, 166.87, 291.39, 321.92, 168.12, 238.58,\n",
       "       291.39, 278.06, 234.81,  39.89,  61.94, 164.  , 253.78,  86.56,\n",
       "        53.39,  15.87,  10.04, 153.52, 269.93, 197.25, 302.77,  55.85,\n",
       "        53.39, 153.75, 278.06,  52.05, 109.44, 111.53, 302.77,  61.19,\n",
       "        22.37,  86.56, 212.14, 307.77,  82.87,  59.95, 172.34, 167.39,\n",
       "        39.89, 212.14,  33.74, 214.4 , 270.22,  68.59,  53.57, 204.57,\n",
       "       264.99, 168.12, 200.19,  25.68, 198.01,  65.38,  78.75, 112.44,\n",
       "        39.89, 281.78, 106.14,  92.44, 128.01, 167.03, 206.5 ,  86.56,\n",
       "        45.95, 291.39, 204.23])"
      ]
     },
     "execution_count": 367,
     "metadata": {},
     "output_type": "execute_result"
    }
   ],
   "source": [
    "prediction2=model2.predict(X_test) \n",
    "prediction2"
   ]
  },
  {
   "cell_type": "code",
   "execution_count": 368,
   "metadata": {},
   "outputs": [
    {
     "data": {
      "image/png": "[encoded data removed]",
      "text/plain": [
       "<Figure size 432x288 with 1 Axes>"
      ]
     },
     "metadata": {
      "needs_background": "light"
     },
     "output_type": "display_data"
    }
   ],
   "source": [
    "plt.scatter(y_test,prediction2,color='red')\n",
    "plt.xlabel('Measured')\n",
    "plt.ylabel('Predicted')                                                                                                                                                                                                                                                                                                                                \n",
    "plt.title('Decision Tree Regression vs Actual')\n",
    "plt.show()"
   ]
  },
  {
   "cell_type": "code",
   "execution_count": 369,
   "metadata": {},
   "outputs": [
    {
     "name": "stdout",
     "output_type": "stream",
     "text": [
      "73.05725183894138\n",
      "\n",
      "\n",
      "Therefore by applying Decision Tree Regression we can predict RH using all the features together with RSME= 73.05725183894138\n"
     ]
    }
   ],
   "source": [
    "#Root Mean Square Error\n",
    "from sklearn import metrics\n",
    "rs2=np.sqrt(metrics.mean_squared_error(y_test,prediction2))\n",
    "print(rs2)\n",
    "print(\"\\n\")\n",
    "print(\"Therefore by applying Decision Tree Regression we can predict RH using all the features together with RSME=\",rs2)"
   ]
  },
  {
   "cell_type": "markdown",
   "metadata": {},
   "source": [
    "# Random Forest Regression"
   ]
  },
  {
   "cell_type": "code",
   "execution_count": 372,
   "metadata": {},
   "outputs": [],
   "source": [
    "from sklearn.ensemble import RandomForestRegressor          \n",
    "model3=RandomForestRegressor()"
   ]
  },
  {
   "cell_type": "code",
   "execution_count": 373,
   "metadata": {},
   "outputs": [
    {
     "data": {
      "text/plain": [
       "RandomForestRegressor()"
      ]
     },
     "execution_count": 373,
     "metadata": {},
     "output_type": "execute_result"
    }
   ],
   "source": [
    "model3.fit(X_train,y_train)"
   ]
  },
  {
   "cell_type": "code",
   "execution_count": 374,
   "metadata": {},
   "outputs": [
    {
     "data": {
      "text/plain": [
       "array([111.5721, 120.4393,  76.9179, 241.1364,  54.1751, 123.2187,\n",
       "        67.818 , 195.8281,  70.2678,  98.3533,  83.262 , 267.1502,\n",
       "       147.528 , 252.0004, 136.6348, 120.0067, 265.2538, 259.8379,\n",
       "       155.0012,  91.6238, 264.2712,  75.0891, 104.0331, 122.0027,\n",
       "        76.7306, 110.6974,  55.0566,  73.499 , 239.7084, 275.9552,\n",
       "       163.9073,  97.5524,  79.8338,  36.4992, 132.0238,  62.627 ,\n",
       "       262.7279,  44.8352, 198.3154, 146.6628, 229.0047,  47.3818,\n",
       "       119.3489, 172.4668,  74.4004,  70.1423,  90.3812, 241.0538,\n",
       "       248.321 , 203.0996, 121.231 ,  39.9805, 196.8708, 128.5701,\n",
       "       171.2386, 168.2985, 165.5138,  86.9987, 242.3923,  79.8162,\n",
       "       157.4062, 133.3054, 254.0193, 166.1771, 139.2283, 270.4943,\n",
       "       161.4613, 152.9412, 162.7205, 141.5927,  80.5649, 249.0071,\n",
       "        84.1831, 139.2143, 189.6844,  72.4845, 104.1519, 129.1752,\n",
       "       270.4806, 258.1133, 210.009 ,  56.4639, 149.5074,  83.6946,\n",
       "       230.5655, 242.4271, 208.3288, 242.2581, 264.5908, 246.007 ,\n",
       "       246.3114,  73.0531,  88.2315, 152.3262, 263.4527, 117.0496,\n",
       "        56.4256, 116.9279,  40.5832, 121.8402, 249.842 , 154.8286,\n",
       "       257.2777,  51.0545,  74.1865,  78.6181, 256.1436,  42.9341,\n",
       "       153.8515, 113.642 , 230.7282,  72.2008,  88.0077, 131.2728,\n",
       "       163.8476, 233.086 , 158.2506, 112.607 , 150.4256, 122.9814,\n",
       "        84.2761, 170.13  ,  53.389 , 175.2785, 259.1439,  71.2164,\n",
       "        68.9332, 201.1891, 251.3701, 212.4318, 139.1187,  47.2309,\n",
       "       178.2269,  60.1774,  88.9589, 107.642 ,  45.1549, 233.854 ,\n",
       "       105.5049, 173.9555, 152.6194, 191.7213, 124.8936, 120.9654,\n",
       "        97.2602, 271.6703, 162.5707])"
      ]
     },
     "execution_count": 374,
     "metadata": {},
     "output_type": "execute_result"
    }
   ],
   "source": [
    "prediction3=model3.predict(X_test) \n",
    "prediction3"
   ]
  },
  {
   "cell_type": "code",
   "execution_count": 375,
   "metadata": {},
   "outputs": [
    {
     "data": {
      "image/png": "[encoded data removed]",
      "text/plain": [
       "<Figure size 432x288 with 1 Axes>"
      ]
     },
     "metadata": {
      "needs_background": "light"
     },
     "output_type": "display_data"
    }
   ],
   "source": [
    "plt.scatter(y_test,prediction3,color='green')\n",
    "plt.xlabel('Measured')\n",
    "plt.ylabel('Predicted')\n",
    "plt.title('Random Forest Regression vs Actual')\n",
    "plt.show()"
   ]
  },
  {
   "cell_type": "code",
   "execution_count": 376,
   "metadata": {},
   "outputs": [
    {
     "name": "stdout",
     "output_type": "stream",
     "text": [
      "56.056139062573564\n",
      "\n",
      "\n",
      "Therefore by applying Random Forest Regression we can predict RH using all the features together with RSME= 56.056139062573564\n"
     ]
    }
   ],
   "source": [
    "#Root Mean Square Error\n",
    "from sklearn import metrics\n",
    "rs3=np.sqrt(metrics.mean_squared_error(y_test,prediction3))\n",
    "print(rs3)\n",
    "print(\"\\n\")\n",
    "print(\"Therefore by applying Random Forest Regression we can predict RH using all the features together with RSME=\",rs3)"
   ]
  },
  {
   "cell_type": "markdown",
   "metadata": {},
   "source": [
    "# Support Vector Machine"
   ]
  },
  {
   "cell_type": "code",
   "execution_count": 377,
   "metadata": {},
   "outputs": [],
   "source": [
    "from sklearn.svm import SVR          \n",
    "model4=SVR()"
   ]
  },
  {
   "cell_type": "code",
   "execution_count": 378,
   "metadata": {},
   "outputs": [
    {
     "data": {
      "text/plain": [
       "SVR()"
      ]
     },
     "execution_count": 378,
     "metadata": {},
     "output_type": "execute_result"
    }
   ],
   "source": [
    "model4.fit(X_train,y_train)"
   ]
  },
  {
   "cell_type": "code",
   "execution_count": 379,
   "metadata": {},
   "outputs": [
    {
     "data": {
      "text/plain": [
       "array([117.66431756, 111.34031298, 111.3466943 , 130.41907165,\n",
       "       113.91894599, 111.29644856, 111.83838966, 123.68157561,\n",
       "       102.46210425, 112.31674738,  99.38184972, 132.38792308,\n",
       "       117.93816424, 128.3536258 , 115.8111884 , 112.5399496 ,\n",
       "       126.76353605, 133.58869151, 115.1835852 , 104.35325266,\n",
       "       135.21586008, 101.78863906, 113.1244411 , 108.32147466,\n",
       "       108.07226018, 106.78390694, 105.99181277, 109.32897628,\n",
       "       130.89021121, 132.93487323, 125.5234053 , 119.58020934,\n",
       "       103.20617777, 113.20986173, 116.70161972, 108.20302731,\n",
       "       124.77419542, 100.1769762 , 122.53456618, 119.35996503,\n",
       "       128.76228205, 105.35058201, 119.79703483, 116.94128089,\n",
       "       110.19869923, 101.13974441, 107.71132147, 128.86827613,\n",
       "       130.02511492, 122.18261878, 109.42091211,  99.25141168,\n",
       "       125.9849652 , 106.93083977, 116.49684274, 114.10274271,\n",
       "       116.4760287 , 104.26248149, 123.18406501, 109.45262514,\n",
       "       114.18492894, 112.37701557, 125.73049218, 110.63577177,\n",
       "       112.75835589, 117.10637268, 126.70183316, 113.16471972,\n",
       "       114.16406251, 120.9980808 , 112.90351007, 127.63878268,\n",
       "       109.79119949, 113.26973392, 125.5925508 ,  97.94628176,\n",
       "       108.55218908, 114.84120233, 127.79674577, 125.67791102,\n",
       "       131.68937654,  99.35898097, 114.88301682, 110.33453841,\n",
       "       127.65405461, 122.26021896, 129.14485976, 126.88982036,\n",
       "       134.40702813, 127.03693947, 133.65712507, 113.97780956,\n",
       "       104.3402118 , 116.51504853, 132.98127361, 111.60797579,\n",
       "       109.5055556 , 117.8532178 , 106.24198639, 110.22977449,\n",
       "       121.93377339, 117.05878212, 127.43548604, 107.04936155,\n",
       "       107.9994066 , 102.4405358 , 127.84647962, 100.68097007,\n",
       "       115.08844893, 104.92382225, 126.99940533, 108.80533658,\n",
       "       114.42389977, 114.92737957, 115.41368417, 119.18258113,\n",
       "       125.13881061, 113.7119543 , 125.59434735, 108.52200641,\n",
       "       107.10935053, 115.37413838, 110.73759615, 116.39800274,\n",
       "       124.72290255,  97.3725222 , 100.93874732, 119.04704255,\n",
       "       133.59494967, 131.00577018, 118.83446626, 114.49274095,\n",
       "       112.41709617, 109.76827526, 110.422546  , 118.62834484,\n",
       "       108.83831448, 129.08632175, 106.79631416, 112.89560491,\n",
       "       110.48011149, 116.99592552, 114.20899306, 109.44213312,\n",
       "       110.6176447 , 134.77083417, 114.47465626])"
      ]
     },
     "execution_count": 379,
     "metadata": {},
     "output_type": "execute_result"
    }
   ],
   "source": [
    "prediction4=model4.predict(X_test) \n",
    "prediction4"
   ]
  },
  {
   "cell_type": "code",
   "execution_count": 384,
   "metadata": {},
   "outputs": [
    {
     "data": {
      "image/png": "[encoded data removed]",
      "text/plain": [
       "<Figure size 432x288 with 1 Axes>"
      ]
     },
     "metadata": {
      "needs_background": "light"
     },
     "output_type": "display_data"
    }
   ],
   "source": [
    "plt.scatter(y_test,prediction4,color='hotpink')\n",
    "plt.xlabel('Measured')\n",
    "plt.ylabel('Predicted')\n",
    "plt.title('Support Vector Machine vs Actual')\n",
    "plt.show()"
   ]
  },
  {
   "cell_type": "code",
   "execution_count": 385,
   "metadata": {},
   "outputs": [
    {
     "name": "stdout",
     "output_type": "stream",
     "text": [
      "82.28652690549119\n",
      "\n",
      "\n",
      "Therefore by applying Support Vector Machine we can predict RH using all the features together with RSME= 82.28652690549119\n"
     ]
    }
   ],
   "source": [
    "#Root Mean Square Error\n",
    "from sklearn import metrics\n",
    "rs4=np.sqrt(metrics.mean_squared_error(y_test,prediction4))\n",
    "print(rs4)\n",
    "print(\"\\n\")\n",
    "print(\"Therefore by applying Support Vector Machine we can predict RH using all the features together with RSME=\",rs4)"
   ]
  },
  {
   "cell_type": "markdown",
   "metadata": {},
   "source": [
    "# Conclusion"
   ]
  },
  {
   "cell_type": "code",
   "execution_count": 386,
   "metadata": {},
   "outputs": [
    {
     "name": "stdout",
     "output_type": "stream",
     "text": [
      "We got following RMSE by applying different regression:\n",
      "\n",
      "\n",
      "Linear Regression= 62.595455290714035 \n",
      "\n",
      "Decision Tree Regression= 73.05725183894138 \n",
      "\n",
      "Random Forest Regression= 56.056139062573564 \n",
      "\n",
      "Support Vector Machine Regression= 82.28652690549119 \n",
      "\n"
     ]
    }
   ],
   "source": [
    "print(\"We got following RMSE by applying different regression:\\n\\n\")\n",
    "print(\"Linear Regression=\",rs,\"\\n\")\n",
    "print(\"Decision Tree Regression=\",rs2,\"\\n\")\n",
    "print(\"Random Forest Regression=\",rs3,\"\\n\")\n",
    "print(\"Support Vector Machine Regression=\",rs4,\"\\n\")"
   ]
  },
  {
   "cell_type": "code",
   "execution_count": 387,
   "metadata": {},
   "outputs": [
    {
     "name": "stdout",
     "output_type": "stream",
     "text": [
      "So we acheive best results from:\n",
      "{'Random Forest Regression': 56.056139062573564}\n"
     ]
    }
   ],
   "source": [
    "print(\"So we acheive best results from:\")\n",
    "dict={\"Linear Regression\": rs,\"Decision Tree Regression\": rs2,\"Random Forest Regression\": rs3, \"Support Vector Machine Regression\":rs4   }\n",
    "res =  [key for key in dict if \n",
    "        all(dict[temp] >= dict[key] \n",
    "        for temp in dict)] \n",
    "min_ = {k: dict[k] for k in dict.keys() & set(res)}\n",
    "print(min_)\n"
   ]
  },
  {
   "cell_type": "markdown",
   "metadata": {},
   "source": [
    "# SOLAR RADIATION VALUE - PREDICTED WITH BEST RESULT"
   ]
  },
  {
   "cell_type": "code",
   "execution_count": null,
   "metadata": {},
   "outputs": [],
   "source": []
  },
  {
   "cell_type": "markdown",
   "metadata": {},
   "source": [
    "# From the given datasets, the values are determined and compared to find Air Quality Index and found that both Chennai and Coimbatore are at GOOD level."
   ]
  },
  {
   "cell_type": "code",
   "execution_count": null,
   "metadata": {},
   "outputs": [],
   "source": []
  },
  {
   "cell_type": "code",
   "execution_count": null,
   "metadata": {},
   "outputs": [],
   "source": []
  }
 ],
 "metadata": {
  "kernelspec": {
   "display_name": "Python 3",
   "language": "python",
   "name": "python3"
  },
  "language_info": {
   "codemirror_mode": {
    "name": "ipython",
    "version": 3
   },
   "file_extension": ".py",
   "mimetype": "text/x-python",
   "name": "python",
   "nbconvert_exporter": "python",
   "pygments_lexer": "ipython3",
   "version": "3.8.3"
  }
 },
 "nbformat": 4,
 "nbformat_minor": 4
}
